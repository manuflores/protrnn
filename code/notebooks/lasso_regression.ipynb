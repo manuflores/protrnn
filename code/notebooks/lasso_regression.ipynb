{
 "cells": [
  {
   "cell_type": "markdown",
   "metadata": {},
   "source": [
    "### Testing protein representations using linear regression"
   ]
  },
  {
   "cell_type": "code",
   "execution_count": 1,
   "metadata": {
    "ExecuteTime": {
     "end_time": "2020-08-10T21:47:12.585284Z",
     "start_time": "2020-08-10T21:47:10.666170Z"
    }
   },
   "outputs": [
    {
     "data": {
      "text/plain": [
       "<torch._C.Generator at 0x7fe8e025f5d0>"
      ]
     },
     "execution_count": 1,
     "metadata": {},
     "output_type": "execute_result"
    }
   ],
   "source": [
    "%load_ext blackcellmagic\n",
    "%load_ext autoreload\n",
    "%autoreload 2\n",
    "import os\n",
    "import pandas as pd \n",
    "import numpy as np \n",
    "import tqdm \n",
    "import glob\n",
    "\n",
    "\n",
    "import torch\n",
    "import torch.nn as nn \n",
    "import torch.optim as optim \n",
    "\n",
    "import torchvision \n",
    "import torchvision.transforms as transforms \n",
    "import torch.nn.functional as F\n",
    "from torch.autograd import Variable\n",
    "from torch.nn.utils.rnn import pad_sequence\n",
    "from torch.utils.data import Dataset, IterableDataset, DataLoader\n",
    "\n",
    "from sklearn.linear_model import Lasso\n",
    "\n",
    "import protrnn as pr\n",
    "\n",
    "seed = 4\n",
    "np.random.seed(seed)\n",
    "torch.manual_seed(seed)\n",
    "\n",
    "\n",
    "import bokeh\n",
    "import bokeh_catplot\n",
    "import holoviews as hv\n",
    "hv.extension('bokeh')\n"
   ]
  },
  {
   "cell_type": "markdown",
   "metadata": {},
   "source": [
    "The purpose of this notebook is to use our previously trained model to predict a property of some input proteins. For this example we'll be using the localization dataset from [*Yang et al.*](https://academic.oup.com/bioinformatics/article/34/15/2642/4951834) from the Arnold Lab at Caltech.\n",
    "\n",
    "This dataset comes from [a previous paper](https://www.pnas.org/content/pnas/114/13/E2624.full.pdf) from the Arnold Lab, were they used a recombination-based method to generate a library of new Channelrhodopsins. They measured expression, localization and localization efficiency. We'll be using the localization metric, which represents the amount of fluorescence from GFP (in arbitrary units). The way they measure localization is via the [SpyTag/SpyCatcher system ](https://www.sciencedirect.com/science/article/pii/S107455211500246X?via%3Dihub). In brief, they use a small tag (SpyTag) to label the Channelrhodopsins. Those Channelrhodopsins that get to the membrane will find their cognate GFP label with a complementary sequence to the tag (SpyCatcher). In this way, one can measure the amount of proteins that localize to the membrane using fluorescence imaging. "
   ]
  },
  {
   "cell_type": "markdown",
   "metadata": {},
   "source": [
    "The task we have at hand is, to train a model, that will predict the amount of localized protein (reported in log(GFP) units) using the vectorized representation from the hidden state of our RNN after passing the protein through the net.  Let's get started! "
   ]
  },
  {
   "cell_type": "markdown",
   "metadata": {},
   "source": [
    "### Load pretrained model "
   ]
  },
  {
   "cell_type": "code",
   "execution_count": 2,
   "metadata": {
    "ExecuteTime": {
     "end_time": "2020-08-10T21:47:12.613004Z",
     "start_time": "2020-08-10T21:47:12.588678Z"
    }
   },
   "outputs": [],
   "source": [
    "aminoacid_list = [\n",
    "    'A', 'C', 'D', 'E', 'F', 'G', 'H', 'I', 'K', 'L',\n",
    "    'M', 'N', 'P', 'Q', 'R', 'S', 'T', 'V', 'W', 'Y'\n",
    "]"
   ]
  },
  {
   "cell_type": "code",
   "execution_count": 3,
   "metadata": {
    "ExecuteTime": {
     "end_time": "2020-08-10T21:47:12.652780Z",
     "start_time": "2020-08-10T21:47:12.617793Z"
    }
   },
   "outputs": [],
   "source": [
    "embedding_size= 10\n",
    "hidden_size = 128\n",
    "n_aminoacids = len(aminoacid_list) + 1\n",
    "\n",
    "rnn = pr.RNN_GRU(\n",
    "    input_size = n_aminoacids, \n",
    "    embedding_size = embedding_size, \n",
    "    hidden_size = hidden_size, \n",
    "    output_size = n_aminoacids\n",
    ")"
   ]
  },
  {
   "cell_type": "code",
   "execution_count": 4,
   "metadata": {
    "ExecuteTime": {
     "end_time": "2020-08-10T21:47:12.686031Z",
     "start_time": "2020-08-10T21:47:12.658419Z"
    }
   },
   "outputs": [],
   "source": [
    "path = '../../../thomson_lab/data/random_split/'"
   ]
  },
  {
   "cell_type": "code",
   "execution_count": 5,
   "metadata": {
    "ExecuteTime": {
     "end_time": "2020-08-10T21:47:12.855007Z",
     "start_time": "2020-08-10T21:47:12.689858Z"
    }
   },
   "outputs": [
    {
     "name": "stdout",
     "output_type": "stream",
     "text": [
      "aa.csv          dev_filt.csv    rnn_gru.pt      test_filt.csv   train_filt.csv\r\n",
      "\u001b[1m\u001b[36mdev\u001b[m\u001b[m/            dev_filt_.csv   \u001b[1m\u001b[36mtest\u001b[m\u001b[m/           \u001b[1m\u001b[36mtrain\u001b[m\u001b[m/\r\n"
     ]
    }
   ],
   "source": [
    "ls {path}"
   ]
  },
  {
   "cell_type": "code",
   "execution_count": 6,
   "metadata": {
    "ExecuteTime": {
     "end_time": "2020-08-10T21:47:12.895373Z",
     "start_time": "2020-08-10T21:47:12.860323Z"
    }
   },
   "outputs": [
    {
     "data": {
      "text/plain": [
       "<All keys matched successfully>"
      ]
     },
     "execution_count": 6,
     "metadata": {},
     "output_type": "execute_result"
    }
   ],
   "source": [
    "rnn.load_state_dict(torch.load(path + 'rnn_gru.pt'))"
   ]
  },
  {
   "cell_type": "code",
   "execution_count": 7,
   "metadata": {
    "ExecuteTime": {
     "end_time": "2020-08-10T21:47:12.926324Z",
     "start_time": "2020-08-10T21:47:12.899807Z"
    }
   },
   "outputs": [
    {
     "data": {
      "text/plain": [
       "RNN_GRU(\n",
       "  (log_softmax): LogSoftmax()\n",
       "  (embedding): Embedding(21, 10)\n",
       "  (gru): GRU(10, 128)\n",
       "  (decoder): Linear(in_features=128, out_features=21, bias=True)\n",
       ")"
      ]
     },
     "execution_count": 7,
     "metadata": {},
     "output_type": "execute_result"
    }
   ],
   "source": [
    "rnn"
   ]
  },
  {
   "cell_type": "markdown",
   "metadata": {},
   "source": [
    "### Load Yang et al enantioselectivity dataset "
   ]
  },
  {
   "cell_type": "code",
   "execution_count": 8,
   "metadata": {
    "ExecuteTime": {
     "end_time": "2020-08-10T21:47:12.957673Z",
     "start_time": "2020-08-10T21:47:12.929460Z"
    }
   },
   "outputs": [],
   "source": [
    "path_data = '~/Downloads/kkyang_SI/'"
   ]
  },
  {
   "cell_type": "code",
   "execution_count": 9,
   "metadata": {
    "ExecuteTime": {
     "end_time": "2020-08-10T21:47:12.994426Z",
     "start_time": "2020-08-10T21:47:12.961166Z"
    }
   },
   "outputs": [],
   "source": [
    "df = pd.read_csv(path_data + 'localization.txt')"
   ]
  },
  {
   "cell_type": "code",
   "execution_count": 10,
   "metadata": {
    "ExecuteTime": {
     "end_time": "2020-08-10T21:47:13.036356Z",
     "start_time": "2020-08-10T21:47:13.001607Z"
    }
   },
   "outputs": [
    {
     "data": {
      "text/html": [
       "<div>\n",
       "<style scoped>\n",
       "    .dataframe tbody tr th:only-of-type {\n",
       "        vertical-align: middle;\n",
       "    }\n",
       "\n",
       "    .dataframe tbody tr th {\n",
       "        vertical-align: top;\n",
       "    }\n",
       "\n",
       "    .dataframe thead th {\n",
       "        text-align: right;\n",
       "    }\n",
       "</style>\n",
       "<table border=\"1\" class=\"dataframe\">\n",
       "  <thead>\n",
       "    <tr style=\"text-align: right;\">\n",
       "      <th></th>\n",
       "      <th>name</th>\n",
       "      <th>sequence</th>\n",
       "      <th>log_GFP</th>\n",
       "      <th>is_train</th>\n",
       "      <th>m</th>\n",
       "    </tr>\n",
       "  </thead>\n",
       "  <tbody>\n",
       "    <tr>\n",
       "      <th>0</th>\n",
       "      <td>cschrimson</td>\n",
       "      <td>MSRLVAASWLLALLLCGITSTTTASAHIVMVDAYKPTKSAPAASST...</td>\n",
       "      <td>-4.626936</td>\n",
       "      <td>True</td>\n",
       "      <td>0.0</td>\n",
       "    </tr>\n",
       "    <tr>\n",
       "      <th>1</th>\n",
       "      <td>c1c2</td>\n",
       "      <td>MSRRPWLLALALAVALAAGSAGAAHIVMVDAYKPTKSTGSDATVPV...</td>\n",
       "      <td>-5.599110</td>\n",
       "      <td>True</td>\n",
       "      <td>0.0</td>\n",
       "    </tr>\n",
       "    <tr>\n",
       "      <th>2</th>\n",
       "      <td>cheriff</td>\n",
       "      <td>MGGAPAPDAHSAPPGNDSAAHIVMVDAYKPTKGGSEYHAPAGYQVN...</td>\n",
       "      <td>-5.715788</td>\n",
       "      <td>True</td>\n",
       "      <td>0.0</td>\n",
       "    </tr>\n",
       "    <tr>\n",
       "      <th>3</th>\n",
       "      <td>c1</td>\n",
       "      <td>MSRRPWLLALALAVALAAGSAGAAHIVMVDAYKPTKSTGSDATVPV...</td>\n",
       "      <td>-5.335352</td>\n",
       "      <td>True</td>\n",
       "      <td>32.0</td>\n",
       "    </tr>\n",
       "    <tr>\n",
       "      <th>4</th>\n",
       "      <td>c2</td>\n",
       "      <td>MSRRPWLLALALAVALAAGSAGAAHIVMVDAYKPTKSTGSDATVPV...</td>\n",
       "      <td>-4.187052</td>\n",
       "      <td>True</td>\n",
       "      <td>26.0</td>\n",
       "    </tr>\n",
       "  </tbody>\n",
       "</table>\n",
       "</div>"
      ],
      "text/plain": [
       "         name                                           sequence   log_GFP  \\\n",
       "0  cschrimson  MSRLVAASWLLALLLCGITSTTTASAHIVMVDAYKPTKSAPAASST... -4.626936   \n",
       "1        c1c2  MSRRPWLLALALAVALAAGSAGAAHIVMVDAYKPTKSTGSDATVPV... -5.599110   \n",
       "2     cheriff  MGGAPAPDAHSAPPGNDSAAHIVMVDAYKPTKGGSEYHAPAGYQVN... -5.715788   \n",
       "3          c1  MSRRPWLLALALAVALAAGSAGAAHIVMVDAYKPTKSTGSDATVPV... -5.335352   \n",
       "4          c2  MSRRPWLLALALAVALAAGSAGAAHIVMVDAYKPTKSTGSDATVPV... -4.187052   \n",
       "\n",
       "   is_train     m  \n",
       "0      True   0.0  \n",
       "1      True   0.0  \n",
       "2      True   0.0  \n",
       "3      True  32.0  \n",
       "4      True  26.0  "
      ]
     },
     "execution_count": 10,
     "metadata": {},
     "output_type": "execute_result"
    }
   ],
   "source": [
    "df.head()"
   ]
  },
  {
   "cell_type": "code",
   "execution_count": 11,
   "metadata": {
    "ExecuteTime": {
     "end_time": "2020-08-10T21:47:13.065931Z",
     "start_time": "2020-08-10T21:47:13.039282Z"
    }
   },
   "outputs": [
    {
     "data": {
      "text/plain": [
       "name        0\n",
       "sequence    0\n",
       "log_GFP     6\n",
       "is_train    0\n",
       "m           0\n",
       "dtype: int64"
      ]
     },
     "execution_count": 11,
     "metadata": {},
     "output_type": "execute_result"
    }
   ],
   "source": [
    "# Check if columns have nans\n",
    "df.isna().sum()"
   ]
  },
  {
   "cell_type": "markdown",
   "metadata": {},
   "source": [
    "Let's remove those proteins with NaNs in the dataset. "
   ]
  },
  {
   "cell_type": "code",
   "execution_count": 12,
   "metadata": {
    "ExecuteTime": {
     "end_time": "2020-08-10T21:47:13.096423Z",
     "start_time": "2020-08-10T21:47:13.068649Z"
    }
   },
   "outputs": [
    {
     "data": {
      "text/plain": [
       "(254, 5)"
      ]
     },
     "execution_count": 12,
     "metadata": {},
     "output_type": "execute_result"
    }
   ],
   "source": [
    "df.shape"
   ]
  },
  {
   "cell_type": "code",
   "execution_count": 13,
   "metadata": {
    "ExecuteTime": {
     "end_time": "2020-08-10T21:47:13.134801Z",
     "start_time": "2020-08-10T21:47:13.099540Z"
    }
   },
   "outputs": [],
   "source": [
    "df = df.dropna()"
   ]
  },
  {
   "cell_type": "code",
   "execution_count": 14,
   "metadata": {
    "ExecuteTime": {
     "end_time": "2020-08-10T21:47:13.165509Z",
     "start_time": "2020-08-10T21:47:13.138567Z"
    }
   },
   "outputs": [
    {
     "data": {
      "text/plain": [
       "(248, 5)"
      ]
     },
     "execution_count": 14,
     "metadata": {},
     "output_type": "execute_result"
    }
   ],
   "source": [
    "df.shape"
   ]
  },
  {
   "cell_type": "markdown",
   "metadata": {},
   "source": [
    "First-off, let's look at the distribution of GFP values of the train and test set. "
   ]
  },
  {
   "cell_type": "code",
   "execution_count": 167,
   "metadata": {
    "ExecuteTime": {
     "end_time": "2020-08-10T22:14:25.193938Z",
     "start_time": "2020-08-10T22:14:25.128046Z"
    }
   },
   "outputs": [],
   "source": [
    "p= bokeh_catplot.ecdf(df, val = 'log_GFP', cats = ['is_train'])"
   ]
  },
  {
   "cell_type": "code",
   "execution_count": 168,
   "metadata": {
    "ExecuteTime": {
     "end_time": "2020-08-10T22:14:25.955334Z",
     "start_time": "2020-08-10T22:14:25.887670Z"
    }
   },
   "outputs": [
    {
     "data": {
      "text/html": [
       "\n",
       "\n",
       "\n",
       "\n",
       "\n",
       "\n",
       "  <div class=\"bk-root\" id=\"2338b00b-68e5-43b5-be84-cbda0de05274\" data-root-id=\"7840\"></div>\n"
      ]
     },
     "metadata": {},
     "output_type": "display_data"
    },
    {
     "data": {
      "application/javascript": [
       "(function(root) {\n",
       "  function embed_document(root) {\n",
       "    \n",
       "  var docs_json = {\"d692421e-362b-4a06-98d7-ff402d48df8c\":{\"roots\":{\"references\":[{\"attributes\":{\"below\":[{\"id\":\"7849\"}],\"center\":[{\"id\":\"7852\"},{\"id\":\"7856\"},{\"id\":\"7886\"}],\"left\":[{\"id\":\"7853\"}],\"plot_height\":300,\"plot_width\":400,\"renderers\":[{\"id\":\"7875\"},{\"id\":\"7892\"}],\"title\":{\"id\":\"7877\"},\"toolbar\":{\"id\":\"7864\"},\"x_range\":{\"id\":\"7841\"},\"x_scale\":{\"id\":\"7845\"},\"y_range\":{\"id\":\"7843\"},\"y_scale\":{\"id\":\"7847\"}},\"id\":\"7840\",\"subtype\":\"Figure\",\"type\":\"Plot\"},{\"attributes\":{},\"id\":\"7843\",\"type\":\"DataRange1d\"},{\"attributes\":{},\"id\":\"7841\",\"type\":\"DataRange1d\"},{\"attributes\":{},\"id\":\"7857\",\"type\":\"PanTool\"},{\"attributes\":{},\"id\":\"7884\",\"type\":\"UnionRenderers\"},{\"attributes\":{\"source\":{\"id\":\"7871\"}},\"id\":\"7876\",\"type\":\"CDSView\"},{\"attributes\":{},\"id\":\"7882\",\"type\":\"BasicTickFormatter\"},{\"attributes\":{\"fill_color\":{\"value\":\"#ff7e0e\"},\"line_color\":{\"value\":\"#ff7e0e\"},\"x\":{\"field\":\"log_GFP\"},\"y\":{\"field\":\"__ECDF\"}},\"id\":\"7890\",\"type\":\"Circle\"},{\"attributes\":{},\"id\":\"7861\",\"type\":\"ResetTool\"},{\"attributes\":{\"label\":{\"value\":\"True\"},\"renderers\":[{\"id\":\"7875\"}]},\"id\":\"7887\",\"type\":\"LegendItem\"},{\"attributes\":{\"axis_label\":\"ECDF\",\"formatter\":{\"id\":\"7880\"},\"ticker\":{\"id\":\"7854\"}},\"id\":\"7853\",\"type\":\"LinearAxis\"},{\"attributes\":{},\"id\":\"7862\",\"type\":\"HelpTool\"},{\"attributes\":{\"data_source\":{\"id\":\"7888\"},\"glyph\":{\"id\":\"7890\"},\"hover_glyph\":null,\"muted_glyph\":null,\"nonselection_glyph\":{\"id\":\"7891\"},\"selection_glyph\":null,\"view\":{\"id\":\"7893\"}},\"id\":\"7892\",\"type\":\"GlyphRenderer\"},{\"attributes\":{\"data\":{\"__ECDF\":{\"__ndarray__\":\"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\",\"dtype\":\"float64\",\"order\":\"little\",\"shape\":[215]},\"__label\":[\"True\",\"True\",\"True\",\"True\",\"True\",\"True\",\"True\",\"True\",\"True\",\"True\",\"True\",\"True\",\"True\",\"True\",\"True\",\"True\",\"True\",\"True\",\"True\",\"True\",\"True\",\"True\",\"True\",\"True\",\"True\",\"True\",\"True\",\"True\",\"True\",\"True\",\"True\",\"True\",\"True\",\"True\",\"True\",\"True\",\"True\",\"True\",\"True\",\"True\",\"True\",\"True\",\"True\",\"True\",\"True\",\"True\",\"True\",\"True\",\"True\",\"True\",\"True\",\"True\",\"True\",\"True\",\"True\",\"True\",\"True\",\"True\",\"True\",\"True\",\"True\",\"True\",\"True\",\"True\",\"True\",\"True\",\"True\",\"True\",\"True\",\"True\",\"True\",\"True\",\"True\",\"True\",\"True\",\"True\",\"True\",\"True\",\"True\",\"True\",\"True\",\"True\",\"True\",\"True\",\"True\",\"True\",\"True\",\"True\",\"True\",\"True\",\"True\",\"True\",\"True\",\"True\",\"True\",\"True\",\"True\",\"True\",\"True\",\"True\",\"True\",\"True\",\"True\",\"True\",\"True\",\"True\",\"True\",\"True\",\"True\",\"True\",\"True\",\"True\",\"True\",\"True\",\"True\",\"True\",\"True\",\"True\",\"True\",\"True\",\"True\",\"True\",\"True\",\"True\",\"True\",\"True\",\"True\",\"True\",\"True\",\"True\",\"True\",\"True\",\"True\",\"True\",\"True\",\"True\",\"True\",\"True\",\"True\",\"True\",\"True\",\"True\",\"True\",\"True\",\"True\",\"True\",\"True\",\"True\",\"True\",\"True\",\"True\",\"True\",\"True\",\"True\",\"True\",\"True\",\"True\",\"True\",\"True\",\"True\",\"True\",\"True\",\"True\",\"True\",\"True\",\"True\",\"True\",\"True\",\"True\",\"True\",\"True\",\"True\",\"True\",\"True\",\"True\",\"True\",\"True\",\"True\",\"True\",\"True\",\"True\",\"True\",\"True\",\"True\",\"True\",\"True\",\"True\",\"True\",\"True\",\"True\",\"True\",\"True\",\"True\",\"True\",\"True\",\"True\",\"True\",\"True\",\"True\",\"True\",\"True\",\"True\",\"True\",\"True\",\"True\",\"True\",\"True\",\"True\",\"True\",\"True\",\"True\",\"True\",\"True\",\"True\",\"True\"],\"index\":[0,1,2,3,4,5,6,7,8,9,10,11,12,13,14,15,16,18,19,20,21,22,23,24,25,26,27,28,29,30,31,32,33,34,35,36,37,38,39,40,41,42,43,44,45,46,47,48,49,50,51,52,53,54,55,56,57,58,59,60,61,62,63,64,65,66,67,68,69,70,71,72,73,74,75,76,77,78,79,80,81,82,83,84,85,86,87,88,89,90,91,92,93,95,96,97,98,99,100,101,102,103,104,105,106,107,108,109,110,111,112,113,114,115,116,117,118,119,120,121,122,123,124,125,126,127,128,129,130,131,132,134,135,136,137,138,139,140,141,142,143,144,145,146,147,148,149,150,151,152,153,154,155,156,157,158,159,160,161,162,163,164,165,166,167,168,169,170,171,172,173,174,175,176,177,178,179,180,181,182,183,184,185,186,187,188,189,190,191,192,193,194,195,196,197,198,199,200,216,217,218,219,220,221,222,223,224,225,226,227,228,229,230,231,232],\"is_train\":[true,true,true,true,true,true,true,true,true,true,true,true,true,true,true,true,true,true,true,true,true,true,true,true,true,true,true,true,true,true,true,true,true,true,true,true,true,true,true,true,true,true,true,true,true,true,true,true,true,true,true,true,true,true,true,true,true,true,true,true,true,true,true,true,true,true,true,true,true,true,true,true,true,true,true,true,true,true,true,true,true,true,true,true,true,true,true,true,true,true,true,true,true,true,true,true,true,true,true,true,true,true,true,true,true,true,true,true,true,true,true,true,true,true,true,true,true,true,true,true,true,true,true,true,true,true,true,true,true,true,true,true,true,true,true,true,true,true,true,true,true,true,true,true,true,true,true,true,true,true,true,true,true,true,true,true,true,true,true,true,true,true,true,true,true,true,true,true,true,true,true,true,true,true,true,true,true,true,true,true,true,true,true,true,true,true,true,true,true,true,true,true,true,true,true,true,true,true,true,true,true,true,true,true,true,true,true,true,true,true,true,true,true,true,true],\"log_GFP\":{\"__ndarray__\":\"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\",\"dtype\":\"float64\",\"order\":\"little\",\"shape\":[215]},\"m\":{\"__ndarray__\":\"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\",\"dtype\":\"float64\",\"order\":\"little\",\"shape\":[215]},\"name\":[\"cschrimson\",\"c1c2\",\"cheriff\",\"c1\",\"c2\",\"c3\",\"c4\",\"c5\",\"c6\",\"c7\",\"c8\",\"c11\",\"c12\",\"c13\",\"c14\",\"c15\",\"c16\",\"c18\",\"c19\",\"c20\",\"c21\",\"c23\",\"c24\",\"c25\",\"c26\",\"c28\",\"c29\",\"c30\",\"c31\",\"c32\",\"c33\",\"c34\",\"c35\",\"c36\",\"c37\",\"c38\",\"c39\",\"c40\",\"c41\",\"c42\",\"c43\",\"c44\",\"c46\",\"c47\",\"c48\",\"c49\",\"c50\",\"c51\",\"c52\",\"c53\",\"c54\",\"c55\",\"c56\",\"c57\",\"c58\",\"c59\",\"c60\",\"c61\",\"c62\",\"c63\",\"c64\",\"c65\",\"c66\",\"c67\",\"c68\",\"c69\",\"c70\",\"c71\",\"c72\",\"c73\",\"c74\",\"c75\",\"c76\",\"c77\",\"c78\",\"c79\",\"c80\",\"c82\",\"c81\",\"c83\",\"c84\",\"c85\",\"c86\",\"c87\",\"c88\",\"c89\",\"c90\",\"c91\",\"c92\",\"c93\",\"c94\",\"c95\",\"c96\",\"c98\",\"c99\",\"c100\",\"c101\",\"c102\",\"c103\",\"n1\",\"n2\",\"n3\",\"n4\",\"n5\",\"n6\",\"n7\",\"n8\",\"n9\",\"n10\",\"n11\",\"n12\",\"n13\",\"n14\",\"n15\",\"n16\",\"n17\",\"n18\",\"n19\",\"n20\",\"n21\",\"n22\",\"n23\",\"n24\",\"n25\",\"n26\",\"n27\",\"n28\",\"n29\",\"n30\",\"n31\",\"n32\",\"n34\",\"n35\",\"n36\",\"n37\",\"n38\",\"n39\",\"n40\",\"n41\",\"n42\",\"n43\",\"n44\",\"n45\",\"n46\",\"n47\",\"n48\",\"n49\",\"n50\",\"n51\",\"n52\",\"n53\",\"n54\",\"n56\",\"n57\",\"n58\",\"n59\",\"n60\",\"n61\",\"n62\",\"n63\",\"n64\",\"n65\",\"n66\",\"n67\",\"n68\",\"n69\",\"n70\",\"n71\",\"n72\",\"n73\",\"n75\",\"n76\",\"n77\",\"n78\",\"n79\",\"n80\",\"n81\",\"n82\",\"n83\",\"n84\",\"n85\",\"n86\",\"n87\",\"n88\",\"n89\",\"n90\",\"n91\",\"n92\",\"n93\",\"n94\",\"n95\",\"n96\",\"n97\",\"n98\",\"n99\",\"n100\",\"n101\",\"n102\",\"c1_4\",\"c2_4\",\"c3_4\",\"c4_4\",\"n7_4\",\"c8_4\",\"c9_4\",\"n10_4\",\"c11_4\",\"n12_4\",\"n13_4\",\"c14_4\",\"c15_4\",\"c17_4\",\"c18_4\",\"n19_4\",\"n20_4\"],\"sequence\":[\"MSRLVAASWLLALLLCGITSTTTASAHIVMVDAYKPTKSAPAASSTDGTAAAAVSHYAMNGFDELAKGAVVPEDHFVCGPADKCYCSAWLHSRGTPGEKIGAQVCQWIAFSIAIALLTFYGFSAWKATCGWEEVYVCCVEVLFVTLEIFKEFSSPATVYLSTGNHAYCLRYFEWLLSCPVILIRLSNLSGLKNDYSKRTMGLIVSCVGMIVFGMAAGLATDWLKWLLYIVSCIYGGYMYFQAAKCYVEANHSVPKGHCRMVVKLMAYAYFASWGSYPILWAVGPEGLLKLSPYANSIGHSICDIIAKEFWTFLAHHLRIKIHEHILIHGDIRKTTKMEIGGEEVEVEEFVEEEDEDTV\",\"MSRRPWLLALALAVALAAGSAGAAHIVMVDAYKPTKSTGSDATVPVATQDGPDYVFHRAHERMLFQTSYTLENNGSVICIPNNGQCFCLAWLKSNGTNAEKLAANILQWITFALSALCLMFYGYQTWKSTCGWEEIYVATIEMIKFIIEYFHEFDEPAVIYSSNGNKTVWLRYAEWLLTCPVILIHLSNLTGLANDYNKRTMGLLVSDIGTIVWGTTAALSKGYVRVIFFLMGLCYGIYTFFNAAKVYIEAYHTVPKGRCRQVVTGMAWLFFVSWGMFPILFILGPEGFGVLSVYGSTVGHTIIDLMSKNCWGLLGHYLRVLIHEHILIHGDIRKTTKLNIGGTEIEVETLVEDEAEAGAV\",\"MGGAPAPDAHSAPPGNDSAAHIVMVDAYKPTKGGSEYHAPAGYQVNPPYHPVHGYEEQCSSIYIYYGALWEQETARGFQWFAVFLSALFLAFYGWHAYKASVGWEEVYVCSVELIKVILEIYFEFTSPAMLFLYGGNITPWLRYAEWLLTCPVILIHLSNITGLSEAYNKRTMALLVSDLGTICMGVTAALATGWVKWLFYCIGLVYGTQTFYNAGIIYVESYYIMPAGGCKKLVLAMTAVYYSSWLMFPGLFIFGPEGMHTLSVAGSTIGHTIADLLSKNIWGLLGHFLRIKIHEHIIMYGDIRRPVSSQFLGRKVDVLAFVTEEDKV\",\"MSRRPWLLALALAVALAAGSAGAAHIVMVDAYKPTKSTGSDATVPVATQDGPDYVFHRAHERMLFQTSYTLENNGSVICIPNNGQCFCLAWLKSNGALWEQETARGFQWFAVFLSALFLAFYGWHAYKASVGWEEVYVCSVELIKVILEIYFEFTSPAMLFLYGGNITPWLRYAEWLLTCPVILIHLSNITGLSEAYNKRTMALLVSDLGTICMGVTAALATGWVKWLFYCIGLVYGTQTFYNAGIIYVESYYIMPAGGCKKLVLAMTAVYYSSWLMFPGLFIFGPEGMHTLSVAGSTIGHTIADLLSKNIWGLLGHFLRIKIHEHIIMYGDIRRPVSSQFLGRKVDVLAFVTEEDKV\",\"MSRRPWLLALALAVALAAGSAGAAHIVMVDAYKPTKSTGSDATVPVATQDGPDYVFHRAHERMLFQTSYTLENNGSVICIPNNGQCFCLAWLKSNGTPGEKIGAQVCQWIAFSIAIALLTFYGFSAWKATCGWEEVYVCCVEVLFVTLEIFKEFSSPATVYLSTGNHAYCLRYFEWLLSCPVILIRLSNLSGLKNDYSKRTMGLIVSCVGMIVFGMAAGLATDWLKWLLYIVSCIYGGYMYFQAAKCYVEANHSVPKGHCRMVVKLMAYAYFASWGSYPILWAVGPEGLLKLSPYANSIGHSICDIIAKEFWTFLAHHLRIKIHEHILIHGDIRKTTKMEIGGEEVEVEEFVEEEDEDTV\",\"MSRRPWLLALALAVALAAGSAGAAHIVMVDAYKPTKSTGSDATVPVATQDGPDYVFHRAHERMLFQTSYTLENNGSVICIPNNGQCFCLAWLKSNGALWEQETARGFQWFTFALSALCLMFYGYQTWKSTCGWEEIYVATIEMIKFIIEYFHEFDEPAVIYSSNGNKTVWLRYAEWLLTCPVILIHLSNLTGLANDYNKRTMGLLVSDIGTIVWGTTAALSKGYVRVIFFLMGLCYGIYTFFNAAKVYIEAYHTVPKGRCRQVVTGMAWLFFVSWGMFPILFILGPEGFGVLSVYGSTVGHTIIDLMSKNCWGLLGHYLRVLIHEHILIHGDIRKTTKLNIGGTEIEVETLVEDEAEAGAV\",\"MSRRPWLLALALAVALAAGSAGAAHIVMVDAYKPTKSTGSDATVPVATQDGPDYVFHRAHERMLFQTSYTLENNGSVICIPNNGQCFCLAWLKSNGTNAEKLAANILQWIAVFLSALFLAFYGWHAYKASVGWEEVYVCSVELIKVILEIYFEFTEPAVIYSSNGNKTVWLRYAEWLLTCPVILIHLSNLTGLANDYNKRTMGLLVSDIGTIVWGTTAALSKGYVRVIFFLMGLCYGIYTFFNAAKVYIEAYHTVPKGRCRQVVTGMAWLFFVSWGMFPILFILGPEGFGVLSVYGSTVGHTIIDLMSKNCWGLLGHYLRVLIHEHILIHGDIRKTTKLNIGGTEIEVETLVEDEAEAGAV\",\"MSRRPWLLALALAVALAAGSAGAAHIVMVDAYKPTKSTGSDATVPVATQDGPDYVFHRAHERMLFQTSYTLENNGSVICIPNNGQCFCLAWLKSNGTNAEKLAANILQWITFALSALCLMFYGYQTWKSTCGWEEIYVATIEMIKFIIEYFHEFDSPAMLFLYGGNITPWLRYAEWLLTCPVILIHLSNLTGLANDYNKRTMGLLVSDIGTIVWGTTAALSKGYVRVIFFLMGLCYGIYTFFNAAKVYIEAYHTVPKGRCRQVVTGMAWLFFVSWGMFPILFILGPEGFGVLSVYGSTVGHTIIDLMSKNCWGLLGHYLRVLIHEHILIHGDIRKTTKLNIGGTEIEVETLVEDEAEAGAV\",\"MSRRPWLLALALAVALAAGSAGAAHIVMVDAYKPTKSTGSDATVPVATQDGPDYVFHRAHERMLFQTSYTLENNGSVICIPNNGQCFCLAWLKSNGTNAEKLAANILQWITFALSALCLMFYGYQTWKSTCGWEEIYVATIEMIKFIIEYFHEFDEPAVIYSSNGNKTVWLRYAEWLLTCPVILIHLSNITGLSEAYNKRTMALLVSDIGTIVWGTTAALSKGYVRVIFFLMGLCYGIYTFFNAAKVYIEAYHTVPKGRCRQVVTGMAWLFFVSWGMFPILFILGPEGFGVLSVYGSTVGHTIIDLMSKNCWGLLGHYLRVLIHEHILIHGDIRKTTKLNIGGTEIEVETLVEDEAEAGAV\",\"MSRRPWLLALALAVALAAGSAGAAHIVMVDAYKPTKSTGSDATVPVATQDGPDYVFHRAHERMLFQTSYTLENNGSVICIPNNGQCFCLAWLKSNGTNAEKLAANILQWITFALSALCLMFYGYQTWKSTCGWEEIYVATIEMIKFIIEYFHEFDEPAVIYSSNGNKTVWLRYAEWLLTCPVILIHLSNLTGLANDYNKRTMGLLVSDLGTICMGVTAALATGWVKWLFYCIGLVYGTQTFYNAGIIYVEAYHTVPKGRCRQVVTGMAWLFFVSWGMFPILFILGPEGFGVLSVYGSTVGHTIIDLMSKNCWGLLGHYLRVLIHEHILIHGDIRKTTKLNIGGTEIEVETLVEDEAEAGAV\",\"MSRRPWLLALALAVALAAGSAGAAHIVMVDAYKPTKSTGSDATVPVATQDGPDYVFHRAHERMLFQTSYTLENNGSVICIPNNGQCFCLAWLKSNGTNAEKLAANILQWITFALSALCLMFYGYQTWKSTCGWEEIYVATIEMIKFIIEYFHEFDEPAVIYSSNGNKTVWLRYAEWLLTCPVILIHLSNLTGLANDYNKRTMGLLVSDIGTIVWGTTAALSKGYVRVIFFLMGLCYGIYTFFNAAKVYIESYYIMPAGGCKKLVLAMTAVYYSSWGMFPILFILGPEGFGVLSVYGSTVGHTIIDLMSKNCWGLLGHYLRVLIHEHILIHGDIRKTTKLNIGGTEIEVETLVEDEAEAGAV\",\"MSRRPWLLALALAVALAAGSAGAAHIVMVDAYKPTKSTGSDATVPVATQDGPDYVFHRAHERMLFQTSYTLENNGSVICIPNNGQCFCLAWLKSNGTNAEKLAANILQWITFALSALCLMFYGYQTWKSTCGWEEIYVATIEMIKFIIEYFHEFDEPAVIYSSNGNKTVWLRYAEWLLTCPVILIHLSNLTGLANDYNKRTMGLLVSDIGTIVWGTTAALSKGYVRVIFFLMGLCYGIYTFFNAAKVYIEAYHTVPKGRCRQVVTGMAWLFFVSWGMFPILFILGPEGFGVLSVYGSTVGHTIIDLMSKNCWGLLGHYLRVLIHEHIIMYGDIRRPVSSQFLGRKVDVLAFVTEEDKV\",\"MSRRPWLLALALAVALAAGSAGAAHIVMVDAYKPTKSTGSDATVPVATQDGPDYVFHRAHERMLFQTSYTLENNGSVICIPNNGQCFCLAWLKSNGTPGEKIGAQVCQWITFALSALCLMFYGYQTWKSTCGWEEIYVATIEMIKFIIEYFHEFDEPAVIYSSNGNKTVWLRYAEWLLTCPVILIHLSNLTGLANDYNKRTMGLLVSDIGTIVWGTTAALSKGYVRVIFFLMGLCYGIYTFFNAAKVYIEAYHTVPKGRCRQVVTGMAWLFFVSWGMFPILFILGPEGFGVLSVYGSTVGHTIIDLMSKNCWGLLGHYLRVLIHEHILIHGDIRKTTKLNIGGTEIEVETLVEDEAEAGAV\",\"MSRRPWLLALALAVALAAGSAGAAHIVMVDAYKPTKSTGSDATVPVATQDGPDYVFHRAHERMLFQTSYTLENNGSVICIPNNGQCFCLAWLKSNGTNAEKLAANILQWIAFSIAIALLTFYGFSAWKATCGWEEVYVCCVEVLFVTLEIFKEFSEPAVIYSSNGNKTVWLRYAEWLLTCPVILIHLSNLTGLANDYNKRTMGLLVSDIGTIVWGTTAALSKGYVRVIFFLMGLCYGIYTFFNAAKVYIEAYHTVPKGRCRQVVTGMAWLFFVSWGMFPILFILGPEGFGVLSVYGSTVGHTIIDLMSKNCWGLLGHYLRVLIHEHILIHGDIRKTTKLNIGGTEIEVETLVEDEAEAGAV\",\"MSRRPWLLALALAVALAAGSAGAAHIVMVDAYKPTKSTGSDATVPVATQDGPDYVFHRAHERMLFQTSYTLENNGSVICIPNNGQCFCLAWLKSNGTNAEKLAANILQWITFALSALCLMFYGYQTWKSTCGWEEIYVATIEMIKFIIEYFHEFDSPATVYLSTGNHAYCLRYFEWLLTCPVILIHLSNLTGLANDYNKRTMGLLVSDIGTIVWGTTAALSKGYVRVIFFLMGLCYGIYTFFNAAKVYIEAYHTVPKGRCRQVVTGMAWLFFVSWGMFPILFILGPEGFGVLSVYGSTVGHTIIDLMSKNCWGLLGHYLRVLIHEHILIHGDIRKTTKLNIGGTEIEVETLVEDEAEAGAV\",\"MSRRPWLLALALAVALAAGSAGAAHIVMVDAYKPTKSTGSDATVPVATQDGPDYVFHRAHERMLFQTSYTLENNGSVICIPNNGQCFCLAWLKSNGTNAEKLAANILQWITFALSALCLMFYGYQTWKSTCGWEEIYVATIEMIKFIIEYFHEFDEPAVIYSSNGNKTVWLRYAEWLLSCPVILIRLSNLSGLKNDYSKRTMGLIVSDIGTIVWGTTAALSKGYVRVIFFLMGLCYGIYTFFNAAKVYIEAYHTVPKGRCRQVVTGMAWLFFVSWGMFPILFILGPEGFGVLSVYGSTVGHTIIDLMSKNCWGLLGHYLRVLIHEHILIHGDIRKTTKLNIGGTEIEVETLVEDEAEAGAV\",\"MSRRPWLLALALAVALAAGSAGAAHIVMVDAYKPTKSTGSDATVPVATQDGPDYVFHRAHERMLFQTSYTLENNGSVICIPNNGQCFCLAWLKSNGTNAEKLAANILQWITFALSALCLMFYGYQTWKSTCGWEEIYVATIEMIKFIIEYFHEFDEPAVIYSSNGNKTVWLRYAEWLLTCPVILIHLSNLTGLANDYNKRTMGLLVSCVGMIVFGMAAGLATDWLKWLLYIVSCIYGGYMYFQAAKCYVEAYHTVPKGRCRQVVTGMAWLFFVSWGMFPILFILGPEGFGVLSVYGSTVGHTIIDLMSKNCWGLLGHYLRVLIHEHILIHGDIRKTTKLNIGGTEIEVETLVEDEAEAGAV\",\"MSRRPWLLALALAVALAAGSAGAAHIVMVDAYKPTKSTGSDATVPVATQDGPDYVFHRAHERMLFQTSYTLENNGSVICIPNNGQCFCLAWLKSNGTNAEKLAANILQWITFALSALCLMFYGYQTWKSTCGWEEIYVATIEMIKFIIEYFHEFDEPAVIYSSNGNKTVWLRYAEWLLTCPVILIHLSNLTGLANDYNKRTMGLLVSDIGTIVWGTTAALSKGYVRVIFFLMGLCYGIYTFFNAAKVYIEAYHTVPKGRCRQVVTGMAWLFFVSWGSYPILWAVGPEGLLKLSVYGSTVGHTIIDLMSKNCWGLLGHYLRVLIHEHILIHGDIRKTTKLNIGGTEIEVETLVEDEAEAGAV\",\"MSRRPWLLALALAVALAAGSAGAAHIVMVDAYKPTKSTGSDATVPVATQDGPDYVFHRAHERMLFQTSYTLENNGSVICIPNNGQCFCLAWLKSNGTNAEKLAANILQWITFALSALCLMFYGYQTWKSTCGWEEIYVATIEMIKFIIEYFHEFDEPAVIYSSNGNKTVWLRYAEWLLTCPVILIHLSNLTGLANDYNKRTMGLLVSDIGTIVWGTTAALSKGYVRVIFFLMGLCYGIYTFFNAAKVYIEAYHTVPKGRCRQVVTGMAWLFFVSWGMFPILFILGPEGFGVLSPYANSIGHSICDIIAKEFWTFLAHHLRIKIHEHILIHGDIRKTTKLNIGGTEIEVETLVEDEAEAGAV\",\"MSRRPWLLALALAVALAAGSAGAAHIVMVDAYKPTKSTGSDATVPVATQDGPDYVFHRAHERMLFQTSYTLENNGSVICIPNNGQCFCLAWLKSNGTNAEKLAANILQWITFALSALCLMFYGYQTWKSTCGWEEIYVATIEMIKFIIEYFHEFDEPAVIYSSNGNKTVWLRYAEWLLTCPVILIHLSNLTGLANDYNKRTMGLLVSDIGTIVWGTTAALSKGYVRVIFFLMGLCYGIYTFFNAAKVYIEAYHTVPKGRCRQVVTGMAWLFFVSWGMFPILFILGPEGFGVLSVYGSTVGHTIIDLMSKNCWGLLGHYLRVLIHEHILIHGDIRKTTKMEIGGEEVEVEEFVEEEDEDTV\",\"MSRRPWLLALALAVALAAGSAGAAHIVMVDAYKPTKSTGSDATVPVATQDGPDYVFHRAHERMLFQTSYTLENNGSVICIPNNGQCFCLAWLKSNGTNAEKLAANILQWITFALSALCLMFYGYQTWKSTCGWEEIYVATIEMIKFIIEYFHEFDSPATVYLSTGNHAYCLRYFEWLLSCPVILIRLSNLSGLKNDYSKRTMGLIVSCVGMIVFGMAAGLATDWLKWLLYIVSCIYGGYMYFQAAKCYVEAYHTVPKGRCRQVVTGMAWLFFVSWGSYPILWAVGPEGLLKLSPYANSIGHSICDIIAKEFWTFLAHHLRIKIHEHILIHGDIRKTTKLNIGGTEIEVETLVEDEAEAGAV\",\"MSRRPWLLALALAVALAAGSAGAAHIVMVDAYKPTKSTGSDATVPVATQDGPDYVFHRAHERMLFQTSYTLENNGSVICIPNNGQCFCLAWLKSNGALWEQETARGFQWFAFSIAIALLTFYGFSAWKATCGWEEVYVCCVEVLFVTLEIFKEFSSPATVYLSTGNHAYCLRYFEWLLTCPVILIHLSNITGLSEAYNKRTMALLVSDIGTIVWGTTAALSKGYVRVIFFLMGLCYGIYTFFNAAKVYIESYYIMPAGGCKKLVLAMTAVYYSSWGSYPILWAVGPEGLLKLSPYANSIGHSICDIIAKEFWTFLAHHLRIKIHEHIIMYGDIRRPVSSQFLGRKVDVLAFVTEEDKV\",\"MSRRPWLLALALAVALAAGSAGAAHIVMVDAYKPTKSTGSDATVPVATQDGPDYVFHRAHERMLFQTSYTLENNGSVICIPNNGQCFCLAWLKSNGALWEQETARGFQWFTFALSALCLMFYGYQTWKSTCGWEEIYVATIEMIKFIIEYFHEFDEPAVIYSSNGNKTVWLRYAEWLLTCPVILIHLSNITGLSEAYNKRTMALLVSCVGMIVFGMAAGLATDWLKWLLYIVSCIYGGYMYFQAAKCYVEANHSVPKGHCRMVVKLMAYAYFASWGSYPILWAVGPEGLLKLSVYGSTVGHTIIDLMSKNCWGLLGHYLRVLIHEHIIMYGDIRRPVSSQFLGRKVDVLAFVTEEDKV\",\"MSRRPWLLALALAVALAAGSAGAAHIVMVDAYKPTKSTGSDATVPVATQDGPDYVFHRAHERMLFQTSYTLENNGSVICIPNNGQCFCLAWLKSNGTPGEKIGAQVCQWIAVFLSALFLAFYGWHAYKASVGWEEVYVCSVELIKVILEIYFEFTEPAVIYSSNGNKTVWLRYAEWLLTCPVILIHLSNLTGLANDYNKRTMGLLVSCVGMIVFGMAAGLATDWLKWLLYIVSCIYGGYMYFQAAKCYVESYYIMPAGGCKKLVLAMTAVYYSSWGMFPILFILGPEGFGVLSPYANSIGHSICDIIAKEFWTFLAHHLRIKIHEHILIHGDIRKTTKMEIGGEEVEVEEFVEEEDEDTV\",\"MSRRPWLLALALAVALAAGSAGAAHIVMVDAYKPTKSTGSDATVPVATQDGPDYVFHRAHERMLFQTSYTLENNGSVICIPNNGQCFCLAWLKSNGTPGEKIGAQVCQWITFALSALCLMFYGYQTWKSTCGWEEIYVATIEMIKFIIEYFHEFDSPATVYLSTGNHAYCLRYFEWLLTCPVILIHLSNLTGLANDYNKRTMGLLVSDLGTICMGVTAALATGWVKWLFYCIGLVYGTQTFYNAGIIYVEANHSVPKGHCRMVVKLMAYAYFASWGMFPILFILGPEGFGVLSPYANSIGHSICDIIAKEFWTFLAHHLRIKIHEHIIMYGDIRRPVSSQFLGRKVDVLAFVTEEDKV\",\"MSRRPWLLALALAVALAAGSAGAAHIVMVDAYKPTKSTGSDATVPVATQDGPDYVFHRAHERMLFQTSYTLENNGSVICIPNNGQCFCLAWLKSNGTPGEKIGAQVCQWIAFSIAIALLTFYGFSAWKATCGWEEVYVCCVEVLFVTLEIFKEFSSPATVYLSTGNHAYCLRYFEWLLTCPVILIHLSNLTGLANDYNKRTMGLLVSCVGMIVFGMAAGLATDWLKWLLYIVSCIYGGYMYFQAAKCYVEAYHTVPKGRCRQVVTGMAWLFFVSWLMFPGLFIFGPEGMHTLSVAGSTIGHTIADLLSKNIWGLLGHFLRIKIHEHIIMYGDIRRPVSSQFLGRKVDVLAFVTEEDKV\",\"MSRRPWLLALALAVALAAGSAGAAHIVMVDAYKPTKSTGSDATVPVATQDGPDYVFHRAHERMLFQTSYTLENNGSVICIPNNGQCFCLAWLKSNGTNAEKLAANILQWIAFSIAIALLTFYGFSAWKATCGWEEVYVCCVEVLFVTLEIFKEFSSPATVYLSTGNHAYCLRYFEWLLTCPVILIHLSNLTGLANDYNKRTMGLLVSDLGTICMGVTAALATGWVKWLFYCIGLVYGTQTFYNAGIIYVESYYIMPAGGCKKLVLAMTAVYYSSWGSYPILWAVGPEGLLKLSVYGSTVGHTIIDLMSKNCWGLLGHYLRVLIHEHILIHGDIRKTTKLNIGGTEIEVETLVEDEAEAGAV\",\"MSRRPWLLALALAVALAAGSAGAAHIVMVDAYKPTKSTGSDATVPVATQDGPDYVFHRAHERMLFQTSYTLENNGSVICIPNNGQCFCLAWLKSNGTNAEKLAANILQWIAVFLSALFLAFYGWHAYKASVGWEEVYVCSVELIKVILEIYFEFTSPATVYLSTGNHAYCLRYFEWLLTCPVILIHLSNITGLSEAYNKRTMALLVSDIGTIVWGTTAALSKGYVRVIFFLMGLCYGIYTFFNAAKVYIEAYHTVPKGRCRQVVTGMAWLFFVSWGMFPILFILGPEGFGVLSVYGSTVGHTIIDLMSKNCWGLLGHYLRVLIHEHILIHGDIRKTTKLNIGGTEIEVETLVEDEAEAGAV\",\"MSRRPWLLALALAVALAAGSAGAAHIVMVDAYKPTKSTGSDATVPVATQDGPDYVFHRAHERMLFQTSYTLENNGSVICIPNNGQCFCLAWLKSNGTNAEKLAANILQWIAFSIAIALLTFYGFSAWKATCGWEEVYVCCVEVLFVTLEIFKEFSSPAMLFLYGGNITPWLRYAEWLLTCPVILIHLSNITGLSEAYNKRTMALLVSCVGMIVFGMAAGLATDWLKWLLYIVSCIYGGYMYFQAAKCYVEANHSVPKGHCRMVVKLMAYAYFASWLMFPGLFIFGPEGMHTLSPYANSIGHSICDIIAKEFWTFLAHHLRIKIHEHILIHGDIRKTTKLNIGGTEIEVETLVEDEAEAGAV\",\"MSRRPWLLALALAVALAAGSAGAAHIVMVDAYKPTKSTGSDATVPVATQDGPDYVFHRAHERMLFQTSYTLENNGSVICIPNNGQCFCLAWLKSNGTPGEKIGAQVCQWIAFSIAIALLTFYGFSAWKATCGWEEVYVCCVEVLFVTLEIFKEFSEPAVIYSSNGNKTVWLRYAEWLLTCPVILIHLSNITGLSEAYNKRTMALLVSDLGTICMGVTAALATGWVKWLFYCIGLVYGTQTFYNAGIIYVEAYHTVPKGRCRQVVTGMAWLFFVSWGSYPILWAVGPEGLLKLSPYANSIGHSICDIIAKEFWTFLAHHLRIKIHEHILIHGDIRKTTKMEIGGEEVEVEEFVEEEDEDTV\",\"MSRRPWLLALALAVALAAGSAGAAHIVMVDAYKPTKSTGSDATVPVATQDGPDYVFHRAHERMLFQTSYTLENNGSVICIPNNGQCFCLAWLKSNGTNAEKLAANILQWIAVFLSALFLAFYGWHAYKASVGWEEVYVCSVELIKVILEIYFEFTEPAVIYSSNGNKTVWLRYAEWLLTCPVILIHLSNLTGLANDYNKRTMGLLVSDIGTIVWGTTAALSKGYVRVIFFLMGLCYGIYTFFNAAKVYIEANHSVPKGHCRMVVKLMAYAYFASWGSYPILWAVGPEGLLKLSVAGSTIGHTIADLLSKNIWGLLGHFLRIKIHEHIIMYGDIRRPVSSQFLGRKVDVLAFVTEEDKV\",\"MSRRPWLLALALAVALAAGSAGAAHIVMVDAYKPTKSTGSDATVPVATQDGPDYVFHRAHERMLFQTSYTLENNGSVICIPNNGQCFCLAWLKSNGALWEQETARGFQWFTFALSALCLMFYGYQTWKSTCGWEEIYVATIEMIKFIIEYFHEFDEPAVIYSSNGNKTVWLRYAEWLLTCPVILIHLSNLTGLANDYNKRTMGLLVSDIGTIVWGTTAALSKGYVRVIFFLMGLCYGIYTFFNAAKVYIEAYHTVPKGRCRQVVTGMAWLFFVSWLMFPGLFIFGPEGMHTLSPYANSIGHSICDIIAKEFWTFLAHHLRIKIHEHILIHGDIRKTTKLNIGGTEIEVETLVEDEAEAGAV\",\"MSRRPWLLALALAVALAAGSAGAAHIVMVDAYKPTKSTGSDATVPVATQDGPDYVFHRAHERMLFQTSYTLENNGSVICIPNNGQCFCLAWLKSNGALWEQETARGFQWFAVFLSALFLAFYGWHAYKASVGWEEVYVCSVELIKVILEIYFEFTSPATVYLSTGNHAYCLRYFEWLLSCPVILIRLSNLSGLKNDYSKRTMGLIVSDLGTICMGVTAALATGWVKWLFYCIGLVYGTQTFYNAGIIYVEANHSVPKGHCRMVVKLMAYAYFASWGSYPILWAVGPEGLLKLSVAGSTIGHTIADLLSKNIWGLLGHFLRIKIHEHILIHGDIRKTTKLNIGGTEIEVETLVEDEAEAGAV\",\"MGGAPAPDAHSAPPGNDSAAHIVMVDAYKPTKGGSEYHAPAGYQVNPPYHPVHGYEEQCSSIYIYYGTNAEKLAANILQWIAVFLSALFLAFYGWHAYKASVGWEEVYVCSVELIKVILEIYFEFTSPAMLFLYGGNITPWLRYAEWLLTCPVILIHLSNITGLSEAYNKRTMALLVSDLGTICMGVTAALATGWVKWLFYCIGLVYGTQTFYNAGIIYVESYYIMPAGGCKKLVLAMTAVYYSSWLMFPGLFIFGPEGMHTLSVAGSTIGHTIADLLSKNIWGLLGHFLRIKIHEHIIMYGDIRRPVSSQFLGRKVDVLAFVTEEDKV\",\"MGGAPAPDAHSAPPGNDSAAHIVMVDAYKPTKGGSEYHAPAGYQVNPPYHPVHGYEEQCSSIYIYYGALWEQETARGFQWFTFALSALCLMFYGYQTWKSTCGWEEIYVATIEMIKFIIEYFHEFDSPAMLFLYGGNITPWLRYAEWLLTCPVILIHLSNITGLSEAYNKRTMALLVSDLGTICMGVTAALATGWVKWLFYCIGLVYGTQTFYNAGIIYVESYYIMPAGGCKKLVLAMTAVYYSSWLMFPGLFIFGPEGMHTLSVAGSTIGHTIADLLSKNIWGLLGHFLRIKIHEHIIMYGDIRRPVSSQFLGRKVDVLAFVTEEDKV\",\"MGGAPAPDAHSAPPGNDSAAHIVMVDAYKPTKGGSEYHAPAGYQVNPPYHPVHGYEEQCSSIYIYYGALWEQETARGFQWFAVFLSALFLAFYGWHAYKASVGWEEVYVCSVELIKVILEIYFEFTEPAVIYSSNGNKTVWLRYAEWLLTCPVILIHLSNITGLSEAYNKRTMALLVSDLGTICMGVTAALATGWVKWLFYCIGLVYGTQTFYNAGIIYVESYYIMPAGGCKKLVLAMTAVYYSSWLMFPGLFIFGPEGMHTLSVAGSTIGHTIADLLSKNIWGLLGHFLRIKIHEHIIMYGDIRRPVSSQFLGRKVDVLAFVTEEDKV\",\"MGGAPAPDAHSAPPGNDSAAHIVMVDAYKPTKGGSEYHAPAGYQVNPPYHPVHGYEEQCSSIYIYYGALWEQETARGFQWFAVFLSALFLAFYGWHAYKASVGWEEVYVCSVELIKVILEIYFEFTSPAMLFLYGGNITPWLRYAEWLLTCPVILIHLSNLTGLANDYNKRTMGLLVSDLGTICMGVTAALATGWVKWLFYCIGLVYGTQTFYNAGIIYVESYYIMPAGGCKKLVLAMTAVYYSSWLMFPGLFIFGPEGMHTLSVAGSTIGHTIADLLSKNIWGLLGHFLRIKIHEHIIMYGDIRRPVSSQFLGRKVDVLAFVTEEDKV\",\"MGGAPAPDAHSAPPGNDSAAHIVMVDAYKPTKGGSEYHAPAGYQVNPPYHPVHGYEEQCSSIYIYYGALWEQETARGFQWFAVFLSALFLAFYGWHAYKASVGWEEVYVCSVELIKVILEIYFEFTSPAMLFLYGGNITPWLRYAEWLLTCPVILIHLSNITGLSEAYNKRTMALLVSDIGTIVWGTTAALSKGYVRVIFFLMGLCYGIYTFFNAAKVYIESYYIMPAGGCKKLVLAMTAVYYSSWLMFPGLFIFGPEGMHTLSVAGSTIGHTIADLLSKNIWGLLGHFLRIKIHEHIIMYGDIRRPVSSQFLGRKVDVLAFVTEEDKV\",\"MGGAPAPDAHSAPPGNDSAAHIVMVDAYKPTKGGSEYHAPAGYQVNPPYHPVHGYEEQCSSIYIYYGALWEQETARGFQWFAVFLSALFLAFYGWHAYKASVGWEEVYVCSVELIKVILEIYFEFTSPAMLFLYGGNITPWLRYAEWLLTCPVILIHLSNITGLSEAYNKRTMALLVSDLGTICMGVTAALATGWVKWLFYCIGLVYGTQTFYNAGIIYVEAYHTVPKGRCRQVVTGMAWLFFVSWLMFPGLFIFGPEGMHTLSVAGSTIGHTIADLLSKNIWGLLGHFLRIKIHEHIIMYGDIRRPVSSQFLGRKVDVLAFVTEEDKV\",\"MGGAPAPDAHSAPPGNDSAAHIVMVDAYKPTKGGSEYHAPAGYQVNPPYHPVHGYEEQCSSIYIYYGALWEQETARGFQWFAVFLSALFLAFYGWHAYKASVGWEEVYVCSVELIKVILEIYFEFTSPAMLFLYGGNITPWLRYAEWLLTCPVILIHLSNITGLSEAYNKRTMALLVSDLGTICMGVTAALATGWVKWLFYCIGLVYGTQTFYNAGIIYVESYYIMPAGGCKKLVLAMTAVYYSSWGMFPILFILGPEGFGVLSVAGSTIGHTIADLLSKNIWGLLGHFLRIKIHEHIIMYGDIRRPVSSQFLGRKVDVLAFVTEEDKV\",\"MGGAPAPDAHSAPPGNDSAAHIVMVDAYKPTKGGSEYHAPAGYQVNPPYHPVHGYEEQCSSIYIYYGALWEQETARGFQWFAVFLSALFLAFYGWHAYKASVGWEEVYVCSVELIKVILEIYFEFTSPAMLFLYGGNITPWLRYAEWLLTCPVILIHLSNITGLSEAYNKRTMALLVSDLGTICMGVTAALATGWVKWLFYCIGLVYGTQTFYNAGIIYVESYYIMPAGGCKKLVLAMTAVYYSSWLMFPGLFIFGPEGMHTLSVYGSTVGHTIIDLMSKNCWGLLGHYLRVLIHEHIIMYGDIRRPVSSQFLGRKVDVLAFVTEEDKV\",\"MGGAPAPDAHSAPPGNDSAAHIVMVDAYKPTKGGSEYHAPAGYQVNPPYHPVHGYEEQCSSIYIYYGALWEQETARGFQWFAVFLSALFLAFYGWHAYKASVGWEEVYVCSVELIKVILEIYFEFTSPAMLFLYGGNITPWLRYAEWLLTCPVILIHLSNITGLSEAYNKRTMALLVSDLGTICMGVTAALATGWVKWLFYCIGLVYGTQTFYNAGIIYVESYYIMPAGGCKKLVLAMTAVYYSSWLMFPGLFIFGPEGMHTLSVAGSTIGHTIADLLSKNIWGLLGHFLRIKIHEHILIHGDIRKTTKLNIGGTEIEVETLVEDEAEAGAV\",\"MGGAPAPDAHSAPPGNDSAAHIVMVDAYKPTKGGSEYHAPAGYQVNPPYHPVHGYEEQCSSIYIYYGTPGEKIGAQVCQWIAVFLSALFLAFYGWHAYKASVGWEEVYVCSVELIKVILEIYFEFTSPAMLFLYGGNITPWLRYAEWLLTCPVILIHLSNITGLSEAYNKRTMALLVSDLGTICMGVTAALATGWVKWLFYCIGLVYGTQTFYNAGIIYVESYYIMPAGGCKKLVLAMTAVYYSSWLMFPGLFIFGPEGMHTLSVAGSTIGHTIADLLSKNIWGLLGHFLRIKIHEHIIMYGDIRRPVSSQFLGRKVDVLAFVTEEDKV\",\"MGGAPAPDAHSAPPGNDSAAHIVMVDAYKPTKGGSEYHAPAGYQVNPPYHPVHGYEEQCSSIYIYYGALWEQETARGFQWFAFSIAIALLTFYGFSAWKATCGWEEVYVCCVEVLFVTLEIFKEFSSPAMLFLYGGNITPWLRYAEWLLTCPVILIHLSNITGLSEAYNKRTMALLVSDLGTICMGVTAALATGWVKWLFYCIGLVYGTQTFYNAGIIYVESYYIMPAGGCKKLVLAMTAVYYSSWLMFPGLFIFGPEGMHTLSVAGSTIGHTIADLLSKNIWGLLGHFLRIKIHEHIIMYGDIRRPVSSQFLGRKVDVLAFVTEEDKV\",\"MGGAPAPDAHSAPPGNDSAAHIVMVDAYKPTKGGSEYHAPAGYQVNPPYHPVHGYEEQCSSIYIYYGALWEQETARGFQWFAVFLSALFLAFYGWHAYKASVGWEEVYVCSVELIKVILEIYFEFTSPATVYLSTGNHAYCLRYFEWLLTCPVILIHLSNITGLSEAYNKRTMALLVSDLGTICMGVTAALATGWVKWLFYCIGLVYGTQTFYNAGIIYVESYYIMPAGGCKKLVLAMTAVYYSSWLMFPGLFIFGPEGMHTLSVAGSTIGHTIADLLSKNIWGLLGHFLRIKIHEHIIMYGDIRRPVSSQFLGRKVDVLAFVTEEDKV\",\"MGGAPAPDAHSAPPGNDSAAHIVMVDAYKPTKGGSEYHAPAGYQVNPPYHPVHGYEEQCSSIYIYYGALWEQETARGFQWFAVFLSALFLAFYGWHAYKASVGWEEVYVCSVELIKVILEIYFEFTSPAMLFLYGGNITPWLRYAEWLLSCPVILIRLSNLSGLKNDYSKRTMGLIVSDLGTICMGVTAALATGWVKWLFYCIGLVYGTQTFYNAGIIYVESYYIMPAGGCKKLVLAMTAVYYSSWLMFPGLFIFGPEGMHTLSVAGSTIGHTIADLLSKNIWGLLGHFLRIKIHEHIIMYGDIRRPVSSQFLGRKVDVLAFVTEEDKV\",\"MGGAPAPDAHSAPPGNDSAAHIVMVDAYKPTKGGSEYHAPAGYQVNPPYHPVHGYEEQCSSIYIYYGALWEQETARGFQWFAVFLSALFLAFYGWHAYKASVGWEEVYVCSVELIKVILEIYFEFTSPAMLFLYGGNITPWLRYAEWLLTCPVILIHLSNITGLSEAYNKRTMALLVSCVGMIVFGMAAGLATDWLKWLLYIVSCIYGGYMYFQAAKCYVESYYIMPAGGCKKLVLAMTAVYYSSWLMFPGLFIFGPEGMHTLSVAGSTIGHTIADLLSKNIWGLLGHFLRIKIHEHIIMYGDIRRPVSSQFLGRKVDVLAFVTEEDKV\",\"MGGAPAPDAHSAPPGNDSAAHIVMVDAYKPTKGGSEYHAPAGYQVNPPYHPVHGYEEQCSSIYIYYGALWEQETARGFQWFAVFLSALFLAFYGWHAYKASVGWEEVYVCSVELIKVILEIYFEFTSPAMLFLYGGNITPWLRYAEWLLTCPVILIHLSNITGLSEAYNKRTMALLVSDLGTICMGVTAALATGWVKWLFYCIGLVYGTQTFYNAGIIYVEANHSVPKGHCRMVVKLMAYAYFASWLMFPGLFIFGPEGMHTLSVAGSTIGHTIADLLSKNIWGLLGHFLRIKIHEHIIMYGDIRRPVSSQFLGRKVDVLAFVTEEDKV\",\"MGGAPAPDAHSAPPGNDSAAHIVMVDAYKPTKGGSEYHAPAGYQVNPPYHPVHGYEEQCSSIYIYYGALWEQETARGFQWFAVFLSALFLAFYGWHAYKASVGWEEVYVCSVELIKVILEIYFEFTSPAMLFLYGGNITPWLRYAEWLLTCPVILIHLSNITGLSEAYNKRTMALLVSDLGTICMGVTAALATGWVKWLFYCIGLVYGTQTFYNAGIIYVESYYIMPAGGCKKLVLAMTAVYYSSWGSYPILWAVGPEGLLKLSVAGSTIGHTIADLLSKNIWGLLGHFLRIKIHEHIIMYGDIRRPVSSQFLGRKVDVLAFVTEEDKV\",\"MGGAPAPDAHSAPPGNDSAAHIVMVDAYKPTKGGSEYHAPAGYQVNPPYHPVHGYEEQCSSIYIYYGALWEQETARGFQWFAVFLSALFLAFYGWHAYKASVGWEEVYVCSVELIKVILEIYFEFTSPAMLFLYGGNITPWLRYAEWLLTCPVILIHLSNITGLSEAYNKRTMALLVSDLGTICMGVTAALATGWVKWLFYCIGLVYGTQTFYNAGIIYVESYYIMPAGGCKKLVLAMTAVYYSSWLMFPGLFIFGPEGMHTLSPYANSIGHSICDIIAKEFWTFLAHHLRIKIHEHIIMYGDIRRPVSSQFLGRKVDVLAFVTEEDKV\",\"MGGAPAPDAHSAPPGNDSAAHIVMVDAYKPTKGGSEYHAPAGYQVNPPYHPVHGYEEQCSSIYIYYGALWEQETARGFQWFAVFLSALFLAFYGWHAYKASVGWEEVYVCSVELIKVILEIYFEFTSPAMLFLYGGNITPWLRYAEWLLTCPVILIHLSNITGLSEAYNKRTMALLVSDLGTICMGVTAALATGWVKWLFYCIGLVYGTQTFYNAGIIYVESYYIMPAGGCKKLVLAMTAVYYSSWLMFPGLFIFGPEGMHTLSVAGSTIGHTIADLLSKNIWGLLGHFLRIKIHEHILIHGDIRKTTKMEIGGEEVEVEEFVEEEDEDTV\",\"MGGAPAPDAHSAPPGNDSAAHIVMVDAYKPTKGGSEYHAPAGYQVNPPYHPVHGYEEQCSSIYIYYGTPGEKIGAQVCQWIAFSIAIALLTFYGFSAWKATCGWEEVYVCCVEVLFVTLEIFKEFSSPATVYLSTGNHAYCLRYFEWLLSCPVILIRLSNLSGLKNDYSKRTMGLIVSCVGMIVFGMAAGLATDWLKWLLYIVSCIYGGYMYFQAAKCYVEANHSVPKGHCRMVVKLMAYAYFASWGSYPILWAVGPEGLLKLSPYANSIGHSICDIIAKEFWTFLAHHLRIKIHEHILIHGDIRKTTKMEIGGEEVEVEEFVEEEDEDTV\",\"MSRLVAASWLLALLLCGITSTTTASAHIVMVDAYKPTKSAPAASSTDGTAAAAVSHYAMNGFDELAKGAVVPEDHFVCGPADKCYCSAWLHSRGALWEQETARGFQWFAFSIAIALLTFYGFSAWKATCGWEEVYVCCVEVLFVTLEIFKEFSSPATVYLSTGNHAYCLRYFEWLLSCPVILIRLSNLSGLKNDYSKRTMGLIVSCVGMIVFGMAAGLATDWLKWLLYIVSCIYGGYMYFQAAKCYVEANHSVPKGHCRMVVKLMAYAYFASWGSYPILWAVGPEGLLKLSPYANSIGHSICDIIAKEFWTFLAHHLRIKIHEHILIHGDIRKTTKMEIGGEEVEVEEFVEEEDEDTV\",\"MSRLVAASWLLALLLCGITSTTTASAHIVMVDAYKPTKSAPAASSTDGTAAAAVSHYAMNGFDELAKGAVVPEDHFVCGPADKCYCSAWLHSRGTPGEKIGAQVCQWIAVFLSALFLAFYGWHAYKASVGWEEVYVCSVELIKVILEIYFEFTSPATVYLSTGNHAYCLRYFEWLLSCPVILIRLSNLSGLKNDYSKRTMGLIVSCVGMIVFGMAAGLATDWLKWLLYIVSCIYGGYMYFQAAKCYVEANHSVPKGHCRMVVKLMAYAYFASWGSYPILWAVGPEGLLKLSPYANSIGHSICDIIAKEFWTFLAHHLRIKIHEHILIHGDIRKTTKMEIGGEEVEVEEFVEEEDEDTV\",\"MSRLVAASWLLALLLCGITSTTTASAHIVMVDAYKPTKSAPAASSTDGTAAAAVSHYAMNGFDELAKGAVVPEDHFVCGPADKCYCSAWLHSRGTPGEKIGAQVCQWIAFSIAIALLTFYGFSAWKATCGWEEVYVCCVEVLFVTLEIFKEFSSPAMLFLYGGNITPWLRYAEWLLSCPVILIRLSNLSGLKNDYSKRTMGLIVSCVGMIVFGMAAGLATDWLKWLLYIVSCIYGGYMYFQAAKCYVEANHSVPKGHCRMVVKLMAYAYFASWGSYPILWAVGPEGLLKLSPYANSIGHSICDIIAKEFWTFLAHHLRIKIHEHILIHGDIRKTTKMEIGGEEVEVEEFVEEEDEDTV\",\"MSRLVAASWLLALLLCGITSTTTASAHIVMVDAYKPTKSAPAASSTDGTAAAAVSHYAMNGFDELAKGAVVPEDHFVCGPADKCYCSAWLHSRGTPGEKIGAQVCQWIAFSIAIALLTFYGFSAWKATCGWEEVYVCCVEVLFVTLEIFKEFSSPATVYLSTGNHAYCLRYFEWLLTCPVILIHLSNITGLSEAYNKRTMALLVSCVGMIVFGMAAGLATDWLKWLLYIVSCIYGGYMYFQAAKCYVEANHSVPKGHCRMVVKLMAYAYFASWGSYPILWAVGPEGLLKLSPYANSIGHSICDIIAKEFWTFLAHHLRIKIHEHILIHGDIRKTTKMEIGGEEVEVEEFVEEEDEDTV\",\"MSRLVAASWLLALLLCGITSTTTASAHIVMVDAYKPTKSAPAASSTDGTAAAAVSHYAMNGFDELAKGAVVPEDHFVCGPADKCYCSAWLHSRGTPGEKIGAQVCQWIAFSIAIALLTFYGFSAWKATCGWEEVYVCCVEVLFVTLEIFKEFSSPATVYLSTGNHAYCLRYFEWLLSCPVILIRLSNLSGLKNDYSKRTMGLIVSDLGTICMGVTAALATGWVKWLFYCIGLVYGTQTFYNAGIIYVEANHSVPKGHCRMVVKLMAYAYFASWGSYPILWAVGPEGLLKLSPYANSIGHSICDIIAKEFWTFLAHHLRIKIHEHILIHGDIRKTTKMEIGGEEVEVEEFVEEEDEDTV\",\"MSRLVAASWLLALLLCGITSTTTASAHIVMVDAYKPTKSAPAASSTDGTAAAAVSHYAMNGFDELAKGAVVPEDHFVCGPADKCYCSAWLHSRGTPGEKIGAQVCQWIAFSIAIALLTFYGFSAWKATCGWEEVYVCCVEVLFVTLEIFKEFSSPATVYLSTGNHAYCLRYFEWLLSCPVILIRLSNLSGLKNDYSKRTMGLIVSCVGMIVFGMAAGLATDWLKWLLYIVSCIYGGYMYFQAAKCYVESYYIMPAGGCKKLVLAMTAVYYSSWGSYPILWAVGPEGLLKLSPYANSIGHSICDIIAKEFWTFLAHHLRIKIHEHILIHGDIRKTTKMEIGGEEVEVEEFVEEEDEDTV\",\"MSRLVAASWLLALLLCGITSTTTASAHIVMVDAYKPTKSAPAASSTDGTAAAAVSHYAMNGFDELAKGAVVPEDHFVCGPADKCYCSAWLHSRGTPGEKIGAQVCQWIAFSIAIALLTFYGFSAWKATCGWEEVYVCCVEVLFVTLEIFKEFSSPATVYLSTGNHAYCLRYFEWLLSCPVILIRLSNLSGLKNDYSKRTMGLIVSCVGMIVFGMAAGLATDWLKWLLYIVSCIYGGYMYFQAAKCYVEANHSVPKGHCRMVVKLMAYAYFASWLMFPGLFIFGPEGMHTLSPYANSIGHSICDIIAKEFWTFLAHHLRIKIHEHILIHGDIRKTTKMEIGGEEVEVEEFVEEEDEDTV\",\"MSRLVAASWLLALLLCGITSTTTASAHIVMVDAYKPTKSAPAASSTDGTAAAAVSHYAMNGFDELAKGAVVPEDHFVCGPADKCYCSAWLHSRGTPGEKIGAQVCQWIAFSIAIALLTFYGFSAWKATCGWEEVYVCCVEVLFVTLEIFKEFSSPATVYLSTGNHAYCLRYFEWLLSCPVILIRLSNLSGLKNDYSKRTMGLIVSCVGMIVFGMAAGLATDWLKWLLYIVSCIYGGYMYFQAAKCYVEANHSVPKGHCRMVVKLMAYAYFASWGSYPILWAVGPEGLLKLSVAGSTIGHTIADLLSKNIWGLLGHFLRIKIHEHILIHGDIRKTTKMEIGGEEVEVEEFVEEEDEDTV\",\"MSRLVAASWLLALLLCGITSTTTASAHIVMVDAYKPTKSAPAASSTDGTAAAAVSHYAMNGFDELAKGAVVPEDHFVCGPADKCYCSAWLHSRGTPGEKIGAQVCQWIAFSIAIALLTFYGFSAWKATCGWEEVYVCCVEVLFVTLEIFKEFSSPATVYLSTGNHAYCLRYFEWLLSCPVILIRLSNLSGLKNDYSKRTMGLIVSCVGMIVFGMAAGLATDWLKWLLYIVSCIYGGYMYFQAAKCYVEANHSVPKGHCRMVVKLMAYAYFASWGSYPILWAVGPEGLLKLSPYANSIGHSICDIIAKEFWTFLAHHLRIKIHEHIIMYGDIRRPVSSQFLGRKVDVLAFVTEEDKV\",\"MSRLVAASWLLALLLCGITSTTTASAHIVMVDAYKPTKSAPAASSTDGTAAAAVSHYAMNGFDELAKGAVVPEDHFVCGPADKCYCSAWLHSRGTNAEKLAANILQWIAFSIAIALLTFYGFSAWKATCGWEEVYVCCVEVLFVTLEIFKEFSSPATVYLSTGNHAYCLRYFEWLLSCPVILIRLSNLSGLKNDYSKRTMGLIVSCVGMIVFGMAAGLATDWLKWLLYIVSCIYGGYMYFQAAKCYVEANHSVPKGHCRMVVKLMAYAYFASWGSYPILWAVGPEGLLKLSPYANSIGHSICDIIAKEFWTFLAHHLRIKIHEHILIHGDIRKTTKMEIGGEEVEVEEFVEEEDEDTV\",\"MSRLVAASWLLALLLCGITSTTTASAHIVMVDAYKPTKSAPAASSTDGTAAAAVSHYAMNGFDELAKGAVVPEDHFVCGPADKCYCSAWLHSRGTPGEKIGAQVCQWITFALSALCLMFYGYQTWKSTCGWEEIYVATIEMIKFIIEYFHEFDSPATVYLSTGNHAYCLRYFEWLLSCPVILIRLSNLSGLKNDYSKRTMGLIVSCVGMIVFGMAAGLATDWLKWLLYIVSCIYGGYMYFQAAKCYVEANHSVPKGHCRMVVKLMAYAYFASWGSYPILWAVGPEGLLKLSPYANSIGHSICDIIAKEFWTFLAHHLRIKIHEHILIHGDIRKTTKMEIGGEEVEVEEFVEEEDEDTV\",\"MSRLVAASWLLALLLCGITSTTTASAHIVMVDAYKPTKSAPAASSTDGTAAAAVSHYAMNGFDELAKGAVVPEDHFVCGPADKCYCSAWLHSRGTPGEKIGAQVCQWIAFSIAIALLTFYGFSAWKATCGWEEVYVCCVEVLFVTLEIFKEFSEPAVIYSSNGNKTVWLRYAEWLLSCPVILIRLSNLSGLKNDYSKRTMGLIVSCVGMIVFGMAAGLATDWLKWLLYIVSCIYGGYMYFQAAKCYVEANHSVPKGHCRMVVKLMAYAYFASWGSYPILWAVGPEGLLKLSPYANSIGHSICDIIAKEFWTFLAHHLRIKIHEHILIHGDIRKTTKMEIGGEEVEVEEFVEEEDEDTV\",\"MSRLVAASWLLALLLCGITSTTTASAHIVMVDAYKPTKSAPAASSTDGTAAAAVSHYAMNGFDELAKGAVVPEDHFVCGPADKCYCSAWLHSRGTPGEKIGAQVCQWIAFSIAIALLTFYGFSAWKATCGWEEVYVCCVEVLFVTLEIFKEFSSPATVYLSTGNHAYCLRYFEWLLTCPVILIHLSNLTGLANDYNKRTMGLLVSCVGMIVFGMAAGLATDWLKWLLYIVSCIYGGYMYFQAAKCYVEANHSVPKGHCRMVVKLMAYAYFASWGSYPILWAVGPEGLLKLSPYANSIGHSICDIIAKEFWTFLAHHLRIKIHEHILIHGDIRKTTKMEIGGEEVEVEEFVEEEDEDTV\",\"MSRLVAASWLLALLLCGITSTTTASAHIVMVDAYKPTKSAPAASSTDGTAAAAVSHYAMNGFDELAKGAVVPEDHFVCGPADKCYCSAWLHSRGTPGEKIGAQVCQWIAFSIAIALLTFYGFSAWKATCGWEEVYVCCVEVLFVTLEIFKEFSSPATVYLSTGNHAYCLRYFEWLLSCPVILIRLSNLSGLKNDYSKRTMGLIVSDIGTIVWGTTAALSKGYVRVIFFLMGLCYGIYTFFNAAKVYIEANHSVPKGHCRMVVKLMAYAYFASWGSYPILWAVGPEGLLKLSPYANSIGHSICDIIAKEFWTFLAHHLRIKIHEHILIHGDIRKTTKMEIGGEEVEVEEFVEEEDEDTV\",\"MSRLVAASWLLALLLCGITSTTTASAHIVMVDAYKPTKSAPAASSTDGTAAAAVSHYAMNGFDELAKGAVVPEDHFVCGPADKCYCSAWLHSRGTPGEKIGAQVCQWIAFSIAIALLTFYGFSAWKATCGWEEVYVCCVEVLFVTLEIFKEFSSPATVYLSTGNHAYCLRYFEWLLSCPVILIRLSNLSGLKNDYSKRTMGLIVSCVGMIVFGMAAGLATDWLKWLLYIVSCIYGGYMYFQAAKCYVEAYHTVPKGRCRQVVTGMAWLFFVSWGSYPILWAVGPEGLLKLSPYANSIGHSICDIIAKEFWTFLAHHLRIKIHEHILIHGDIRKTTKMEIGGEEVEVEEFVEEEDEDTV\",\"MSRLVAASWLLALLLCGITSTTTASAHIVMVDAYKPTKSAPAASSTDGTAAAAVSHYAMNGFDELAKGAVVPEDHFVCGPADKCYCSAWLHSRGTPGEKIGAQVCQWIAFSIAIALLTFYGFSAWKATCGWEEVYVCCVEVLFVTLEIFKEFSSPATVYLSTGNHAYCLRYFEWLLSCPVILIRLSNLSGLKNDYSKRTMGLIVSCVGMIVFGMAAGLATDWLKWLLYIVSCIYGGYMYFQAAKCYVEANHSVPKGHCRMVVKLMAYAYFASWGMFPILFILGPEGFGVLSPYANSIGHSICDIIAKEFWTFLAHHLRIKIHEHILIHGDIRKTTKMEIGGEEVEVEEFVEEEDEDTV\",\"MSRLVAASWLLALLLCGITSTTTASAHIVMVDAYKPTKSAPAASSTDGTAAAAVSHYAMNGFDELAKGAVVPEDHFVCGPADKCYCSAWLHSRGTPGEKIGAQVCQWIAFSIAIALLTFYGFSAWKATCGWEEVYVCCVEVLFVTLEIFKEFSSPATVYLSTGNHAYCLRYFEWLLSCPVILIRLSNLSGLKNDYSKRTMGLIVSCVGMIVFGMAAGLATDWLKWLLYIVSCIYGGYMYFQAAKCYVEANHSVPKGHCRMVVKLMAYAYFASWGSYPILWAVGPEGLLKLSVYGSTVGHTIIDLMSKNCWGLLGHYLRVLIHEHILIHGDIRKTTKMEIGGEEVEVEEFVEEEDEDTV\",\"MSRLVAASWLLALLLCGITSTTTASAHIVMVDAYKPTKSAPAASSTDGTAAAAVSHYAMNGFDELAKGAVVPEDHFVCGPADKCYCSAWLHSRGTPGEKIGAQVCQWIAFSIAIALLTFYGFSAWKATCGWEEVYVCCVEVLFVTLEIFKEFSSPATVYLSTGNHAYCLRYFEWLLSCPVILIRLSNLSGLKNDYSKRTMGLIVSCVGMIVFGMAAGLATDWLKWLLYIVSCIYGGYMYFQAAKCYVEANHSVPKGHCRMVVKLMAYAYFASWGSYPILWAVGPEGLLKLSPYANSIGHSICDIIAKEFWTFLAHHLRIKIHEHILIHGDIRKTTKLNIGGTEIEVETLVEDEAEAGAV\",\"MSRLVAASWLLALLLCGITSTTTASAHIVMVDAYKPTKSAPAASSTDGTAAAAVSHYAMNGFDELAKGAVVPEDHFVCGPADKCYCSAWLHSRGALWEQETARGFQWFAVFLSALFLAFYGWHAYKASVGWEEVYVCSVELIKVILEIYFEFTEPAVIYSSNGNKTVWLRYAEWLLSCPVILIRLSNLSGLKNDYSKRTMGLIVSDLGTICMGVTAALATGWVKWLFYCIGLVYGTQTFYNAGIIYVEAYHTVPKGRCRQVVTGMAWLFFVSWGSYPILWAVGPEGLLKLSVYGSTVGHTIIDLMSKNCWGLLGHYLRVLIHEHIIMYGDIRRPVSSQFLGRKVDVLAFVTEEDKV\",\"MGGAPAPDAHSAPPGNDSAAHIVMVDAYKPTKGGSEYHAPAGYQVNPPYHPVHGYEEQCSSIYIYYGALWEQETARGFQWFAFSIAIALLTFYGFSAWKATCGWEEVYVCCVEVLFVTLEIFKEFSEPAVIYSSNGNKTVWLRYAEWLLTCPVILIHLSNLTGLANDYNKRTMGLLVSCVGMIVFGMAAGLATDWLKWLLYIVSCIYGGYMYFQAAKCYVESYYIMPAGGCKKLVLAMTAVYYSSWGSYPILWAVGPEGLLKLSVYGSTVGHTIIDLMSKNCWGLLGHYLRVLIHEHILIHGDIRKTTKLNIGGTEIEVETLVEDEAEAGAV\",\"MSRLVAASWLLALLLCGITSTTTASAHIVMVDAYKPTKSAPAASSTDGTAAAAVSHYAMNGFDELAKGAVVPEDHFVCGPADKCYCSAWLHSRGALWEQETARGFQWFTFALSALCLMFYGYQTWKSTCGWEEIYVATIEMIKFIIEYFHEFDEPAVIYSSNGNKTVWLRYAEWLLSCPVILIRLSNLSGLKNDYSKRTMGLIVSDIGTIVWGTTAALSKGYVRVIFFLMGLCYGIYTFFNAAKVYIEANHSVPKGHCRMVVKLMAYAYFASWLMFPGLFIFGPEGMHTLSVYGSTVGHTIIDLMSKNCWGLLGHYLRVLIHEHIIMYGDIRRPVSSQFLGRKVDVLAFVTEEDKV\",\"MGGAPAPDAHSAPPGNDSAAHIVMVDAYKPTKGGSEYHAPAGYQVNPPYHPVHGYEEQCSSIYIYYGTPGEKIGAQVCQWIAFSIAIALLTFYGFSAWKATCGWEEVYVCCVEVLFVTLEIFKEFSEPAVIYSSNGNKTVWLRYAEWLLTCPVILIHLSNITGLSEAYNKRTMALLVSCVGMIVFGMAAGLATDWLKWLLYIVSCIYGGYMYFQAAKCYVEAYHTVPKGRCRQVVTGMAWLFFVSWGSYPILWAVGPEGLLKLSVYGSTVGHTIIDLMSKNCWGLLGHYLRVLIHEHILIHGDIRKTTKMEIGGEEVEVEEFVEEEDEDTV\",\"MSRLVAASWLLALLLCGITSTTTASAHIVMVDAYKPTKSAPAASSTDGTAAAAVSHYAMNGFDELAKGAVVPEDHFVCGPADKCYCSAWLHSRGTNAEKLAANILQWITFALSALCLMFYGYQTWKSTCGWEEIYVATIEMIKFIIEYFHEFDSPAMLFLYGGNITPWLRYAEWLLSCPVILIRLSNLSGLKNDYSKRTMGLIVSCVGMIVFGMAAGLATDWLKWLLYIVSCIYGGYMYFQAAKCYVESYYIMPAGGCKKLVLAMTAVYYSSWGMFPILFILGPEGFGVLSVAGSTIGHTIADLLSKNIWGLLGHFLRIKIHEHILIHGDIRKTTKMEIGGEEVEVEEFVEEEDEDTV\",\"MSRLVAASWLLALLLCGITSTTTASAHIVMVDAYKPTKSAPAASSTDGTAAAAVSHYAMNGFDELAKGAVVPEDHFVCGPADKCYCSAWLHSRGALWEQETARGFQWFAVFLSALFLAFYGWHAYKASVGWEEVYVCSVELIKVILEIYFEFTEPAVIYSSNGNKTVWLRYAEWLLSCPVILIRLSNLSGLKNDYSKRTMGLIVSDIGTIVWGTTAALSKGYVRVIFFLMGLCYGIYTFFNAAKVYIESYYIMPAGGCKKLVLAMTAVYYSSWLMFPGLFIFGPEGMHTLSPYANSIGHSICDIIAKEFWTFLAHHLRIKIHEHILIHGDIRKTTKLNIGGTEIEVETLVEDEAEAGAV\",\"MGGAPAPDAHSAPPGNDSAAHIVMVDAYKPTKGGSEYHAPAGYQVNPPYHPVHGYEEQCSSIYIYYGALWEQETARGFQWFAFSIAIALLTFYGFSAWKATCGWEEVYVCCVEVLFVTLEIFKEFSSPATVYLSTGNHAYCLRYFEWLLSCPVILIRLSNLSGLKNDYSKRTMGLIVSDIGTIVWGTTAALSKGYVRVIFFLMGLCYGIYTFFNAAKVYIEAYHTVPKGRCRQVVTGMAWLFFVSWGSYPILWAVGPEGLLKLSVAGSTIGHTIADLLSKNIWGLLGHFLRIKIHEHILIHGDIRKTTKMEIGGEEVEVEEFVEEEDEDTV\",\"MSRLVAASWLLALLLCGITSTTTASAHIVMVDAYKPTKSAPAASSTDGTAAAAVSHYAMNGFDELAKGAVVPEDHFVCGPADKCYCSAWLHSRGALWEQETARGFQWFTFALSALCLMFYGYQTWKSTCGWEEIYVATIEMIKFIIEYFHEFDEPAVIYSSNGNKTVWLRYAEWLLTCPVILIHLSNITGLSEAYNKRTMALLVSDLGTICMGVTAALATGWVKWLFYCIGLVYGTQTFYNAGIIYVEANHSVPKGHCRMVVKLMAYAYFASWGMFPILFILGPEGFGVLSPYANSIGHSICDIIAKEFWTFLAHHLRIKIHEHIIMYGDIRRPVSSQFLGRKVDVLAFVTEEDKV\",\"MGGAPAPDAHSAPPGNDSAAHIVMVDAYKPTKGGSEYHAPAGYQVNPPYHPVHGYEEQCSSIYIYYGTNAEKLAANILQWIAVFLSALFLAFYGWHAYKASVGWEEVYVCSVELIKVILEIYFEFTSPATVYLSTGNHAYCLRYFEWLLSCPVILIRLSNLSGLKNDYSKRTMGLIVSCVGMIVFGMAAGLATDWLKWLLYIVSCIYGGYMYFQAAKCYVEAYHTVPKGRCRQVVTGMAWLFFVSWGMFPILFILGPEGFGVLSVYGSTVGHTIIDLMSKNCWGLLGHYLRVLIHEHILIHGDIRKTTKLNIGGTEIEVETLVEDEAEAGAV\",\"MGGAPAPDAHSAPPGNDSAAHIVMVDAYKPTKGGSEYHAPAGYQVNPPYHPVHGYEEQCSSIYIYYGALWEQETARGFQWFAFSIAIALLTFYGFSAWKATCGWEEVYVCCVEVLFVTLEIFKEFSSPAMLFLYGGNITPWLRYAEWLLSCPVILIRLSNLSGLKNDYSKRTMGLIVSDIGTIVWGTTAALSKGYVRVIFFLMGLCYGIYTFFNAAKVYIEAYHTVPKGRCRQVVTGMAWLFFVSWGSYPILWAVGPEGLLKLSPYANSIGHSICDIIAKEFWTFLAHHLRIKIHEHIIMYGDIRRPVSSQFLGRKVDVLAFVTEEDKV\",\"MGGAPAPDAHSAPPGNDSAAHIVMVDAYKPTKGGSEYHAPAGYQVNPPYHPVHGYEEQCSSIYIYYGTPGEKIGAQVCQWITFALSALCLMFYGYQTWKSTCGWEEIYVATIEMIKFIIEYFHEFDSPATVYLSTGNHAYCLRYFEWLLTCPVILIHLSNITGLSEAYNKRTMALLVSCVGMIVFGMAAGLATDWLKWLLYIVSCIYGGYMYFQAAKCYVESYYIMPAGGCKKLVLAMTAVYYSSWGSYPILWAVGPEGLLKLSVYGSTVGHTIIDLMSKNCWGLLGHYLRVLIHEHILIHGDIRKTTKMEIGGEEVEVEEFVEEEDEDTV\",\"MSRLVAASWLLALLLCGITSTTTASAHIVMVDAYKPTKSAPAASSTDGTAAAAVSHYAMNGFDELAKGAVVPEDHFVCGPADKCYCSAWLHSRGTNAEKLAANILQWIAVFLSALFLAFYGWHAYKASVGWEEVYVCSVELIKVILEIYFEFTSPAMLFLYGGNITPWLRYAEWLLSCPVILIRLSNLSGLKNDYSKRTMGLIVSDIGTIVWGTTAALSKGYVRVIFFLMGLCYGIYTFFNAAKVYIESYYIMPAGGCKKLVLAMTAVYYSSWGMFPILFILGPEGFGVLSVYGSTVGHTIIDLMSKNCWGLLGHYLRVLIHEHILIHGDIRKTTKMEIGGEEVEVEEFVEEEDEDTV\",\"MSRLVAASWLLALLLCGITSTTTASAHIVMVDAYKPTKSAPAASSTDGTAAAAVSHYAMNGFDELAKGAVVPEDHFVCGPADKCYCSAWLHSRGTPGEKIGAQVCQWITFALSALCLMFYGYQTWKSTCGWEEIYVATIEMIKFIIEYFHEFDSPAMLFLYGGNITPWLRYAEWLLTCPVILIHLSNITGLSEAYNKRTMALLVSCVGMIVFGMAAGLATDWLKWLLYIVSCIYGGYMYFQAAKCYVESYYIMPAGGCKKLVLAMTAVYYSSWGMFPILFILGPEGFGVLSPYANSIGHSICDIIAKEFWTFLAHHLRIKIHEHILIHGDIRKTTKLNIGGTEIEVETLVEDEAEAGAV\",\"MSRLVAASWLLALLLCGITSTTTASAHIVMVDAYKPTKSAPAASSTDGTAAAAVSHYAMNGFDELAKGAVVPEDHFVCGPADKCYCSAWLHSRGTNAEKLAANILQWIAVFLSALFLAFYGWHAYKASVGWEEVYVCSVELIKVILEIYFEFTSPAMLFLYGGNITPWLRYAEWLLTCPVILIHLSNLTGLANDYNKRTMGLLVSDIGTIVWGTTAALSKGYVRVIFFLMGLCYGIYTFFNAAKVYIEAYHTVPKGRCRQVVTGMAWLFFVSWGSYPILWAVGPEGLLKLSPYANSIGHSICDIIAKEFWTFLAHHLRIKIHEHIIMYGDIRRPVSSQFLGRKVDVLAFVTEEDKV\",\"MGGAPAPDAHSAPPGNDSAAHIVMVDAYKPTKGGSEYHAPAGYQVNPPYHPVHGYEEQCSSIYIYYGTNAEKLAANILQWITFALSALCLMFYGYQTWKSTCGWEEIYVATIEMIKFIIEYFHEFDEPAVIYSSNGNKTVWLRYAEWLLTCPVILIHLSNLTGLANDYNKRTMGLLVSDIGTIVWGTTAALSKGYVRVIFFLMGLCYGIYTFFNAAKVYIESYYIMPAGGCKKLVLAMTAVYYSSWGSYPILWAVGPEGLLKLSPYANSIGHSICDIIAKEFWTFLAHHLRIKIHEHILIHGDIRKTTKMEIGGEEVEVEEFVEEEDEDTV\",\"MGGAPAPDAHSAPPGNDSAAHIVMVDAYKPTKGGSEYHAPAGYQVNPPYHPVHGYEEQCSSIYIYYGTPGEKIGAQVCQWITFALSALCLMFYGYQTWKSTCGWEEIYVATIEMIKFIIEYFHEFDEPAVIYSSNGNKTVWLRYAEWLLSCPVILIRLSNLSGLKNDYSKRTMGLIVSDLGTICMGVTAALATGWVKWLFYCIGLVYGTQTFYNAGIIYVEANHSVPKGHCRMVVKLMAYAYFASWGMFPILFILGPEGFGVLSVAGSTIGHTIADLLSKNIWGLLGHFLRIKIHEHIIMYGDIRRPVSSQFLGRKVDVLAFVTEEDKV\",\"MSRLVAASWLLALLLCGITSTTTASAHIVMVDAYKPTKSAPAASSTDGTAAAAVSHYAMNGFDELAKGAVVPEDHFVCGPADKCYCSAWLHSRGTPGEKIGAQVCQWIAVFLSALFLAFYGWHAYKASVGWEEVYVCSVELIKVILEIYFEFTSPATVYLSTGNHAYCLRYFEWLLTCPVILIHLSNITGLSEAYNKRTMALLVSCVGMIVFGMAAGLATDWLKWLLYIVSCIYGGYMYFQAAKCYVESYYIMPAGGCKKLVLAMTAVYYSSWGMFPILFILGPEGFGVLSVYGSTVGHTIIDLMSKNCWGLLGHYLRVLIHEHILIHGDIRKTTKLNIGGTEIEVETLVEDEAEAGAV\",\"MGGAPAPDAHSAPPGNDSAAHIVMVDAYKPTKGGSEYHAPAGYQVNPPYHPVHGYEEQCSSIYIYYGTPGEKIGAQVCQWITFALSALCLMFYGYQTWKSTCGWEEIYVATIEMIKFIIEYFHEFDEPAVIYSSNGNKTVWLRYAEWLLTCPVILIHLSNLTGLANDYNKRTMGLLVSDLGTICMGVTAALATGWVKWLFYCIGLVYGTQTFYNAGIIYVEANHSVPKGHCRMVVKLMAYAYFASWGSYPILWAVGPEGLLKLSVYGSTVGHTIIDLMSKNCWGLLGHYLRVLIHEHILIHGDIRKTTKMEIGGEEVEVEEFVEEEDEDTV\",\"MGGAPAPDAHSAPPGNDSAAHIVMVDAYKPTKGGSEYHAPAGYQVNPPYHPVHGYEEQCSSIYIYYGTPGEKIGAQVCQWIAFSIAIALLTFYGFSAWKATCGWEEVYVCCVEVLFVTLEIFKEFSEPAVIYSSNGNKTVWLRYAEWLLTCPVILIHLSNITGLSEAYNKRTMALLVSDIGTIVWGTTAALSKGYVRVIFFLMGLCYGIYTFFNAAKVYIEANHSVPKGHCRMVVKLMAYAYFASWGSYPILWAVGPEGLLKLSVAGSTIGHTIADLLSKNIWGLLGHFLRIKIHEHILIHGDIRKTTKLNIGGTEIEVETLVEDEAEAGAV\",\"MSRLVAASWLLALLLCGITSTTTASAHIVMVDAYKPTKSAPAASSTDGTAAAAVSHYAMNGFDELAKGAVVPEDHFVCGPADKCYCSAWLHSRGALWEQETARGFQWFTFALSALCLMFYGYQTWKSTCGWEEIYVATIEMIKFIIEYFHEFDSPATVYLSTGNHAYCLRYFEWLLSCPVILIRLSNLSGLKNDYSKRTMGLIVSCVGMIVFGMAAGLATDWLKWLLYIVSCIYGGYMYFQAAKCYVEAYHTVPKGRCRQVVTGMAWLFFVSWLMFPGLFIFGPEGMHTLSVAGSTIGHTIADLLSKNIWGLLGHFLRIKIHEHILIHGDIRKTTKMEIGGEEVEVEEFVEEEDEDTV\",\"MSRLVAASWLLALLLCGITSTTTASAHIVMVDAYKPTKSAPAASSTDGTAAAAVSHYAMNGFDELAKGAVVPEDHFVCGPADKCYCSAWLHSRGALWEQETARGFQWFAFSIAIALLTFYGFSAWKATCGWEEVYVCCVEVLFVTLEIFKEFSSPAMLFLYGGNITPWLRYAEWLLTCPVILIHLSNLTGLANDYNKRTMGLLVSDIGTIVWGTTAALSKGYVRVIFFLMGLCYGIYTFFNAAKVYIEANHSVPKGHCRMVVKLMAYAYFASWLMFPGLFIFGPEGMHTLSPYANSIGHSICDIIAKEFWTFLAHHLRIKIHEHIIMYGDIRRPVSSQFLGRKVDVLAFVTEEDKV\",\"MSRLVAASWLLALLLCGITSTTTASAHIVMVDAYKPTKSAPAASSTDGTAAAAVSHYAMNGFDELAKGAVVPEDHFVCGPADKCYCSAWLHSRGTNAEKLAANILQWITFALSALCLMFYGYQTWKSTCGWEEIYVATIEMIKFIIEYFHEFDSPAMLFLYGGNITPWLRYAEWLLSCPVILIRLSNLSGLKNDYSKRTMGLIVSDLGTICMGVTAALATGWVKWLFYCIGLVYGTQTFYNAGIIYVEAYHTVPKGRCRQVVTGMAWLFFVSWLMFPGLFIFGPEGMHTLSPYANSIGHSICDIIAKEFWTFLAHHLRIKIHEHILIHGDIRKTTKMEIGGEEVEVEEFVEEEDEDTV\",\"MSRLVAASWLLALLLCGITSTTTASAHIVMVDAYKPTKSAPAASSTDGTAAAAVSHYAMNGFDELAKGAVVPEDHFVCGPADKCYCSAWLHSRGTNAEKLAANILQWIAVFLSALFLAFYGWHAYKASVGWEEVYVCSVELIKVILEIYFEFTSPATVYLSTGNHAYCLRYFEWLLTCPVILIHLSNLTGLANDYNKRTMGLLVSCVGMIVFGMAAGLATDWLKWLLYIVSCIYGGYMYFQAAKCYVEAYHTVPKGRCRQVVTGMAWLFFVSWGSYPILWAVGPEGLLKLSVAGSTIGHTIADLLSKNIWGLLGHFLRIKIHEHIIMYGDIRRPVSSQFLGRKVDVLAFVTEEDKV\",\"MGGAPAPDAHSAPPGNDSAAHIVMVDAYKPTKGGSEYHAPAGYQVNPPYHPVHGYEEQCSSIYIYYGTNAEKLAANILQWIAVFLSALFLAFYGWHAYKASVGWEEVYVCSVELIKVILEIYFEFTEPAVIYSSNGNKTVWLRYAEWLLTCPVILIHLSNITGLSEAYNKRTMALLVSDIGTIVWGTTAALSKGYVRVIFFLMGLCYGIYTFFNAAKVYIEANHSVPKGHCRMVVKLMAYAYFASWLMFPGLFIFGPEGMHTLSPYANSIGHSICDIIAKEFWTFLAHHLRIKIHEHIIMYGDIRRPVSSQFLGRKVDVLAFVTEEDKV\",\"MSRLVAASWLLALLLCGITSTTTASAHIVMVDAYKPTKSAPAASSTDGTAAAAVSHYAMNGFDELAKGAVVPEDHFVCGPADKCYCSAWLHSRGTPGEKIGAQVCQWITFALSALCLMFYGYQTWKSTCGWEEIYVATIEMIKFIIEYFHEFDSPAMLFLYGGNITPWLRYAEWLLTCPVILIHLSNLTGLANDYNKRTMGLLVSCVGMIVFGMAAGLATDWLKWLLYIVSCIYGGYMYFQAAKCYVESYYIMPAGGCKKLVLAMTAVYYSSWLMFPGLFIFGPEGMHTLSVYGSTVGHTIIDLMSKNCWGLLGHYLRVLIHEHIIMYGDIRRPVSSQFLGRKVDVLAFVTEEDKV\",\"MSRLVAASWLLALLLCGITSTTTASAHIVMVDAYKPTKSAPAASSTDGTAAAAVSHYAMNGFDELAKGAVVPEDHFVCGPADKCYCSAWLHSRGALWEQETARGFQWFAFSIAIALLTFYGFSAWKATCGWEEVYVCCVEVLFVTLEIFKEFSEPAVIYSSNGNKTVWLRYAEWLLTCPVILIHLSNITGLSEAYNKRTMALLVSCVGMIVFGMAAGLATDWLKWLLYIVSCIYGGYMYFQAAKCYVEANHSVPKGHCRMVVKLMAYAYFASWGMFPILFILGPEGFGVLSVAGSTIGHTIADLLSKNIWGLLGHFLRIKIHEHILIHGDIRKTTKLNIGGTEIEVETLVEDEAEAGAV\",\"MGGAPAPDAHSAPPGNDSAAHIVMVDAYKPTKGGSEYHAPAGYQVNPPYHPVHGYEEQCSSIYIYYGALWEQETARGFQWFAFSIAIALLTFYGFSAWKATCGWEEVYVCCVEVLFVTLEIFKEFSSPATVYLSTGNHAYCLRYFEWLLTCPVILIHLSNITGLSEAYNKRTMALLVSDLGTICMGVTAALATGWVKWLFYCIGLVYGTQTFYNAGIIYVEAYHTVPKGRCRQVVTGMAWLFFVSWGMFPILFILGPEGFGVLSPYANSIGHSICDIIAKEFWTFLAHHLRIKIHEHIIMYGDIRRPVSSQFLGRKVDVLAFVTEEDKV\",\"MGGAPAPDAHSAPPGNDSAAHIVMVDAYKPTKGGSEYHAPAGYQVNPPYHPVHGYEEQCSSIYIYYGTNAEKLAANILQWITFALSALCLMFYGYQTWKSTCGWEEIYVATIEMIKFIIEYFHEFDSPATVYLSTGNHAYCLRYFEWLLTCPVILIHLSNLTGLANDYNKRTMGLLVSCVGMIVFGMAAGLATDWLKWLLYIVSCIYGGYMYFQAAKCYVESYYIMPAGGCKKLVLAMTAVYYSSWGMFPILFILGPEGFGVLSVAGSTIGHTIADLLSKNIWGLLGHFLRIKIHEHIIMYGDIRRPVSSQFLGRKVDVLAFVTEEDKV\",\"MGGAPAPDAHSAPPGNDSAAHIVMVDAYKPTKGGSEYHAPAGYQVNPPYHPVHGYEEQCSSIYIYYGTNAEKLAANILQWIAFSIAIALLTFYGFSAWKATCGWEEVYVCCVEVLFVTLEIFKEFSSPAMLFLYGGNITPWLRYAEWLLSCPVILIRLSNLSGLKNDYSKRTMGLIVSDLGTICMGVTAALATGWVKWLFYCIGLVYGTQTFYNAGIIYVEANHSVPKGHCRMVVKLMAYAYFASWLMFPGLFIFGPEGMHTLSVYGSTVGHTIIDLMSKNCWGLLGHYLRVLIHEHILIHGDIRKTTKLNIGGTEIEVETLVEDEAEAGAV\",\"MSRRPWLLALALAVALAAGSAGAAHIVMVDAYKPTKSTGSDATVPVATQDGPDYVFHRAHERMLFQTSYTLENNGSVICIPNNGQCFCLAWLKSNGALWEQETARGFQWFAVFLSALFLAFYGWHAYKASVGWEEVYVCSVELIKVILEIYFEFTEPAVIYSSGGNKTVWLRYAEWLLTCPVILIHLSNITGLSEAYNKRTMALLVSDLGTICMGVTAALATGWVKWLFYCIGLVYGTQTFYNAGIIYVESYYIMPAGGCKKLVLAMTAVYYSSWLMFPGLFIFGPEGMHTLSVAGSTIGHTIADLLSKNIWGLLGHFLRIKIHEHIIMYGDIRRPVSSQFLGRKVDVLAFVTEEDKV\",\"MSRRPWLLALALAVALAAGSAGAAHIVMVDAYKPTKSTGSDATVPVATQDGPDYVFHRAHERMLFQTSYTLENNGSVICIPNNGQCFCLAWLKSNGTPGEKIGAQVCQWIAFSIAIALLTFYGFSAWKATCGWEEVYVCCVEVLFVTLEIFKEFSEPAVIYSSTGNKTVCLRYFEWLLSCPVILIRLSNLSGLKNDYSKRTMGLIVSCVGMIVFGMAAGLATDWLKWLLYIVSCIYGGYMYFQAAKCYVEANHSVPKGHCRMVVKLMAYAYFASWGSYPILWAVGPEGLLKLSPYANSIGHSICDIIAKEFWTFLAHHLRIKIHEHILIHGDIRKTTKMEIGGEEVEVEEFVEEEDEDTV\",\"MSRRPWLLALALAVALAAGSAGAAHIVMVDAYKPTKSTGSDATVPVATQDGPDYVFHRAHERMLFQTSYTLENNGSVICIPNNGQCFCLAWLKSNGTNAEKLAANILQWITFALSALCLMFYGYQTWKSTCGWEEIYVATIEMIKFIIEYFHEFDEPAVIYSSNGNKTVWLRYAEWLLTCPVILIHLSNLTGLANDYNKRTMGLLVSDIGTIVWGTTAALSKGYVRVIFFLMGLCYGIYTFFNAAKVYIEAYHTVPKGRCRQVVTGMAWLFFVSWGMFPGLFIFGPEGMHTLSVYGSTVGHTIIDLMSKNCWGLLGHYLRVLIHEHILIHGDIRKTTKLNIGGTEIEVETLVEDEAEAGAV\",\"MSRRPWLLALALAVALAAGSAGAAHIVMVDAYKPTKSTGSDATVPVATQDGPDYVFHRAHERMLFQTSYTLENNGSVICIPNNGQCFCLAWLKSNGALWEQETARGFQWFAFFLSALFLAFYGYQTWKSTCGWEEIYVATIEMIKFIIEYFHEFDEPAVIYSSNGNKTVWLRYAEWLLTCPVILIHLSNLTGLANDYNKRTMGLLVSDIGTIVWGTTAALSKGYVRVIFFLMGLCYGIYTFFNAAKVYIEAYHTVPKGRCRQVVTGMAWLFFVSWGMFPILFILGPEGFGVLSVAGSTIGHTIADLLSKNIWGLLGHYLRVLIHEHILIHGDIRKTTKLNIGGTEIEVETLVEDEAEAGAV\",\"MSRRPWLLALALAVALAAGSAGAAHIVMVDAYKPTKSTGSDATVPVATQDGPDYVFHRAHERMLFQTSYTLENNGSVICIPNNGQCFCLAWLKSNGTNAEKLAANILQWITVALSALCLMFYGWHAYKASVGWEEVYVCSVELIKVILEIYFEFTEPAVIYSSNGNKTVWLRYAEWLLTCPVILIHLSNLTGLANDYNKRTMGLLVSDIGTIVWGTTAALSKGYVRVIFFLMGLCYGIYTFFNAAKVYIEAYHTVPKGRCRQVVTGMAWLFFVSWGMFPILFILGPEGFGVLSVYGSTVGHTIIDLMSKNCWGLLGHYLRVLIHEHILIHGDIRKTTKLNIGGTEIEVETLVEDEAEAGAV\",\"MSRRPWLLALALAVALAAGSAGAAHIVMVDAYKPTKSTGSDATVPVATQDGPDYVFHRAHERMLFQTSYTLENNGSVICIPNNGQCFCLAWLKSNGTNAEKLAANILQWITFALSALCLMFYGYQTWKSTCGWEEIYVATIEMIKFIIEYFHEFDEPAVIYSSNGNKTVWLRYAEWLLTCPVILIHLSNLTGLSEAYNKRTMGLLVSDIGTIVWGTTAALSKGYVRVIFFLMGLCYGIYTFFNAAKVYIEAYHTVPKGRCRQVVTGMAWLFFVSWGMFPILFILGPEGFGVLSVYGSTVGHTIIDLMSKNCWGLLGHYLRVLIHEHILIHGDIRKTTKLNIGGTEIEVETLVEDEAEAGAV\",\"MSRRPWLLALALAVALAAGSAGAAHIVMVDAYKPTKSTGSDATVPVATQDGPDYVFHRAHERMLFQTSYTLENNGSVICIPNNGQCFCLAWLKSNGTNAEKLAANILQWITFALSALCLMFYGYQTWKSTCGWEEIYVATIEMIKFIIEYFHEFDEPAVIYSSNGNKTVWLRYAEWLLTCPVILIHLSNITGLANDYNKRTMGLLVSDIGTIVWGTTAALSKGYVRVIFFLMGLCYGIYTFFNAAKVYIESYYIMPKGRCRQVVTGMAWLFFVSWGMFPILFILGPEGFGVLSVYGSTVGHTIIDLMSKNCWGLLGHYLRVLIHEHIIMYGDIRRPVSSQFLGRKVDVLAFVTEEDKV\",\"MSRRPWLLALALAVALAAGSAGAAHIVMVDAYKPTKSTGSDATVPVATQDGPDYVFHRAHERMLFQTSYTLENNGSVICIPNNGQCFCLAWLKSNGTNAEKLAANILQWITFALSALCLMFYGYQTWKSTCGWEEIYVATIEMIKFIIEYFHEFDEPAVIYSSNGNKTVWLRYAEWLLTCPVILIHLSNLTGLANDYNKRTMGLLVSDIGTIVWGTTAALSKGYVRVIFFLMGLCYGIYTFFNAAKVYIEAYHTVPAGGCKKLVLAMTAVYYSSWLMFPILFILGPEGFGVLSVYGSTVGHTIIDLMSKNCWGLLGHFLRIKIHEHILIHGDIRKTTKLNIGGTEIEVETLVEDEAEAGAV\",\"MSRRPWLLALALAVALAAGSAGAAHIVMVDAYKPTKSTGSDATVPVATQDGPDYVFHRAHERMLFQTSYTLENNGSVICIPNNGQCFCLAWLKSNGTNAEKLAANILQWITFALSALCLMFYGYQTWKSTCGWEEIYVATIEMIKFIIEYFHEFDEPAVIYSSNGNKTVWLRYAEWLLTCPVILIHLSNLTGLANDYNKRTMGLLVSDLGTICMGVTAALSKGYVRVIFFLMGLCYGIYTFFNAAKVYIEAYHTVPKGRCRQVVTGMAWLFFVSWGMFPILFILGPEGFGVLSVYGSTVGHTIIDLMSKNCWGLLGHYLRVLIHEHILIHGDIRKTTKLNIGGTEIEVETLVEDEAEAGAV\",\"MSRRPWLLALALAVALAAGSAGAAHIVMVDAYKPTKSTGSDATVPVATQDGPDYVFHRAHERMLFQTSYTLENNGSVICIPNNGQCFCLAWLKSNGTNAEKLAANILQWITFALSALCLMFYGYQTWKSTCGWEEIYVATIEMIKFIIEYFHEFDEPAVIYSSGGNKTVWLRYAEWLLTCPVILIHLSNLTGLANDYNKRTMGLLVSDIGTIVWGTTAALATGWVKWLFYCIGLVYGIYTFFNAAKVYIEAYHTVPKGRCRQVVTGMAWLFFVSWGMFPILFILGPEGFGVLSVYGSTVGHTIIDLMSKNCWGLLGHYLRVLIHEHILIHGDIRKTTKLNIGGTEIEVETLVEDEAEAGAV\",\"MSRRPWLLALALAVALAAGSAGAAHIVMVDAYKPTKSTGSDATVPVATQDGPDYVFHRAHERMLFQTSYTLENNGSVICIPNNGQCFCLAWLKSNGTNAEKLAANILQWITFALSALCLMFYGYQTWKSTCGWEEIYVATIEMIKFIIEYFHEFDEPAVIYSSNGNKTVWLRYAEWLLTCPVILIHLSNLTGLANDYNKRTMALLVSDIGTIVWGTTAALSKGYVRVIFFLMGLCYGTQTFYNAGIIYVEAYHTVPKGRCRQVVTGMAWLFFVSWGMFPILFILGPEGFGVLSVYGSTVGHTIIDLMSKNCWGLLGHYLRVLIHEHILIHGDIRKTTKLNIGGTEIEVETLVEDEAEAGAV\",\"MSRRPWLLALALAVALAAGSAGAAHIVMVDAYKPTKSTGSDATVPVATQDGPDYVFHRAHERMLFQTSYTLENNGSVICIPNNGQCFCLAWLKSNGTNAEKLAANILQWITFALSALCLMFYGYQTWKSTCGWEEIYVATIEMIKFIIEYFHEFDEPAVIYSSNGNKTVWLRYAEWLLTCPVILIHLSNLTGLANDYNKRTMGLLVSDIGTIVWGTTAALSKGYVRVIFFLMGLCYGIYTFFNAAKVYIEAYHTVPKGRCRQVVTGMAWLFFVSWGMFPILWAVGPEGLLKLSVYGSTVGHTIIDLMSKNCWGLLGHYLRVLIHEHILIHGDIRKTTKLNIGGTEIEVETLVEDEAEAGAV\",\"MSRRPWLLALALAVALAAGSAGAAHIVMVDAYKPTKSTGSDATVPVATQDGPDYVFHRAHERMLFQTSYTLENNGSVICIPNNGQCFCLAWLKSNGTPGEKIGAQVCQWIAFSIAIALLTFYGYQTWKSTCGWEEIYVATIEMIKFIIEYFHEFDEPAVIYSSNGNKTVWLRYAEWLLTCPVILIRLSNLTGLANDYNKRTMGLLVSDIGTIVWGTTAALSKGYVRVIFFLMGLCYGIYTFFNAAKVYIEAYHTVPKGRCRQVVTGMAWLFFVSWGSYPILFILGPEGFGVLSPYANSIGHSICDIIAKEFWTFLAHYLRVLIHEHILIHGDIRKTTKLNIGGTEIEVETLVEDEAEAGAV\",\"MSRRPWLLALALAVALAAGSAGAAHIVMVDAYKPTKSTGSDATVPVATQDGPDYVFHRAHERMLFQTSYTLENNGSVICIPNNGQCFCLAWLKSNGTNAEKLAANILQWITFALSALCLMFYGFSAWKATCGWEEVYVCCVEVLFVTLEIFKEFSEPAVIYSSNGNKTVWLRYAEWLLSCPVILIHLSNLTGLANDYNKRTMGLLVSDIGTIVWGTTAALSKGYVRVIFFLMGLCYGIYTFFNAAKVYIEAYHTVPKGRCRQVVTGMAWLFFVSWGMFPILFILGPEGFGVLSVYGSTVGHTIIDLMSKNCWGLLGHYLRVLIHEHILIHGDIRKTTKLNIGGTEIEVETLVEDEAEAGAV\",\"MSRRPWLLALALAVALAAGSAGAAHIVMVDAYKPTKSTGSDATVPVATQDGPDYVFHRAHERMLFQTSYTLENNGSVICIPNNGQCFCLAWLKSNGTNAEKLAANILQWITFALSALCLMFYGYQTWKSTCGWEEIYVATIEMIKFIIEYFHEFDEPAVIYSSNGNKTVWLRYAEWLLTCPVILIHLSNLTGLKNDYSKRTMGLLVSDIGTIVWGTTAALSKGYVRVIFFLMGLCYGIYTFFNAAKVYIEAYHTVPKGRCRQVVTGMAWLFFVSWGMFPILFILGPEGFGVLSVYGSTVGHTIIDLMSKNCWGLLGHYLRVLIHEHILIHGDIRKTTKLNIGGTEIEVETLVEDEAEAGAV\",\"MSRRPWLLALALAVALAAGSAGAAHIVMVDAYKPTKSTGSDATVPVATQDGPDYVFHRAHERMLFQTSYTLENNGSVICIPNNGQCFCLAWLKSNGTNAEKLAANILQWITFALSALCLMFYGYQTWKSTCGWEEIYVATIEMIKFIIEYFHEFDEPAVIYSSNGNKTVWLRYAEWLLTCPVILIHLSNLSGLANDYNKRTMGLLVSDIGTIVWGTTAALSKGYVRVIFFLMGLCYGIYTFFNAAKVYIEANHSVPKGRCRQVVTGMAWLFFVSWGMFPILFILGPEGFGVLSVYGSTVGHTIIDLMSKNCWGLLGHYLRVLIHEHILIHGDIRKTTKMEIGGEEVEVEEFVEEEDEDTV\",\"MSRRPWLLALALAVALAAGSAGAAHIVMVDAYKPTKSTGSDATVPVATQDGPDYVFHRAHERMLFQTSYTLENNGSVICIPNNGQCFCLAWLKSNGTNAEKLAANILQWITFALSALCLMFYGYQTWKSTCGWEEIYVATIEMIKFIIEYFHEFDEPAVIYSSNGNKTVWLRYAEWLLTCPVILIHLSNLTGLANDYNKRTMGLLVSDIGTIVWGTTAALSKGYVRVIFFLMGLCYGIYTFFNAAKVYIEAYHTVPKGHCRMVVKLMAYAYFASWGMFPILFILGPEGFGVLSVYGSTVGHTIIDLMSKNCWGLLGHHLRIKIHEHILIHGDIRKTTKLNIGGTEIEVETLVEDEAEAGAV\",\"MSRRPWLLALALAVALAAGSAGAAHIVMVDAYKPTKSTGSDATVPVATQDGPDYVFHRAHERMLFQTSYTLENNGSVICIPNNGQCFCLAWLKSNGTNAEKLAANILQWITFALSALCLMFYGYQTWKSTCGWEEIYVATIEMIKFIIEYFHEFDEPAVIYSSNGNKTVCLRYFEWLLTCPVILIHLSNLTGLANDYNKRTMGLIVSCVGMIVFGMAAGLSKGYVRVIFFLMGLCYGIYTFFNAAKVYIEAYHTVPKGRCRQVVTGMAWLFFVSWGMFPILFILGPEGFGVLSVYGSTVGHTIIDLMSKNCWGLLGHYLRVLIHEHILIHGDIRKTTKLNIGGTEIEVETLVEDEAEAGAV\",\"MSRRPWLLALALAVALAAGSAGAAHIVMVDAYKPTKSTGSDATVPVATQDGPDYVFHRAHERMLFQTSYTLENNGSVICIPNNGQCFCLAWLKSNGTNAEKLAANILQWITFALSALCLMFYGYQTWKSTCGWEEIYVATIEMIKFIIEYFHEFDEPAVIYSSTGNKTVWLRYAEWLLTCPVILIHLSNLTGLANDYNKRTMGLLVSDIGTIVWGTTAALATDWLKWLLYIVSCIYGIYTFFNAAKVYIEAYHTVPKGRCRQVVTGMAWLFFVSWGMFPILFILGPEGFGVLSVYGSTVGHTIIDLMSKNCWGLLGHYLRVLIHEHILIHGDIRKTTKLNIGGTEIEVETLVEDEAEAGAV\",\"MSRRPWLLALALAVALAAGSAGAAHIVMVDAYKPTKSTGSDATVPVATQDGPDYVFHRAHERMLFQTSYTLENNGSVICIPNNGQCFCLAWLKSNGTNAEKLAANILQWITFALSALCLMFYGYQTWKSTCGWEEIYVATIEMIKFIIEYFHEFDEPAVIYSSNGNKTVWLRYAEWLLTCPVILIHLSNLTGLANDYNKRTMGLLVSDIGTIVWGTTAALSKGYVRVIFFLMGLCYGGYMYFQAAKCYVEAYHTVPKGRCRQVVTGMAWLFFVSWGMFPILFILGPEGFGVLSVYGSTVGHTIIDLMSKNCWGLLGHYLRVLIHEHILIHGDIRKTTKLNIGGTEIEVETLVEDEAEAGAV\",\"MSRRPWLLALALAVALAAGSAGAAHIVMVDAYKPTKSTGSDATVPVATQDGPDYVFHRAHERMLFQTSYTLENNGSVICIPNNGQCFCLAWLKSNGTPGEKIGAQVCQWIAFSIAIALLTFYGYQTWKSTCGWEEIYVATIEMIKFIIEYFHEFDEPAVIYSSNGNKTVCLRYFEWLLTCPVILIRLSNLTGLKNDYSKRTMGLIVSCVGMIVFGMAAGLSKGYVRVIFFLMGLCYGGYMYFQAAKCYVEAYHTVPKGRCRQVVTGMAWLFFVSWGSYPILWAVGPEGLLKLSPYANSIGHSICDIIAKEFWTFLAHYLRVLIHEHILIHGDIRKTTKLNIGGTEIEVETLVEDEAEAGAV\",\"MSRRPWLLALALAVALAAGSAGAAHIVMVDAYKPTKSTGSDATVPVATQDGPDYVFHRAHERMLFQTSYTLENNGSVICIPNNGQCFCLAWLKSNGTNAEKLAANILQWITFALSALCLMFYGFSAWKATCGWEEVYVCCVEVLFVTLEIFKEFSEPAVIYSSTGNKTVWLRYAEWLLSCPVILIHLSNLSGLANDYNKRTMGLLVSDIGTIVWGTTAALATDWLKWLLYIVSCIYGIYTFFNAAKVYIEANHSVPKGHCRMVVKLMAYAYFASWGMFPILFILGPEGFGVLSVYGSTVGHTIIDLMSKNCWGLLGHHLRIKIHEHILIHGDIRKTTKMEIGGEEVEVEEFVEEEDEDTV\",\"MSRRPWLLALALAVALAAGSAGAAHIVMVDAYKPTKSTGSDATVPVATQDGPDYVFHRAHERMLFQTSYTLENNGSVICIPNNGQCFCLAWLKSNGTPGEKIGAQVCQWIAFSIAIALLTFYGFSAWKATCGWEEVYVCCVEVLFVTLEIFKEFSEPAVIYSSTGNKTVCLRYFEWLLSCPVILIRLSNITGLSEAYNKRTMALIVSCVGMIVFGMAAGLATDWLKWLLYIVSCIYGTQTFYNAGIIYVESYYIMPKGHCRMVVKLMAYAYFASWGSYPGLFIFGPEGMHTLSPYANSIGHSICDIIAKEFWTFLAHHLRIKIHEHIIMYGDIRRPVSSQFLGRKVDVLAFVTEEDKV\",\"MSRRPWLLALALAVALAAGSAGAAHIVMVDAYKPTKSTGSDATVPVATQDGPDYVFHRAHERMLFQTSYTLENNGSVICIPNNGQCFCLAWLKSNGTNAEKLAANILQWITFALSALCLMFYGYQTWKSTCGWEEIYVATIEMIKFIIEYFHEFDEPAVIYSSTGNKTVCLRYFEWLLTCPVILIHLSNITGLKNDYSKRTMGLIVSCVGMIVFGMAAGLATDWLKWLLYIVSCIYGGYMYFQAAKCYVESYYIMPAGGCKKLVLAMTAVYYSSWLMFPILWAVGPEGLLKLSVYGSTVGHTIIDLMSKNCWGLLGHFLRIKIHEHIIMYGDIRRPVSSQFLGRKVDVLAFVTEEDKV\",\"MSRRPWLLALALAVALAAGSAGAAHIVMVDAYKPTKSTGSDATVPVATQDGPDYVFHRAHERMLFQTSYTLENNGSVICIPNNGQCFCLAWLKSNGALWEQETARGFQWFAFFLSALFLAFYGFSAWKATCGWEEVYVCCVEVLFVTLEIFKEFSEPAVIYSSNGNKTVCLRYFEWLLSCPVILIHLSNITGLKNDYSKRTMGLIVSCVGMIVFGMAAGLSKGYVRVIFFLMGLCYGIYTFFNAAKVYIESYYIMPKGRCRQVVTGMAWLFFVSWGMFPILFILGPEGFGVLSVAGSTIGHTIADLLSKNIWGLLGHYLRVLIHEHIIMYGDIRRPVSSQFLGRKVDVLAFVTEEDKV\",\"MSRRPWLLALALAVALAAGSAGAAHIVMVDAYKPTKSTGSDATVPVATQDGPDYVFHRAHERMLFQTSYTLENNGSVICIPNNGQCFCLAWLKSNGTPGEKIGAQVCQWIAVSIAIALLTFYGWHAYKASVGWEEVYVCSVELIKVILEIYFEFTEPAVIYSSNGNKTVWLRYAEWLLTCPVILIRLSNITGLKNDYSKRTMGLLVSDIGTIVWGTTAALSKGYVRVIFFLMGLCYGIYTFFNAAKVYIESYYIMPAGGCKKLVLAMTAVYYSSWLSYPILFILGPEGFGVLSPYANSIGHSICDIIAKEFWTFLAHFLRIKIHEHIIMYGDIRRPVSSQFLGRKVDVLAFVTEEDKV\",\"MSRRPWLLALALAVALAAGSAGAAHIVMVDAYKPTKSTGSDATVPVATQDGPDYVFHRAHERMLFQTSYTLENNGSVICIPNNGQCFCLAWLKSNGTNAEKLAANILQWITFALSALCLMFYGYQTWKSTCGWEEIYVATIEMIKFIIEYFHEFDEPAVIYSSNGNKTVWLRYAEWLLTCPVILIHLSNITGLSEAYNKRTMALLVSDIGTIVWGTTAALSKGYVRVIFFLMGLCYGTQTFYNAGIIYVESYYIMPKGRCRQVVTGMAWLFFVSWGMFPGLFIFGPEGMHTLSVYGSTVGHTIIDLMSKNCWGLLGHYLRVLIHEHIIMYGDIRRPVSSQFLGRKVDVLAFVTEEDKV\",\"MSRRPWLLALALAVALAAGSAGAAHIVMVDAYKPTKSTGSDATVPVATQDGPDYVFHRAHERMLFQTSYTLENNGSVICIPNNGQCFCLAWLKSNGTNAEKLAANILQWITVALSALCLMFYGWHAYKASVGWEEVYVCSVELIKVILEIYFEFTEPAVIYSSNGNKTVCLRYFEWLLTCPVILIHLSNLTGLSEAYNKRTMALIVSCVGMIVFGMAAGLSKGYVRVIFFLMGLCYGTQTFYNAGIIYVEAYHTVPAGGCKKLVLAMTAVYYSSWLMFPILFILGPEGFGVLSVYGSTVGHTIIDLMSKNCWGLLGHFLRIKIHEHILIHGDIRKTTKLNIGGTEIEVETLVEDEAEAGAV\",\"MSRRPWLLALALAVALAAGSAGAAHIVMVDAYKPTKSTGSDATVPVATQDGPDYVFHRAHERMLFQTSYTLENNGSVICIPNNGQCFCLAWLKSNGALWEQETARGFQWFAFFLSALFLAFYGYQTWKSTCGWEEIYVATIEMIKFIIEYFHEFDEPAVIYSSNGNKTVWLRYAEWLLTCPVILIHLSNLSGLKNDYSKRTMALLVSDIGTIVWGTTAALSKGYVRVIFFLMGLCYGTQTFYNAGIIYVEANHSVPKGHCRMVVKLMAYAYFASWGMFPILWAVGPEGLLKLSVAGSTIGHTIADLLSKNIWGLLGHHLRIKIHEHILIHGDIRKTTKMEIGGEEVEVEEFVEEEDEDTV\",\"MSRRPWLLALALAVALAAGSAGAAHIVMVDAYKPTKSTGSDATVPVATQDGPDYVFHRAHERMLFQTSYTLENNGSVICIPNNGQCFCLAWLKSNGTNAEKLAANILQWITVALSALCLMFYGWHAYKASVGWEEVYVCSVELIKVILEIYFEFTEPAVIYSSNGNKTVWLRYAEWLLTCPVILIHLSNITGLSEAYNKRTMGLLVSDLGTICMGVTAALSKGYVRVIFFLMGLCYGGYMYFQAAKCYVESYYIMPKGHCRMVVKLMAYAYFASWGMFPILWAVGPEGLLKLSVYGSTVGHTIIDLMSKNCWGLLGHHLRIKIHEHIIMYGDIRRPVSSQFLGRKVDVLAFVTEEDKV\",\"MSRRPWLLALALAVALAAGSAGAAHIVMVDAYKPTKSTGSDATVPVATQDGPDYVFHRAHERMLFQTSYTLENNGSVICIPNNGQCFCLAWLKSNGALWEQETARGFQWFAFFLSALFLAFYGFSAWKATCGWEEVYVCCVEVLFVTLEIFKEFSEPAVIYSSNGNKTVWLRYAEWLLSCPVILIHLSNLTGLSEAYNKRTMGLLVSDIGTIVWGTTAALSKGYVRVIFFLMGLCYGGYMYFQAAKCYVEAYHTVPAGGCKKLVLAMTAVYYSSWLMFPGLFIFGPEGMHTLSVAGSTIGHTIADLLSKNIWGLLGHFLRIKIHEHILIHGDIRKTTKLNIGGTEIEVETLVEDEAEAGAV\",\"MSRRPWLLALALAVALAAGSAGAAHIVMVDAYKPTKSTGSDATVPVATQDGPDYVFHRAHERMLFQTSYTLENNGSVICIPNNGQCFCLAWLKSNGALWEQETARGFQWFAVFLSALFLAFYGWHAYKASVGWEEVYVCSVELIKVILEIYFEFTEPAVIYSSTGNKTVCLRYFEWLLTCPVILIHLSNLSGLSEAYNKRTMGLIVSCVGMIVFGMAAGLATDWLKWLLYIVSCIYGGYMYFQAAKCYVEANHSVPKGRCRQVVTGMAWLFFVSWGMFPGLFIFGPEGMHTLSVAGSTIGHTIADLLSKNIWGLLGHYLRVLIHEHILIHGDIRKTTKMEIGGEEVEVEEFVEEEDEDTV\",\"MSRRPWLLALALAVALAAGSAGAAHIVMVDAYKPTKSTGSDATVPVATQDGPDYVFHRAHERMLFQTSYTLENNGSVICIPNNGQCFCLAWLKSNGALWEQETARGFQWFAVFLSALFLAFYGWHAYKASVGWEEVYVCSVELIKVILEIYFEFTEPAVIYSSTGNKTVWLRYAEWLLTCPVILIHLSNLTGLKNDYSKRTMALLVSDIGTIVWGTTAALATDWLKWLLYIVSCIYGTQTFYNAGIIYVEAYHTVPKGRCRQVVTGMAWLFFVSWGMFPILWAVGPEGLLKLSVAGSTIGHTIADLLSKNIWGLLGHYLRVLIHEHILIHGDIRKTTKLNIGGTEIEVETLVEDEAEAGAV\",\"MSRRPWLLALALAVALAAGSAGAAHIVMVDAYKPTKSTGSDATVPVATQDGPDYVFHRAHERMLFQTSYTLENNGSVICIPNNGQCFCLAWLKSNGTPGEKIGAQVCQWIAFSIAIALLTFYGFSAWKATCGWEEVYVCCVEVLFVTLEIFKEFSEPAVIYSSTGNKTVWLRYAEWLLSCPVILIRLSNLSGLSEAYNKRTMALLVSDLGTICMGVTAALATDWLKWLLYIVSCIYGTQTFYNAGIIYVEANHSVPAGGCKKLVLAMTAVYYSSWLSYPILWAVGPEGLLKLSPYANSIGHSICDIIAKEFWTFLAHFLRIKIHEHILIHGDIRKTTKMEIGGEEVEVEEFVEEEDEDTV\",\"MGGAPAPDAHSAPPGNDSAAHIVMVDAYKPTKGGSEYHAPAGYQVNPPYHPVHGYEEQCSSIYIYYGALWEQETARGFQWFAVFLSALFLAFYGWHAYKASVGWEEVYVCSVELIKVILEIYFEFTSPAMLFLYGGNITPWLRYAEWLLTCPVILIHLSNITGLSEAYNKRTMALLVSDLGTICMGVTAALATGWVKWLFYCIGLVYGTQTFYNAGIIYVESYYIMPAGGCKKLVLAMTAVYYSSWLMFPILFILGPEGFGVLSVAGSTIGHTIADLLSKNIWGLLGHFLRIKIHEHIIMYGDIRRPVSSQFLGRKVDVLAFVTEEDKV\",\"MGGAPAPDAHSAPPGNDSAAHIVMVDAYKPTKGGSEYHAPAGYQVNPPYHPVHGYEEQCSSIYIYYGTNAEKLAANILQWITVALSALCLMFYGWHAYKASVGWEEVYVCSVELIKVILEIYFEFTSPAMLFLYGGNITPWLRYAEWLLTCPVILIHLSNITGLSEAYNKRTMALLVSDLGTICMGVTAALATGWVKWLFYCIGLVYGTQTFYNAGIIYVESYYIMPAGGCKKLVLAMTAVYYSSWLMFPGLFIFGPEGMHTLSVYGSTVGHTIIDLMSKNCWGLLGHFLRIKIHEHIIMYGDIRRPVSSQFLGRKVDVLAFVTEEDKV\",\"MGGAPAPDAHSAPPGNDSAAHIVMVDAYKPTKGGSEYHAPAGYQVNPPYHPVHGYEEQCSSIYIYYGALWEQETARGFQWFAFFLSALFLAFYGYQTWKSTCGWEEIYVATIEMIKFIIEYFHEFDSPAMLFLYGGNITPWLRYAEWLLTCPVILIHLSNITGLSEAYNKRTMALLVSDLGTICMGVTAALATGWVKWLFYCIGLVYGTQTFYNAGIIYVESYYIMPAGGCKKLVLAMTAVYYSSWLMFPGLFIFGPEGMHTLSVAGSTIGHTIADLLSKNIWGLLGHFLRIKIHEHIIMYGDIRRPVSSQFLGRKVDVLAFVTEEDKV\",\"MGGAPAPDAHSAPPGNDSAAHIVMVDAYKPTKGGSEYHAPAGYQVNPPYHPVHGYEEQCSSIYIYYGALWEQETARGFQWFAVFLSALFLAFYGWHAYKASVGWEEVYVCSVELIKVILEIYFEFTSPAMLFLYGGNITPWLRYAEWLLTCPVILIHLSNITGLANDYNKRTMALLVSDLGTICMGVTAALATGWVKWLFYCIGLVYGTQTFYNAGIIYVESYYIMPAGGCKKLVLAMTAVYYSSWLMFPGLFIFGPEGMHTLSVAGSTIGHTIADLLSKNIWGLLGHFLRIKIHEHIIMYGDIRRPVSSQFLGRKVDVLAFVTEEDKV\",\"MGGAPAPDAHSAPPGNDSAAHIVMVDAYKPTKGGSEYHAPAGYQVNPPYHPVHGYEEQCSSIYIYYGALWEQETARGFQWFAVFLSALFLAFYGWHAYKASVGWEEVYVCSVELIKVILEIYFEFTSPAMLFLYGGNITPWLRYAEWLLTCPVILIHLSNLTGLSEAYNKRTMALLVSDLGTICMGVTAALATGWVKWLFYCIGLVYGTQTFYNAGIIYVEAYHTVPAGGCKKLVLAMTAVYYSSWLMFPGLFIFGPEGMHTLSVAGSTIGHTIADLLSKNIWGLLGHFLRIKIHEHILIHGDIRKTTKLNIGGTEIEVETLVEDEAEAGAV\",\"MGGAPAPDAHSAPPGNDSAAHIVMVDAYKPTKGGSEYHAPAGYQVNPPYHPVHGYEEQCSSIYIYYGALWEQETARGFQWFAVFLSALFLAFYGWHAYKASVGWEEVYVCSVELIKVILEIYFEFTSPAMLFLYGGNITPWLRYAEWLLTCPVILIHLSNITGLSEAYNKRTMALLVSDLGTICMGVTAALATGWVKWLFYCIGLVYGTQTFYNAGIIYVESYYIMPKGRCRQVVTGMAWLFFVSWGMFPGLFIFGPEGMHTLSVAGSTIGHTIADLLSKNIWGLLGHYLRVLIHEHIIMYGDIRRPVSSQFLGRKVDVLAFVTEEDKV\",\"MGGAPAPDAHSAPPGNDSAAHIVMVDAYKPTKGGSEYHAPAGYQVNPPYHPVHGYEEQCSSIYIYYGALWEQETARGFQWFAVFLSALFLAFYGWHAYKASVGWEEVYVCSVELIKVILEIYFEFTSPAMLFLYGGNITPWLRYAEWLLTCPVILIHLSNITGLSEAYNKRTMALLVSDIGTIVWGTTAALATGWVKWLFYCIGLVYGTQTFYNAGIIYVESYYIMPAGGCKKLVLAMTAVYYSSWLMFPGLFIFGPEGMHTLSVAGSTIGHTIADLLSKNIWGLLGHFLRIKIHEHIIMYGDIRRPVSSQFLGRKVDVLAFVTEEDKV\",\"MGGAPAPDAHSAPPGNDSAAHIVMVDAYKPTKGGSEYHAPAGYQVNPPYHPVHGYEEQCSSIYIYYGALWEQETARGFQWFAVFLSALFLAFYGWHAYKASVGWEEVYVCSVELIKVILEIYFEFTSPAMLFLYNGNITPWLRYAEWLLTCPVILIHLSNITGLSEAYNKRTMALLVSDLGTICMGVTAALSKGYVRVIFFLMGLCYGTQTFYNAGIIYVESYYIMPAGGCKKLVLAMTAVYYSSWLMFPGLFIFGPEGMHTLSVAGSTIGHTIADLLSKNIWGLLGHFLRIKIHEHIIMYGDIRRPVSSQFLGRKVDVLAFVTEEDKV\",\"MGGAPAPDAHSAPPGNDSAAHIVMVDAYKPTKGGSEYHAPAGYQVNPPYHPVHGYEEQCSSIYIYYGALWEQETARGFQWFAVFLSALFLAFYGWHAYKASVGWEEVYVCSVELIKVILEIYFEFTSPAMLFLYGGNITPWLRYAEWLLTCPVILIHLSNITGLSEAYNKRTMGLLVSDLGTICMGVTAALATGWVKWLFYCIGLVYGIYTFFNAAKVYIESYYIMPAGGCKKLVLAMTAVYYSSWLMFPGLFIFGPEGMHTLSVAGSTIGHTIADLLSKNIWGLLGHFLRIKIHEHIIMYGDIRRPVSSQFLGRKVDVLAFVTEEDKV\",\"MGGAPAPDAHSAPPGNDSAAHIVMVDAYKPTKGGSEYHAPAGYQVNPPYHPVHGYEEQCSSIYIYYGALWEQETARGFQWFAVFLSALFLAFYGWHAYKASVGWEEVYVCSVELIKVILEIYFEFTSPAMLFLYGGNITPWLRYAEWLLTCPVILIHLSNITGLSEAYNKRTMALLVSDLGTICMGVTAALATGWVKWLFYCIGLVYGTQTFYNAGIIYVESYYIMPAGGCKKLVLAMTAVYYSSWLMFPILWAVGPEGLLKLSVAGSTIGHTIADLLSKNIWGLLGHFLRIKIHEHIIMYGDIRRPVSSQFLGRKVDVLAFVTEEDKV\",\"MGGAPAPDAHSAPPGNDSAAHIVMVDAYKPTKGGSEYHAPAGYQVNPPYHPVHGYEEQCSSIYIYYGTPGEKIGAQVCQWIAVSIAIALLTFYGWHAYKASVGWEEVYVCSVELIKVILEIYFEFTSPAMLFLYGGNITPWLRYAEWLLTCPVILIRLSNITGLSEAYNKRTMALLVSDLGTICMGVTAALATGWVKWLFYCIGLVYGTQTFYNAGIIYVESYYIMPAGGCKKLVLAMTAVYYSSWLSYPGLFIFGPEGMHTLSPYANSIGHSICDIIAKEFWTFLAHFLRIKIHEHIIMYGDIRRPVSSQFLGRKVDVLAFVTEEDKV\",\"MGGAPAPDAHSAPPGNDSAAHIVMVDAYKPTKGGSEYHAPAGYQVNPPYHPVHGYEEQCSSIYIYYGALWEQETARGFQWFAFFLSALFLAFYGFSAWKATCGWEEVYVCCVEVLFVTLEIFKEFSSPAMLFLYGGNITPWLRYAEWLLSCPVILIHLSNITGLSEAYNKRTMALLVSDLGTICMGVTAALATGWVKWLFYCIGLVYGTQTFYNAGIIYVESYYIMPAGGCKKLVLAMTAVYYSSWLMFPGLFIFGPEGMHTLSVAGSTIGHTIADLLSKNIWGLLGHFLRIKIHEHIIMYGDIRRPVSSQFLGRKVDVLAFVTEEDKV\",\"MGGAPAPDAHSAPPGNDSAAHIVMVDAYKPTKGGSEYHAPAGYQVNPPYHPVHGYEEQCSSIYIYYGALWEQETARGFQWFAVFLSALFLAFYGWHAYKASVGWEEVYVCSVELIKVILEIYFEFTSPAMLFLYGGNITPWLRYAEWLLTCPVILIHLSNITGLKNDYSKRTMALLVSDLGTICMGVTAALATGWVKWLFYCIGLVYGTQTFYNAGIIYVESYYIMPAGGCKKLVLAMTAVYYSSWLMFPGLFIFGPEGMHTLSVAGSTIGHTIADLLSKNIWGLLGHFLRIKIHEHIIMYGDIRRPVSSQFLGRKVDVLAFVTEEDKV\",\"MGGAPAPDAHSAPPGNDSAAHIVMVDAYKPTKGGSEYHAPAGYQVNPPYHPVHGYEEQCSSIYIYYGALWEQETARGFQWFAVFLSALFLAFYGWHAYKASVGWEEVYVCSVELIKVILEIYFEFTSPAMLFLYGGNITPWLRYAEWLLTCPVILIHLSNLSGLSEAYNKRTMALLVSDLGTICMGVTAALATGWVKWLFYCIGLVYGTQTFYNAGIIYVEANHSVPAGGCKKLVLAMTAVYYSSWLMFPGLFIFGPEGMHTLSVAGSTIGHTIADLLSKNIWGLLGHFLRIKIHEHILIHGDIRKTTKMEIGGEEVEVEEFVEEEDEDTV\",\"MGGAPAPDAHSAPPGNDSAAHIVMVDAYKPTKGGSEYHAPAGYQVNPPYHPVHGYEEQCSSIYIYYGALWEQETARGFQWFAVFLSALFLAFYGWHAYKASVGWEEVYVCSVELIKVILEIYFEFTSPAMLFLYGGNITPWLRYAEWLLTCPVILIHLSNITGLSEAYNKRTMALLVSDLGTICMGVTAALATGWVKWLFYCIGLVYGTQTFYNAGIIYVESYYIMPKGHCRMVVKLMAYAYFASWGMFPGLFIFGPEGMHTLSVAGSTIGHTIADLLSKNIWGLLGHHLRIKIHEHIIMYGDIRRPVSSQFLGRKVDVLAFVTEEDKV\",\"MSRLVAASWLLALLLCGITSTTTASAHIVMVDAYKPTKSAPAASSTDGTAAAAVSHYAMNGFDELAKGAVVPEDHFVCGPADKCYCSAWLHSRGALWEQETARGFQWFAVFLSALFLAFYGWHAYKASVGWEEVYVCSVELIKVILEIYFEFTSPATVYLSGGNHAYWLRYAEWLLTCPVILIHLSNITGLSEAYNKRTMALLVSDLGTICMGVTAALATGWVKWLFYCIGLVYGTQTFYNAGIIYVESYYIMPAGGCKKLVLAMTAVYYSSWLMFPGLFIFGPEGMHTLSVAGSTIGHTIADLLSKNIWGLLGHFLRIKIHEHIIMYGDIRRPVSSQFLGRKVDVLAFVTEEDKV\",\"MGGAPAPDAHSAPPGNDSAAHIVMVDAYKPTKGGSEYHAPAGYQVNPPYHPVHGYEEQCSSIYIYYGALWEQETARGFQWFAVFLSALFLAFYGWHAYKASVGWEEVYVCSVELIKVILEIYFEFTSPAMLFLYGGNITPCLRYFEWLLTCPVILIHLSNITGLSEAYNKRTMALIVSCVGMIVFGMAAGLATGWVKWLFYCIGLVYGTQTFYNAGIIYVESYYIMPAGGCKKLVLAMTAVYYSSWLMFPGLFIFGPEGMHTLSVAGSTIGHTIADLLSKNIWGLLGHFLRIKIHEHIIMYGDIRRPVSSQFLGRKVDVLAFVTEEDKV\",\"MGGAPAPDAHSAPPGNDSAAHIVMVDAYKPTKGGSEYHAPAGYQVNPPYHPVHGYEEQCSSIYIYYGALWEQETARGFQWFAVFLSALFLAFYGWHAYKASVGWEEVYVCSVELIKVILEIYFEFTSPAMLFLYTGNITPWLRYAEWLLTCPVILIHLSNITGLSEAYNKRTMALLVSDLGTICMGVTAALATDWLKWLLYIVSCIYGTQTFYNAGIIYVESYYIMPAGGCKKLVLAMTAVYYSSWLMFPGLFIFGPEGMHTLSVAGSTIGHTIADLLSKNIWGLLGHFLRIKIHEHIIMYGDIRRPVSSQFLGRKVDVLAFVTEEDKV\",\"MGGAPAPDAHSAPPGNDSAAHIVMVDAYKPTKGGSEYHAPAGYQVNPPYHPVHGYEEQCSSIYIYYGALWEQETARGFQWFAVFLSALFLAFYGWHAYKASVGWEEVYVCSVELIKVILEIYFEFTSPAMLFLYGGNITPWLRYAEWLLTCPVILIHLSNITGLSEAYNKRTMGLLVSDLGTICMGVTAALATGWVKWLFYCIGLVYGGYMYFQAAKCYVESYYIMPAGGCKKLVLAMTAVYYSSWLMFPGLFIFGPEGMHTLSVAGSTIGHTIADLLSKNIWGLLGHFLRIKIHEHIIMYGDIRRPVSSQFLGRKVDVLAFVTEEDKV\",\"MSRLVAASWLLALLLCGITSTTTASAHIVMVDAYKPTKSAPAASSTDGTAAAAVSHYAMNGFDELAKGAVVPEDHFVCGPADKCYCSAWLHSRGALWEQETARGFQWFAFFLSALFLAFYGFSAWKATCGWEEVYVCCVEVLFVTLEIFKEFSSPATVYLSTGNHAYCLRYFEWLLSCPVILIHLSNLSGLKNDYSKRTMGLIVSCVGMIVFGMAAGLATDWLKWLLYIVSCIYGGYMYFQAAKCYVEANHSVPKGHCRMVVKLMAYAYFASWGMFPILWAVGPEGLLKLSVAGSTIGHTIADLLSKNIWGLLGHHLRIKIHEHILIHGDIRKTTKMEIGGEEVEVEEFVEEEDEDTV\",\"MSRLVAASWLLALLLCGITSTTTASAHIVMVDAYKPTKSAPAASSTDGTAAAAVSHYAMNGFDELAKGAVVPEDHFVCGPADKCYCSAWLHSRGTPGEKIGAQVCQWIAVSIAIALLTFYGWHAYKASVGWEEVYVCSVELIKVILEIYFEFTSPATVYLSTGNHAYCLRYFEWLLTCPVILIRLSNLSGLKNDYSKRTMGLIVSCVGMIVFGMAAGLATDWLKWLLYIVSCIYGGYMYFQAAKCYVEANHSVPKGHCRMVVKLMAYAYFASWGSYPILWAVGPEGLLKLSPYANSIGHSICDIIAKEFWTFLAHHLRIKIHEHILIHGDIRKTTKMEIGGEEVEVEEFVEEEDEDTV\",\"MSRLVAASWLLALLLCGITSTTTASAHIVMVDAYKPTKSAPAASSTDGTAAAAVSHYAMNGFDELAKGAVVPEDHFVCGPADKCYCSAWLHSRGTPGEKIGAQVCQWIAFSIAIALLTFYGFSAWKATCGWEEVYVCCVEVLFVTLEIFKEFSSPATVYLSTGNHAYCLRYFEWLLSCPVILIRLSNLSGLSEAYNKRTMGLIVSCVGMIVFGMAAGLATDWLKWLLYIVSCIYGGYMYFQAAKCYVEANHSVPKGHCRMVVKLMAYAYFASWGSYPILWAVGPEGLLKLSPYANSIGHSICDIIAKEFWTFLAHHLRIKIHEHILIHGDIRKTTKMEIGGEEVEVEEFVEEEDEDTV\",\"MSRLVAASWLLALLLCGITSTTTASAHIVMVDAYKPTKSAPAASSTDGTAAAAVSHYAMNGFDELAKGAVVPEDHFVCGPADKCYCSAWLHSRGTPGEKIGAQVCQWIAFSIAIALLTFYGFSAWKATCGWEEVYVCCVEVLFVTLEIFKEFSSPATVYLSTGNHAYCLRYFEWLLSCPVILIRLSNITGLKNDYSKRTMGLIVSCVGMIVFGMAAGLATDWLKWLLYIVSCIYGGYMYFQAAKCYVESYYIMPKGHCRMVVKLMAYAYFASWGSYPILWAVGPEGLLKLSPYANSIGHSICDIIAKEFWTFLAHHLRIKIHEHIIMYGDIRRPVSSQFLGRKVDVLAFVTEEDKV\",\"MSRLVAASWLLALLLCGITSTTTASAHIVMVDAYKPTKSAPAASSTDGTAAAAVSHYAMNGFDELAKGAVVPEDHFVCGPADKCYCSAWLHSRGTPGEKIGAQVCQWIAFSIAIALLTFYGFSAWKATCGWEEVYVCCVEVLFVTLEIFKEFSSPATVYLSTGNHAYCLRYFEWLLSCPVILIRLSNLSGLKNDYSKRTMGLIVSCVGMIVFGMAAGLATDWLKWLLYIVSCIYGGYMYFQAAKCYVEANHSVPAGGCKKLVLAMTAVYYSSWLSYPILWAVGPEGLLKLSPYANSIGHSICDIIAKEFWTFLAHFLRIKIHEHILIHGDIRKTTKMEIGGEEVEVEEFVEEEDEDTV\",\"MGGAPAPDAHSAPPGNDSAAHIVMVDAYKPTKGGSEYHAPAGYQVNPPYHPVHGYEEQCSSIYIYYGTPGEKIGAQVCQWIAFSIAIALLTFYGFSAWKATCGWEEVYVCCVEVLFVTLEIFKEFSSPAMLFLYTGNITPCLRYFEWLLSCPVILIRLSNLSGLKNDYSKRTMGLIVSCVGMIVFGMAAGLATDWLKWLLYIVSCIYGGYMYFQAAKCYVEANHSVPKGHCRMVVKLMAYAYFASWGSYPILWAVGPEGLLKLSPYANSIGHSICDIIAKEFWTFLAHHLRIKIHEHILIHGDIRKTTKMEIGGEEVEVEEFVEEEDEDTV\",\"MSRLVAASWLLALLLCGITSTTTASAHIVMVDAYKPTKSAPAASSTDGTAAAAVSHYAMNGFDELAKGAVVPEDHFVCGPADKCYCSAWLHSRGTPGEKIGAQVCQWIAFSIAIALLTFYGFSAWKATCGWEEVYVCCVEVLFVTLEIFKEFSSPATVYLSTGNHAYWLRYAEWLLSCPVILIRLSNLSGLKNDYSKRTMGLLVSDLGTICMGVTAALATDWLKWLLYIVSCIYGGYMYFQAAKCYVEANHSVPKGHCRMVVKLMAYAYFASWGSYPILWAVGPEGLLKLSPYANSIGHSICDIIAKEFWTFLAHHLRIKIHEHILIHGDIRKTTKMEIGGEEVEVEEFVEEEDEDTV\",\"MSRLVAASWLLALLLCGITSTTTASAHIVMVDAYKPTKSAPAASSTDGTAAAAVSHYAMNGFDELAKGAVVPEDHFVCGPADKCYCSAWLHSRGTPGEKIGAQVCQWIAFSIAIALLTFYGFSAWKATCGWEEVYVCCVEVLFVTLEIFKEFSSPATVYLSGGNHAYCLRYFEWLLSCPVILIRLSNLSGLKNDYSKRTMGLIVSCVGMIVFGMAAGLATGWVKWLFYCIGLVYGGYMYFQAAKCYVEANHSVPKGHCRMVVKLMAYAYFASWGSYPILWAVGPEGLLKLSPYANSIGHSICDIIAKEFWTFLAHHLRIKIHEHILIHGDIRKTTKMEIGGEEVEVEEFVEEEDEDTV\",\"MSRLVAASWLLALLLCGITSTTTASAHIVMVDAYKPTKSAPAASSTDGTAAAAVSHYAMNGFDELAKGAVVPEDHFVCGPADKCYCSAWLHSRGTPGEKIGAQVCQWIAFSIAIALLTFYGFSAWKATCGWEEVYVCCVEVLFVTLEIFKEFSSPATVYLSTGNHAYCLRYFEWLLSCPVILIRLSNLSGLKNDYSKRTMALIVSCVGMIVFGMAAGLATDWLKWLLYIVSCIYGTQTFYNAGIIYVEANHSVPKGHCRMVVKLMAYAYFASWGSYPILWAVGPEGLLKLSPYANSIGHSICDIIAKEFWTFLAHHLRIKIHEHILIHGDIRKTTKMEIGGEEVEVEEFVEEEDEDTV\",\"MSRLVAASWLLALLLCGITSTTTASAHIVMVDAYKPTKSAPAASSTDGTAAAAVSHYAMNGFDELAKGAVVPEDHFVCGPADKCYCSAWLHSRGTPGEKIGAQVCQWIAFSIAIALLTFYGFSAWKATCGWEEVYVCCVEVLFVTLEIFKEFSSPATVYLSTGNHAYCLRYFEWLLSCPVILIRLSNLSGLKNDYSKRTMGLIVSCVGMIVFGMAAGLATDWLKWLLYIVSCIYGGYMYFQAAKCYVEANHSVPKGHCRMVVKLMAYAYFASWGSYPILFILGPEGFGVLSPYANSIGHSICDIIAKEFWTFLAHHLRIKIHEHILIHGDIRKTTKMEIGGEEVEVEEFVEEEDEDTV\",\"MSRLVAASWLLALLLCGITSTTTASAHIVMVDAYKPTKSAPAASSTDGTAAAAVSHYAMNGFDELAKGAVVPEDHFVCGPADKCYCSAWLHSRGTNAEKLAANILQWITFALSALCLMFYGFSAWKATCGWEEVYVCCVEVLFVTLEIFKEFSSPATVYLSTGNHAYCLRYFEWLLSCPVILIHLSNLSGLKNDYSKRTMGLIVSCVGMIVFGMAAGLATDWLKWLLYIVSCIYGGYMYFQAAKCYVEANHSVPKGHCRMVVKLMAYAYFASWGMFPILWAVGPEGLLKLSVYGSTVGHTIIDLMSKNCWGLLGHHLRIKIHEHILIHGDIRKTTKMEIGGEEVEVEEFVEEEDEDTV\",\"MSRLVAASWLLALLLCGITSTTTASAHIVMVDAYKPTKSAPAASSTDGTAAAAVSHYAMNGFDELAKGAVVPEDHFVCGPADKCYCSAWLHSRGTPGEKIGAQVCQWIAFSIAIALLTFYGYQTWKSTCGWEEIYVATIEMIKFIIEYFHEFDSPATVYLSTGNHAYCLRYFEWLLTCPVILIRLSNLSGLKNDYSKRTMGLIVSCVGMIVFGMAAGLATDWLKWLLYIVSCIYGGYMYFQAAKCYVEANHSVPKGHCRMVVKLMAYAYFASWGSYPILWAVGPEGLLKLSPYANSIGHSICDIIAKEFWTFLAHHLRIKIHEHILIHGDIRKTTKMEIGGEEVEVEEFVEEEDEDTV\",\"MSRLVAASWLLALLLCGITSTTTASAHIVMVDAYKPTKSAPAASSTDGTAAAAVSHYAMNGFDELAKGAVVPEDHFVCGPADKCYCSAWLHSRGTPGEKIGAQVCQWIAFSIAIALLTFYGFSAWKATCGWEEVYVCCVEVLFVTLEIFKEFSSPATVYLSTGNHAYCLRYFEWLLSCPVILIRLSNLSGLANDYNKRTMGLIVSCVGMIVFGMAAGLATDWLKWLLYIVSCIYGGYMYFQAAKCYVEANHSVPKGHCRMVVKLMAYAYFASWGSYPILWAVGPEGLLKLSPYANSIGHSICDIIAKEFWTFLAHHLRIKIHEHILIHGDIRKTTKMEIGGEEVEVEEFVEEEDEDTV\",\"MSRLVAASWLLALLLCGITSTTTASAHIVMVDAYKPTKSAPAASSTDGTAAAAVSHYAMNGFDELAKGAVVPEDHFVCGPADKCYCSAWLHSRGTPGEKIGAQVCQWIAFSIAIALLTFYGFSAWKATCGWEEVYVCCVEVLFVTLEIFKEFSSPATVYLSTGNHAYCLRYFEWLLSCPVILIRLSNLTGLKNDYSKRTMGLIVSCVGMIVFGMAAGLATDWLKWLLYIVSCIYGGYMYFQAAKCYVEAYHTVPKGHCRMVVKLMAYAYFASWGSYPILWAVGPEGLLKLSPYANSIGHSICDIIAKEFWTFLAHHLRIKIHEHILIHGDIRKTTKLNIGGTEIEVETLVEDEAEAGAV\",\"MSRLVAASWLLALLLCGITSTTTASAHIVMVDAYKPTKSAPAASSTDGTAAAAVSHYAMNGFDELAKGAVVPEDHFVCGPADKCYCSAWLHSRGTPGEKIGAQVCQWIAFSIAIALLTFYGFSAWKATCGWEEVYVCCVEVLFVTLEIFKEFSSPATVYLSTGNHAYCLRYFEWLLSCPVILIRLSNLSGLKNDYSKRTMGLIVSCVGMIVFGMAAGLATDWLKWLLYIVSCIYGGYMYFQAAKCYVEANHSVPKGRCRQVVTGMAWLFFVSWGSYPILWAVGPEGLLKLSPYANSIGHSICDIIAKEFWTFLAHYLRVLIHEHILIHGDIRKTTKMEIGGEEVEVEEFVEEEDEDTV\",\"MSRLVAASWLLALLLCGITSTTTASAHIVMVDAYKPTKSAPAASSTDGTAAAAVSHYAMNGFDELAKGAVVPEDHFVCGPADKCYCSAWLHSRGTPGEKIGAQVCQWIAFSIAIALLTFYGFSAWKATCGWEEVYVCCVEVLFVTLEIFKEFSSPATVYLSTGNHAYWLRYAEWLLSCPVILIRLSNLSGLKNDYSKRTMGLLVSDIGTIVWGTTAALATDWLKWLLYIVSCIYGGYMYFQAAKCYVEANHSVPKGHCRMVVKLMAYAYFASWGSYPILWAVGPEGLLKLSPYANSIGHSICDIIAKEFWTFLAHHLRIKIHEHILIHGDIRKTTKMEIGGEEVEVEEFVEEEDEDTV\",\"MSRLVAASWLLALLLCGITSTTTASAHIVMVDAYKPTKSAPAASSTDGTAAAAVSHYAMNGFDELAKGAVVPEDHFVCGPADKCYCSAWLHSRGTPGEKIGAQVCQWIAFSIAIALLTFYGFSAWKATCGWEEVYVCCVEVLFVTLEIFKEFSSPATVYLSNGNHAYCLRYFEWLLSCPVILIRLSNLSGLKNDYSKRTMGLIVSCVGMIVFGMAAGLSKGYVRVIFFLMGLCYGGYMYFQAAKCYVEANHSVPKGHCRMVVKLMAYAYFASWGSYPILWAVGPEGLLKLSPYANSIGHSICDIIAKEFWTFLAHHLRIKIHEHILIHGDIRKTTKMEIGGEEVEVEEFVEEEDEDTV\",\"MSRLVAASWLLALLLCGITSTTTASAHIVMVDAYKPTKSAPAASSTDGTAAAAVSHYAMNGFDELAKGAVVPEDHFVCGPADKCYCSAWLHSRGTPGEKIGAQVCQWIAFSIAIALLTFYGFSAWKATCGWEEVYVCCVEVLFVTLEIFKEFSSPATVYLSTGNHAYCLRYFEWLLSCPVILIRLSNLSGLKNDYSKRTMGLIVSCVGMIVFGMAAGLATDWLKWLLYIVSCIYGIYTFFNAAKVYIEANHSVPKGHCRMVVKLMAYAYFASWGSYPILWAVGPEGLLKLSPYANSIGHSICDIIAKEFWTFLAHHLRIKIHEHILIHGDIRKTTKMEIGGEEVEVEEFVEEEDEDTV\",\"MGGAPAPDAHSAPPGNDSAAHIVMVDAYKPTKGGSEYHAPAGYQVNPPYHPVHGYEEQCSSIYIYYGTPGEKIGAQVCQWIAFSIAIALLTFYGYQTWKSTCGWEEIYVATIEMIKFIIEYFHEFDSPAMLFLYNGNITPCLRYFEWLLTCPVILIRLSNLTGLKNDYSKRTMGLIVSCVGMIVFGMAAGLSKGYVRVIFFLMGLCYGIYTFFNAAKVYIEAYHTVPAGGCKKLVLAMTAVYYSSWLSYPGLFIFGPEGMHTLSPYANSIGHSICDIIAKEFWTFLAHFLRIKIHEHILIHGDIRKTTKLNIGGTEIEVETLVEDEAEAGAV\",\"MSRLVAASWLLALLLCGITSTTTASAHIVMVDAYKPTKSAPAASSTDGTAAAAVSHYAMNGFDELAKGAVVPEDHFVCGPADKCYCSAWLHSRGTNAEKLAANILQWITVALSALCLMFYGWHAYKASVGWEEVYVCSVELIKVILEIYFEFTSPATVYLSNGNHAYWLRYAEWLLTCPVILIHLSNITGLKNDYSKRTMGLLVSDIGTIVWGTTAALSKGYVRVIFFLMGLCYGIYTFFNAAKVYIESYYIMPKGRCRQVVTGMAWLFFVSWGMFPILFILGPEGFGVLSVYGSTVGHTIIDLMSKNCWGLLGHYLRVLIHEHIIMYGDIRRPVSSQFLGRKVDVLAFVTEEDKV\",\"MGGAPAPDAHSAPPGNDSAAHIVMVDAYKPTKGGSEYHAPAGYQVNPPYHPVHGYEEQCSSIYIYYGTPGEKIGAQVCQWIAFSIAIALLTFYGYQTWKSTCGWEEIYVATIEMIKFIIEYFHEFDSPAMLFLYNGNITPWLRYAEWLLTCPVILIRLSNLTGLKNDYSKRTMGLLVSDLGTICMGVTAALSKGYVRVIFFLMGLCYGIYTFFNAAKVYIEAYHTVPKGHCRMVVKLMAYAYFASWGSYPILWAVGPEGLLKLSPYANSIGHSICDIIAKEFWTFLAHHLRIKIHEHILIHGDIRKTTKLNIGGTEIEVETLVEDEAEAGAV\",\"MGGAPAPDAHSAPPGNDSAAHIVMVDAYKPTKGGSEYHAPAGYQVNPPYHPVHGYEEQCSSIYIYYGTPGEKIGAQVCQWIAFSIAIALLTFYGYQTWKSTCGWEEIYVATIEMIKFIIEYFHEFDSPAMLFLYNGNITPWLRYAEWLLTCPVILIRLSNLTGLKNDYSKRTMALLVSDIGTIVWGTTAALSKGYVRVIFFLMGLCYGTQTFYNAGIIYVEAYHTVPAGGCKKLVLAMTAVYYSSWLSYPILWAVGPEGLLKLSPYANSIGHSICDIIAKEFWTFLAHFLRIKIHEHILIHGDIRKTTKLNIGGTEIEVETLVEDEAEAGAV\",\"MGGAPAPDAHSAPPGNDSAAHIVMVDAYKPTKGGSEYHAPAGYQVNPPYHPVHGYEEQCSSIYIYYGTPGEKIGAQVCQWIAFSIAIALLTFYGFSAWKATCGWEEVYVCCVEVLFVTLEIFKEFSSPAMLFLYTGNITPWLRYAEWLLSCPVILIRLSNLTGLKNDYSKRTMGLLVSDIGTIVWGTTAALATDWLKWLLYIVSCIYGIYTFFNAAKVYIEAYHTVPAGGCKKLVLAMTAVYYSSWLSYPILFILGPEGFGVLSPYANSIGHSICDIIAKEFWTFLAHFLRIKIHEHILIHGDIRKTTKLNIGGTEIEVETLVEDEAEAGAV\",\"MGGAPAPDAHSAPPGNDSAAHIVMVDAYKPTKGGSEYHAPAGYQVNPPYHPVHGYEEQCSSIYIYYGTPGEKIGAQVCQWIAVSIAIALLTFYGWHAYKASVGWEEVYVCSVELIKVILEIYFEFTSPAMLFLYNGNITPWLRYAEWLLTCPVILIRLSNLTGLSEAYNKRTMGLLVSDIGTIVWGTTAALSKGYVRVIFFLMGLCYGGYMYFQAAKCYVEAYHTVPKGHCRMVVKLMAYAYFASWGSYPILFILGPEGFGVLSPYANSIGHSICDIIAKEFWTFLAHHLRIKIHEHILIHGDIRKTTKLNIGGTEIEVETLVEDEAEAGAV\",\"MSRLVAASWLLALLLCGITSTTTASAHIVMVDAYKPTKSAPAASSTDGTAAAAVSHYAMNGFDELAKGAVVPEDHFVCGPADKCYCSAWLHSRGTNAEKLAANILQWITFALSALCLMFYGYQTWKSTCGWEEIYVATIEMIKFIIEYFHEFDSPATVYLSGGNHAYWLRYAEWLLTCPVILIHLSNLTGLKNDYSKRTMGLLVSDIGTIVWGTTAALATGWVKWLFYCIGLVYGIYTFFNAAKVYIEAYHTVPKGHCRMVVKLMAYAYFASWGMFPGLFIFGPEGMHTLSVYGSTVGHTIIDLMSKNCWGLLGHHLRIKIHEHILIHGDIRKTTKLNIGGTEIEVETLVEDEAEAGAV\",\"MSRLVAASWLLALLLCGITSTTTASAHIVMVDAYKPTKSAPAASSTDGTAAAAVSHYAMNGFDELAKGAVVPEDHFVCGPADKCYCSAWLHSRGTNAEKLAANILQWITFALSALCLMFYGYQTWKSTCGWEEIYVATIEMIKFIIEYFHEFDSPATVYLSNGNHAYCLRYFEWLLTCPVILIHLSNITGLKNDYSKRTMGLIVSCVGMIVFGMAAGLSKGYVRVIFFLMGLCYGIYTFFNAAKVYIESYYIMPKGRCRQVVTGMAWLFFVSWGMFPILWAVGPEGLLKLSVYGSTVGHTIIDLMSKNCWGLLGHYLRVLIHEHIIMYGDIRRPVSSQFLGRKVDVLAFVTEEDKV\",\"MSRLVAASWLLALLLCGITSTTTASAHIVMVDAYKPTKSAPAASSTDGTAAAAVSHYAMNGFDELAKGAVVPEDHFVCGPADKCYCSAWLHSRGTNAEKLAANILQWITVALSALCLMFYGWHAYKASVGWEEVYVCSVELIKVILEIYFEFTSPATVYLSGGNHAYCLRYFEWLLTCPVILIHLSNLSGLSEAYNKRTMGLIVSCVGMIVFGMAAGLATGWVKWLFYCIGLVYGIYTFFNAAKVYIEANHSVPKGRCRQVVTGMAWLFFVSWGMFPILFILGPEGFGVLSVYGSTVGHTIIDLMSKNCWGLLGHYLRVLIHEHILIHGDIRKTTKMEIGGEEVEVEEFVEEEDEDTV\",\"MSRLVAASWLLALLLCGITSTTTASAHIVMVDAYKPTKSAPAASSTDGTAAAAVSHYAMNGFDELAKGAVVPEDHFVCGPADKCYCSAWLHSRGALWEQETARGFQWFAFFLSALFLAFYGFSAWKATCGWEEVYVCCVEVLFVTLEIFKEFSSPATVYLSNGNHAYCLRYFEWLLSCPVILIHLSNLSGLKNDYSKRTMALIVSCVGMIVFGMAAGLSKGYVRVIFFLMGLCYGTQTFYNAGIIYVEANHSVPAGGCKKLVLAMTAVYYSSWLMFPILFILGPEGFGVLSVAGSTIGHTIADLLSKNIWGLLGHFLRIKIHEHILIHGDIRKTTKMEIGGEEVEVEEFVEEEDEDTV\",\"MGGAPAPDAHSAPPGNDSAAHIVMVDAYKPTKGGSEYHAPAGYQVNPPYHPVHGYEEQCSSIYIYYGTPGEKIGAQVCQWIAVSIAIALLTFYGWHAYKASVGWEEVYVCSVELIKVILEIYFEFTSPAMLFLYGGNITPCLRYFEWLLTCPVILIRLSNLTGLSEAYNKRTMGLIVSCVGMIVFGMAAGLATGWVKWLFYCIGLVYGIYTFFNAAKVYIEAYHTVPKGHCRMVVKLMAYAYFASWGSYPILWAVGPEGLLKLSPYANSIGHSICDIIAKEFWTFLAHHLRIKIHEHILIHGDIRKTTKLNIGGTEIEVETLVEDEAEAGAV\",\"MGGAPAPDAHSAPPGNDSAAHIVMVDAYKPTKGGSEYHAPAGYQVNPPYHPVHGYEEQCSSIYIYYGTPGEKIGAQVCQWIAVSIAIALLTFYGWHAYKASVGWEEVYVCSVELIKVILEIYFEFTSPAMLFLYNGNITPWLRYAEWLLTCPVILIRLSNLSGLSEAYNKRTMGLLVSDIGTIVWGTTAALSKGYVRVIFFLMGLCYGIYTFFNAAKVYIEANHSVPKGRCRQVVTGMAWLFFVSWGSYPGLFIFGPEGMHTLSPYANSIGHSICDIIAKEFWTFLAHYLRVLIHEHILIHGDIRKTTKMEIGGEEVEVEEFVEEEDEDTV\",\"MSRLVAASWLLALLLCGITSTTTASAHIVMVDAYKPTKSAPAASSTDGTAAAAVSHYAMNGFDELAKGAVVPEDHFVCGPADKCYCSAWLHSRGTPGEKIGAQVCQWIAFSIAIALLTFYGYQTWKSTCGWEEIYVATIEMIKFIIEYFHEFDSPATVYLSNGNHAYWLRYAEWLLTCPVILIRLSNLTGLKNDYSKRTMGLLVSDLGTICMGVTAALSKGYVRVIFFLMGLCYGGYMYFQAAKCYVEAYHTVPAGGCKKLVLAMTAVYYSSWLSYPGLFIFGPEGMHTLSPYANSIGHSICDIIAKEFWTFLAHFLRIKIHEHILIHGDIRKTTKLNIGGTEIEVETLVEDEAEAGAV\",\"MSRLVAASWLLALLLCGITSTTTASAHIVMVDAYKPTKSAPAASSTDGTAAAAVSHYAMNGFDELAKGAVVPEDHFVCGPADKCYCSAWLHSRGALWEQETARGFQWFAFFLSALFLAFYGYQTWKSTCGWEEIYVATIEMIKFIIEYFHEFDSPATVYLSTGNHAYWLRYAEWLLTCPVILIHLSNLSGLANDYNKRTMALLVSDIGTIVWGTTAALATDWLKWLLYIVSCIYGTQTFYNAGIIYVEANHSVPKGRCRQVVTGMAWLFFVSWGMFPILWAVGPEGLLKLSVAGSTIGHTIADLLSKNIWGLLGHYLRVLIHEHILIHGDIRKTTKMEIGGEEVEVEEFVEEEDEDTV\",\"MSRLVAASWLLALLLCGITSTTTASAHIVMVDAYKPTKSAPAASSTDGTAAAAVSHYAMNGFDELAKGAVVPEDHFVCGPADKCYCSAWLHSRGTPGEKIGAQVCQWIAVSIAIALLTFYGWHAYKASVGWEEVYVCSVELIKVILEIYFEFTSPATVYLSGGNHAYWLRYAEWLLTCPVILIRLSNLSGLSEAYNKRTMALLVSDIGTIVWGTTAALATGWVKWLFYCIGLVYGTQTFYNAGIIYVEANHSVPKGRCRQVVTGMAWLFFVSWGSYPGLFIFGPEGMHTLSPYANSIGHSICDIIAKEFWTFLAHYLRVLIHEHILIHGDIRKTTKMEIGGEEVEVEEFVEEEDEDTV\",\"MSRLVAASWLLALLLCGITSTTTASAHIVMVDAYKPTKSAPAASSTDGTAAAAVSHYAMNGFDELAKGAVVPEDHFVCGPADKCYCSAWLHSRGTNAEKLAANILQWITFALSALCLMFYGFSAWKATCGWEEVYVCCVEVLFVTLEIFKEFSSPATVYLSTGNHAYWLRYAEWLLSCPVILIHLSNLSGLANDYNKRTMGLLVSDLGTICMGVTAALATDWLKWLLYIVSCIYGIYTFFNAAKVYIEANHSVPKGRCRQVVTGMAWLFFVSWGMFPILFILGPEGFGVLSVYGSTVGHTIIDLMSKNCWGLLGHYLRVLIHEHILIHGDIRKTTKMEIGGEEVEVEEFVEEEDEDTV\",\"MGGAPAPDAHSAPPGNDSAAHIVMVDAYKPTKGGSEYHAPAGYQVNPPYHPVHGYEEQCSSIYIYYGTPGEKIGAQVCQWIAFSIAIALLTFYGFSAWKATCGWEEVYVCCVEVLFVTLEIFKEFSSPAMLFLYTGNITPWLRYAEWLLSCPVILIRLSNITGLANDYNKRTMGLLVSDLGTICMGVTAALATDWLKWLLYIVSCIYGIYTFFNAAKVYIESYYIMPKGRCRQVVTGMAWLFFVSWGSYPILWAVGPEGLLKLSPYANSIGHSICDIIAKEFWTFLAHYLRVLIHEHIIMYGDIRRPVSSQFLGRKVDVLAFVTEEDKV\",\"MSRLVAASWLLALLLCGITSTTTASAHIVMVDAYKPTKSAPAASSTDGTAAAAVSHYAMNGFDELAKGAVVPEDHFVCGPADKCYCSAWLHSRGTPGEKIGAQVCQWIAFSIAIALLTFYGYQTWKSTCGWEEIYVATIEMIKFIIEYFHEFDSPATVYLSNGNHAYWLRYAEWLLTCPVILIRLSNITGLSEAYNKRTMALLVSDIGTIVWGTTAALSKGYVRVIFFLMGLCYGTQTFYNAGIIYVESYYIMPKGHCRMVVKLMAYAYFASWGSYPILFILGPEGFGVLSPYANSIGHSICDIIAKEFWTFLAHHLRIKIHEHIIMYGDIRRPVSSQFLGRKVDVLAFVTEEDKV\",\"MGGAPAPDAHSAPPGNDSAAHIVMVDAYKPTKGGSEYHAPAGYQVNPPYHPVHGYEEQCSSIYIYYGTPGEKIGAQVCQWIAVSIAIALLTFYGWHAYKASVGWEEVYVCSVELIKVILEIYFEFTSPAMLFLYNGNITPCLRYFEWLLTCPVILIRLSNITGLKNDYSKRTMALIVSCVGMIVFGMAAGLSKGYVRVIFFLMGLCYGTQTFYNAGIIYVESYYIMPKGRCRQVVTGMAWLFFVSWGSYPILWAVGPEGLLKLSPYANSIGHSICDIIAKEFWTFLAHYLRVLIHEHIIMYGDIRRPVSSQFLGRKVDVLAFVTEEDKV\",\"MSRLVAASWLLALLLCGITSTTTASAHIVMVDAYKPTKSAPAASSTDGTAAAAVSHYAMNGFDELAKGAVVPEDHFVCGPADKCYCSAWLHSRGALWEQETARGFQWFAFFLSALFLAFYGYQTWKSTCGWEEIYVATIEMIKFIIEYFHEFDSPATVYLSTGNHAYCLRYFEWLLTCPVILIHLSNITGLKNDYSKRTMGLIVSCVGMIVFGMAAGLATDWLKWLLYIVSCIYGIYTFFNAAKVYIESYYIMPAGGCKKLVLAMTAVYYSSWLMFPILFILGPEGFGVLSVAGSTIGHTIADLLSKNIWGLLGHFLRIKIHEHIIMYGDIRRPVSSQFLGRKVDVLAFVTEEDKV\",\"MSRLVAASWLLALLLCGITSTTTASAHIVMVDAYKPTKSAPAASSTDGTAAAAVSHYAMNGFDELAKGAVVPEDHFVCGPADKCYCSAWLHSRGTNAEKLAANILQWITVALSALCLMFYGWHAYKASVGWEEVYVCSVELIKVILEIYFEFTSPATVYLSNGNHAYWLRYAEWLLTCPVILIHLSNLSGLANDYNKRTMALLVSDLGTICMGVTAALSKGYVRVIFFLMGLCYGTQTFYNAGIIYVEANHSVPKGHCRMVVKLMAYAYFASWGMFPGLFIFGPEGMHTLSVYGSTVGHTIIDLMSKNCWGLLGHHLRIKIHEHILIHGDIRKTTKMEIGGEEVEVEEFVEEEDEDTV\",\"MSRLVAASWLLALLLCGITSTTTASAHIVMVDAYKPTKSAPAASSTDGTAAAAVSHYAMNGFDELAKGAVVPEDHFVCGPADKCYCSAWLHSRGTNAEKLAANILQWITFALSALCLMFYGFSAWKATCGWEEVYVCCVEVLFVTLEIFKEFSSPATVYLSGGNHAYWLRYAEWLLSCPVILIHLSNLSGLSEAYNKRTMGLLVSDLGTICMGVTAALATGWVKWLFYCIGLVYGGYMYFQAAKCYVEANHSVPAGGCKKLVLAMTAVYYSSWLMFPILWAVGPEGLLKLSVYGSTVGHTIIDLMSKNCWGLLGHFLRIKIHEHILIHGDIRKTTKMEIGGEEVEVEEFVEEEDEDTV\",\"MGGAPAPDAHSAPPGNDSAAHIVMVDAYKPTKGGSEYHAPAGYQVNPPYHPVHGYEEQCSSIYIYYGTPGEKIGAQVCQWIAFSIAIALLTFYGYQTWKSTCGWEEIYVATIEMIKFIIEYFHEFDSPAMLFLYNGNITPCLRYFEWLLTCPVILIRLSNITGLANDYNKRTMGLIVSCVGMIVFGMAAGLSKGYVRVIFFLMGLCYGIYTFFNAAKVYIESYYIMPAGGCKKLVLAMTAVYYSSWLSYPILWAVGPEGLLKLSPYANSIGHSICDIIAKEFWTFLAHFLRIKIHEHIIMYGDIRRPVSSQFLGRKVDVLAFVTEEDKV\",\"MGGAPAPDAHSAPPGNDSAAHIVMVDAYKPTKGGSEYHAPAGYQVNPPYHPVHGYEEQCSSIYIYYGTPGEKIGAQVCQWIAFSIAIALLTFYGYQTWKSTCGWEEIYVATIEMIKFIIEYFHEFDSPAMLFLYTGNITPWLRYAEWLLTCPVILIRLSNLSGLANDYNKRTMGLLVSDIGTIVWGTTAALATDWLKWLLYIVSCIYGGYMYFQAAKCYVEANHSVPAGGCKKLVLAMTAVYYSSWLSYPGLFIFGPEGMHTLSPYANSIGHSICDIIAKEFWTFLAHFLRIKIHEHILIHGDIRKTTKMEIGGEEVEVEEFVEEEDEDTV\",\"MGGAPAPDAHSAPPGNDSAAHIVMVDAYKPTKGGSEYHAPAGYQVNPPYHPVHGYEEQCSSIYIYYGALWEQETARGFQWFAFFLSALFLAFYGYQTWKSTCGWEEIYVATIEMIKFIIEYFHEFDSPAMLFLYGGNITPWLRYAEWLLTCPVILIHLSNLSGLKNDYSKRTMGLLVSDIGTIVWGTTAALATGWVKWLFYCIGLVYGIYTFFNAAKVYIEANHSVPAGGCKKLVLAMTAVYYSSWLMFPILWAVGPEGLLKLSVAGSTIGHTIADLLSKNIWGLLGHFLRIKIHEHILIHGDIRKTTKMEIGGEEVEVEEFVEEEDEDTV\",\"MSRLVAASWLLALLLCGITSTTTASAHIVMVDAYKPTKSAPAASSTDGTAAAAVSHYAMNGFDELAKGAVVPEDHFVCGPADKCYCSAWLHSRGTPGEKIGAQVCQWIAVSIAIALLTFYGWHAYKASVGWEEVYVCSVELIKVILEIYFEFTSPATVYLSTGNHAYWLRYAEWLLTCPVILIRLSNLSGLANDYNKRTMALLVSDIGTIVWGTTAALATDWLKWLLYIVSCIYGTQTFYNAGIIYVEANHSVPAGGCKKLVLAMTAVYYSSWLSYPILFILGPEGFGVLSPYANSIGHSICDIIAKEFWTFLAHFLRIKIHEHILIHGDIRKTTKMEIGGEEVEVEEFVEEEDEDTV\",\"MSRLVAASWLLALLLCGITSTTTASAHIVMVDAYKPTKSAPAASSTDGTAAAAVSHYAMNGFDELAKGAVVPEDHFVCGPADKCYCSAWLHSRGALWEQETARGFQWFAVFLSALFLAFYGWHAYKASVGWEEVYVCSVELIKVILEIYFEFTSPATVYLSNGNHAYWLRYAEWLLTCPVILIHLSNLSGLSEAYNKRTMGLLVSDIGTIVWGTTAALSKGYVRVIFFLMGLCYGGYMYFQAAKCYVEANHSVPKGRCRQVVTGMAWLFFVSWGMFPILWAVGPEGLLKLSVAGSTIGHTIADLLSKNIWGLLGHYLRVLIHEHILIHGDIRKTTKMEIGGEEVEVEEFVEEEDEDTV\",\"MGGAPAPDAHSAPPGNDSAAHIVMVDAYKPTKGGSEYHAPAGYQVNPPYHPVHGYEEQCSSIYIYYGTNAEKLAANILQWITFALSALCLMFYGFSAWKATCGWEEVYVCCVEVLFVTLEIFKEFSSPAMLFLYNGNITPCLRYFEWLLSCPVILIHLSNLSGLKNDYSKRTMGLIVSCVGMIVFGMAAGLSKGYVRVIFFLMGLCYGGYMYFQAAKCYVEANHSVPAGGCKKLVLAMTAVYYSSWLMFPGLFIFGPEGMHTLSVYGSTVGHTIIDLMSKNCWGLLGHFLRIKIHEHILIHGDIRKTTKMEIGGEEVEVEEFVEEEDEDTV\",\"MSRRPWLLALALAVALAAGSAGAAHIVMVDAYKPTKSTGSDATVPVATQDGPDYVFHRAHERMLFQTSYTLENNGSVICIPNNGQCFCLAWLKSNGALWEQETARGFQWFTFALSALCLMFYGYQTWKSTCGWEEIYVATIEMIKFIIEYFHEFDSPAMLFLYGGNITPWLRYAEWLLTCPVILIHLSNITGLSEAYNKRTMALLVSCVGMIVFGMAAGLATDWLKWLLYIVSCIYGGYMYFQAAKCYVEANHSVPKGHCRMVVKLMAYAYFASWGSYPILWAVGPEGLLKLSVYGSTVGHTIIDLMSKNCWGLLGHYLRVLIHEHIIMYGDIRRPVSSQFLGRKVDVLAFVTEEDKV\",\"MSRLVAASWLLALLLCGITSTTTASAHIVMVDAYKPTKSAPAASSTDGTAAAAVSHYAMNGFDELAKGAVVPEDHFVCGPADKCYCSAWLHSRGTNAEKLAANILQWIAFSIAIALLTFYGFSAWKATCGWEEVYVCCVEVLFVTLEIFKEFSEPAVIYSSNGNKTVWLRYAEWLLTCPVILIHLSNITGLSEAYNKRTMALLVSCVGMIVFGMAAGLATDWLKWLLYIVSCIYGGYMYFQAAKCYVEAYHTVPKGRCRQVVTGMAWLFFVSWGMFPILFILGPEGFGVLSVAGSTIGHTIADLLSKNIWGLLGHFLRIKIHEHIIMYGDIRRPVSSQFLGRKVDVLAFVTEEDKV\",\"MSRRPWLLALALAVALAAGSAGAAHIVMVDAYKPTKSTGSDATVPVATQDGPDYVFHRAHERMLFQTSYTLENNGSVICIPNNGQCFCLAWLKSNGALWEQETARGFQWFAFSIAIALLTFYGFSAWKATCGWEEVYVCCVEVLFVTLEIFKEFSSPATVYLSTGNHAYCLRYFEWLLTCPVILIHLSNLTGLANDYNKRTMGLLVSCVGMIVFGMAAGLATDWLKWLLYIVSCIYGGYMYFQAAKCYVESYYIMPAGGCKKLVLAMTAVYYSSWGMFPILFILGPEGFGVLSPYANSIGHSICDIIAKEFWTFLAHHLRIKIHEHIIMYGDIRRPVSSQFLGRKVDVLAFVTEEDKV\",\"MSRRPWLLALALAVALAAGSAGAAHIVMVDAYKPTKSTGSDATVPVATQDGPDYVFHRAHERMLFQTSYTLENNGSVICIPNNGQCFCLAWLKSNGTPGEKIGAQVCQWIAVFLSALFLAFYGWHAYKASVGWEEVYVCSVELIKVILEIYFEFTSPAMLFLYGGNITPWLRYAEWLLSCPVILIRLSNLSGLKNDYSKRTMGLIVSCVGMIVFGMAAGLATDWLKWLLYIVSCIYGGYMYFQAAKCYVESYYIMPAGGCKKLVLAMTAVYYSSWGSYPILWAVGPEGLLKLSVAGSTIGHTIADLLSKNIWGLLGHFLRIKIHEHIIMYGDIRRPVSSQFLGRKVDVLAFVTEEDKV\",\"MSRLVAASWLLALLLCGITSTTTASAHIVMVDAYKPTKSAPAASSTDGTAAAAVSHYAMNGFDELAKGAVVPEDHFVCGPADKCYCSAWLHSRGTPGEKIGAQVCQWIAFSIAIALLTFYGFSAWKATCGWEEVYVCCVEVLFVTLEIFKEFSSPATVYLSGGNHAYCLRYFEWLLSCPVILIRLSNITGLANDYNKRTMGLIVSCVGMIVFGMAAGLATGWVKWLFYCIGLVYGIYTFFNAAKVYIESYYIMPKGRCRQVVTGMAWLFFVSWGSYPGLFIFGPEGMHTLSPYANSIGHSICDIIAKEFWTFLAHYLRVLIHEHIIMYGDIRRPVSSQFLGRKVDVLAFVTEEDKV\",\"MSRLVAASWLLALLLCGITSTTTASAHIVMVDAYKPTKSAPAASSTDGTAAAAVSHYAMNGFDELAKGAVVPEDHFVCGPADKCYCSAWLHSRGALWEQETARGFQWFAFSIAIALLTFYGFSAWKATCGWEEVYVCCVEVLFVTLEIFKEFSSPAMLFLYGGNITPWLRYAEWLLTCPVILIHLSNLTGLANDYNKRTMGLLVSCVGMIVFGMAAGLATDWLKWLLYIVSCIYGGYMYFQAAKCYVEAYHTVPKGRCRQVVTGMAWLFFVSWGSYPILWAVGPEGLLKLSVAGSTIGHTIADLLSKNIWGLLGHFLRIKIHEHILIHGDIRKTTKLNIGGTEIEVETLVEDEAEAGAV\",\"MSRRPWLLALALAVALAAGSAGAAHIVMVDAYKPTKSTGSDATVPVATQDGPDYVFHRAHERMLFQTSYTLENNGSVICIPNNGQCFCLAWLKSNGTPGEKIGAQVCQWITFALSALCLMFYGYQTWKSTCGWEEIYVATIEMIKFIIEYFHEFDSPAMLFLYGGNITPWLRYAEWLLTCPVILIHLSNITGLSEAYNKRTMALLVSDLGTICMGVTAALATGWVKWLFYCIGLVYGTQTFYNAGIIYVEAYHTVPKGRCRQVVTGMAWLFFVSWGMFPILFILGPEGFGVLSVAGSTIGHTIADLLSKNIWGLLGHFLRIKIHEHILIHGDIRKTTKLNIGGTEIEVETLVEDEAEAGAV\",\"MSRLVAASWLLALLLCGITSTTTASAHIVMVDAYKPTKSAPAASSTDGTAAAAVSHYAMNGFDELAKGAVVPEDHFVCGPADKCYCSAWLHSRGALWEQETARGFQWFAVFLSALFLAFYGWHAYKASVGWEEVYVCSVELIKVILEIYFEFTSPATVYLSTGNHAYWLRYAEWLLTCPVILIHLSNITGLSEAYNKRTMGLLVSDLGTICMGVTAALATDWLKWLLYIVSCIYGIYTFFNAAKVYIESYYIMPAGGCKKLVLAMTAVYYSSWLMFPILWAVGPEGLLKLSVAGSTIGHTIADLLSKNIWGLLGHFLRIKIHEHIIMYGDIRRPVSSQFLGRKVDVLAFVTEEDKV\",\"MSRLVAASWLLALLLCGITSTTTASAHIVMVDAYKPTKSAPAASSTDGTAAAAVSHYAMNGFDELAKGAVVPEDHFVCGPADKCYCSAWLHSRGALWEQETARGFQWFTFALSALCLMFYGYQTWKSTCGWEEIYVATIEMIKFIIEYFHEFDEPAVIYSSNGNKTVWLRYAEWLLSCPVILIRLSNLSGLKNDYSKRTMGLIVSCVGMIVFGMAAGLATDWLKWLLYIVSCIYGGYMYFQAAKCYVEAYHTVPKGRCRQVVTGMAWLFFVSWGSYPILWAVGPEGLLKLSPYANSIGHSICDIIAKEFWTFLAHHLRIKIHEHIIMYGDIRRPVSSQFLGRKVDVLAFVTEEDKV\",\"MSRLVAASWLLALLLCGITSTTTASAHIVMVDAYKPTKSAPAASSTDGTAAAAVSHYAMNGFDELAKGAVVPEDHFVCGPADKCYCSAWLHSRGTPGEKIGAQVCQWIAFSIAIALLTFYGYQTWKSTCGWEEIYVATIEMIKFIIEYFHEFDSPATVYLSNGNHAYCLRYFEWLLTCPVILIRLSNLTGLSEAYNKRTMGLIVSCVGMIVFGMAAGLSKGYVRVIFFLMGLCYGGYMYFQAAKCYVEAYHTVPAGGCKKLVLAMTAVYYSSWLSYPGLFIFGPEGMHTLSPYANSIGHSICDIIAKEFWTFLAHFLRIKIHEHILIHGDIRKTTKLNIGGTEIEVETLVEDEAEAGAV\",\"MSRRPWLLALALAVALAAGSAGAAHIVMVDAYKPTKSTGSDATVPVATQDGPDYVFHRAHERMLFQTSYTLENNGSVICIPNNGQCFCLAWLKSNGALWEQETARGFQWFAFFLSALFLAFYGFSAWKATCGWEEVYVCCVEVLFVTLEIFKEFSEPAVIYSSGGNKTVWLRYAEWLLSCPVILIHLSNITGLSEAYNKRTMGLLVSDIGTIVWGTTAALATGWVKWLFYCIGLVYGGYMYFQAAKCYVESYYIMPAGGCKKLVLAMTAVYYSSWLMFPILWAVGPEGLLKLSVAGSTIGHTIADLLSKNIWGLLGHFLRIKIHEHIIMYGDIRRPVSSQFLGRKVDVLAFVTEEDKV\",\"MSRRPWLLALALAVALAAGSAGAAHIVMVDAYKPTKSTGSDATVPVATQDGPDYVFHRAHERMLFQTSYTLENNGSVICIPNNGQCFCLAWLKSNGALWEQETARGFQWFTFALSALCLMFYGYQTWKSTCGWEEIYVATIEMIKFIIEYFHEFDSPATVYLSTGNHAYCLRYFEWLLTCPVILIHLSNITGLSEAYNKRTMALLVSCVGMIVFGMAAGLATDWLKWLLYIVSCIYGGYMYFQAAKCYVEAYHTVPKGRCRQVVTGMAWLFFVSWLMFPGLFIFGPEGMHTLSVAGSTIGHTIADLLSKNIWGLLGHFLRIKIHEHILIHGDIRKTTKMEIGGEEVEVEEFVEEEDEDTV\",\"MSRLVAASWLLALLLCGITSTTTASAHIVMVDAYKPTKSAPAASSTDGTAAAAVSHYAMNGFDELAKGAVVPEDHFVCGPADKCYCSAWLHSRGALWEQETARGFQWFTFALSALCLMFYGYQTWKSTCGWEEIYVATIEMIKFIIEYFHEFDSPATVYLSTGNHAYCLRYFEWLLTCPVILIHLSNITGLSEAYNKRTMALLVSDLGTICMGVTAALATGWVKWLFYCIGLVYGTQTFYNAGIIYVESYYIMPAGGCKKLVLAMTAVYYSSWGSYPILWAVGPEGLLKLSVAGSTIGHTIADLLSKNIWGLLGHFLRIKIHEHIIMYGDIRRPVSSQFLGRKVDVLAFVTEEDKV\",\"MSRLVAASWLLALLLCGITSTTTASAHIVMVDAYKPTKSAPAASSTDGTAAAAVSHYAMNGFDELAKGAVVPEDHFVCGPADKCYCSAWLHSRGALWEQETARGFQWFAFSIAIALLTFYGFSAWKATCGWEEVYVCCVEVLFVTLEIFKEFSSPATVYLSTGNHAYCLRYFEWLLSCPVILIRLSNLSGLKNDYSKRTMGLIVSCVGMIVFGMAAGLATDWLKWLLYIVSCIYGGYMYFQAAKCYVEAYHTVPKGRCRQVVTGMAWLFFVSWLMFPGLFIFGPEGMHTLSVYGSTVGHTIIDLMSKNCWGLLGHYLRVLIHEHIIMYGDIRRPVSSQFLGRKVDVLAFVTEEDKV\",\"MSRLVAASWLLALLLCGITSTTTASAHIVMVDAYKPTKSAPAASSTDGTAAAAVSHYAMNGFDELAKGAVVPEDHFVCGPADKCYCSAWLHSRGTPGEKIGAQVCQWIAVFLSALFLAFYGWHAYKASVGWEEVYVCSVELIKVILEIYFEFTSPATVYLSTGNHAYCLRYFEWLLTCPVILIHLSNLTGLANDYNKRTMGLLVSCVGMIVFGMAAGLATDWLKWLLYIVSCIYGGYMYFQAAKCYVEAYHTVPKGRCRQVVTGMAWLFFVSWGMFPILFILGPEGFGVLSPYANSIGHSICDIIAKEFWTFLAHHLRIKIHEHIIMYGDIRRPVSSQFLGRKVDVLAFVTEEDKV\",\"MSRLVAASWLLALLLCGITSTTTASAHIVMVDAYKPTKSAPAASSTDGTAAAAVSHYAMNGFDELAKGAVVPEDHFVCGPADKCYCSAWLHSRGALWEQETARGFQWFAFFLSALFLAFYGYQTWKSTCGWEEIYVATIEMIKFIIEYFHEFDSPATVYLSTGNHAYCLRYFEWLLTCPVILIHLSNITGLSEAYNKRTMALIVSCVGMIVFGMAAGLATDWLKWLLYIVSCIYGTQTFYNAGIIYVESYYIMPKGRCRQVVTGMAWLFFVSWGMFPILFILGPEGFGVLSVAGSTIGHTIADLLSKNIWGLLGHYLRVLIHEHIIMYGDIRRPVSSQFLGRKVDVLAFVTEEDKV\",\"MSRLVAASWLLALLLCGITSTTTASAHIVMVDAYKPTKSAPAASSTDGTAAAAVSHYAMNGFDELAKGAVVPEDHFVCGPADKCYCSAWLHSRGTPGEKIGAQVCQWIAVSIAIALLTFYGWHAYKASVGWEEVYVCSVELIKVILEIYFEFTSPATVYLSNGNHAYCLRYFEWLLTCPVILIRLSNITGLANDYNKRTMGLIVSCVGMIVFGMAAGLSKGYVRVIFFLMGLCYGGYMYFQAAKCYVESYYIMPKGHCRMVVKLMAYAYFASWGSYPILWAVGPEGLLKLSPYANSIGHSICDIIAKEFWTFLAHHLRIKIHEHIIMYGDIRRPVSSQFLGRKVDVLAFVTEEDKV\"]},\"selected\":{\"id\":\"7883\"},\"selection_policy\":{\"id\":\"7884\"}},\"id\":\"7871\",\"type\":\"ColumnDataSource\"},{\"attributes\":{\"axis_label\":\"log_GFP\",\"formatter\":{\"id\":\"7882\"},\"ticker\":{\"id\":\"7850\"}},\"id\":\"7849\",\"type\":\"LinearAxis\"},{\"attributes\":{},\"id\":\"7860\",\"type\":\"SaveTool\"},{\"attributes\":{},\"id\":\"7854\",\"type\":\"BasicTicker\"},{\"attributes\":{\"overlay\":{\"id\":\"7863\"}},\"id\":\"7859\",\"type\":\"BoxZoomTool\"},{\"attributes\":{\"data_source\":{\"id\":\"7871\"},\"glyph\":{\"id\":\"7873\"},\"hover_glyph\":null,\"muted_glyph\":null,\"nonselection_glyph\":{\"id\":\"7874\"},\"selection_glyph\":null,\"view\":{\"id\":\"7876\"}},\"id\":\"7875\",\"type\":\"GlyphRenderer\"},{\"attributes\":{\"axis\":{\"id\":\"7849\"},\"ticker\":null},\"id\":\"7852\",\"type\":\"Grid\"},{\"attributes\":{},\"id\":\"7850\",\"type\":\"BasicTicker\"},{\"attributes\":{},\"id\":\"7883\",\"type\":\"Selection\"},{\"attributes\":{\"text\":\"\"},\"id\":\"7877\",\"type\":\"Title\"},{\"attributes\":{},\"id\":\"7845\",\"type\":\"LinearScale\"},{\"attributes\":{},\"id\":\"7847\",\"type\":\"LinearScale\"},{\"attributes\":{\"data\":{\"__ECDF\":{\"__ndarray__\":\"dNFFF1100T9lk0022WTTPwgffPDBB78/ZZNNNtlk4z8++OCDDz7oPwgffPDBB58/J5tssskm2z8nm2yyySbrP0YXXXTRRec/CB988MEHzz822WSTTTbpP0YXXXTRRdc/XXTRRRdd5D9tsskmm2ziP0YXXXTRRcc/CB988MEHrz9lk0022WTDPwgffPDBB+8/fPDBBx984D8nm2yyySbLP0422WSTTeY/dNFFF1104T9VVVVVVVXlPxdddNFFF90/Ntlkk0022T9VVVVVVVXVPxdddNFFF+0/RhdddNFFtz8IH3zwwQffPx988MEHH+w/L7rooosu6j8QPvjggw/uPwAAAAAAAPA/\",\"dtype\":\"float64\",\"order\":\"little\",\"shape\":[33]},\"__label\":[\"False\",\"False\",\"False\",\"False\",\"False\",\"False\",\"False\",\"False\",\"False\",\"False\",\"False\",\"False\",\"False\",\"False\",\"False\",\"False\",\"False\",\"False\",\"False\",\"False\",\"False\",\"False\",\"False\",\"False\",\"False\",\"False\",\"False\",\"False\",\"False\",\"False\",\"False\",\"False\",\"False\"],\"index\":[201,202,203,204,205,206,207,208,209,210,211,212,214,215,233,234,235,237,238,239,240,242,243,244,245,246,247,248,249,250,251,252,253],\"is_train\":[false,false,false,false,false,false,false,false,false,false,false,false,false,false,false,false,false,false,false,false,false,false,false,false,false,false,false,false,false,false,false,false,false],\"log_GFP\":{\"__ndarray__\":\"LfiUut1PHcDO5dAX1T8dwKq0eQEN+B7AfDN3WwvNF8DV7yzgnQwUwOzrfZ4NhiDAug6oFL7TG8C2tz7gX2QSwL8b6GV8PhTAlnw6qRZSHcDXGw2ak80SwIoE34cx9RzAwGC5pkZnF8BGT4WNtEsYwCuuAFTCph3AQJVgvVJ/H8DD8mlLXcsdwGKn69pPWhDA3A3U8gzmGsBiXicuBlYdwE/USn8P4BTAcT+zHfuPGcCOJ2tMi0MWwOQpJXlHxRvA2sA+YHfJHMD8h1iWFQEdwPCrpKrYOxHAdq9KzMsCH8Au2zQf3TMbwKmrEUe6rBHAOQC6HDttEsA9YkIpW5gQwGA/4ES3qg/A\",\"dtype\":\"float64\",\"order\":\"little\",\"shape\":[33]},\"m\":{\"__ndarray__\":\"AAAAAADAVUAAAAAAAIBLQAAAAAAAQFRAAAAAAAAAS0AAAAAAAIBMQAAAAAAAgExAAAAAAAAAUkAAAAAAAAAwQAAAAAAAADtAAAAAAAAAUEAAAAAAAAAxQAAAAAAAwFNAAAAAAACAUEAAAAAAAIBJQAAAAAAAgEFAAAAAAACAQ0AAAAAAAIBDQAAAAAAAAEJAAAAAAACAQ0AAAAAAAIBDQAAAAAAAgEFAAAAAAAAAQ0AAAAAAAIBDQAAAAAAAgENAAAAAAACAQ0AAAAAAAABDQAAAAAAAAEFAAAAAAACAQkAAAAAAAABDQAAAAAAAAElAAAAAAAAARUAAAAAAAIBGQAAAAAAAgEBA\",\"dtype\":\"float64\",\"order\":\"little\",\"shape\":[33]},\"name\":[\"n1_2\",\"n2_2\",\"n3_2\",\"n4_2\",\"n5_2\",\"n6_2\",\"n7_2\",\"n8_2\",\"c1_2\",\"c2_2\",\"c4_2\",\"c1_3\",\"c3_3\",\"n4_3\",\"c21_5\",\"c23_5\",\"n25_5\",\"n28_5\",\"c29_5\",\"n30_5\",\"c31_5\",\"n33_5\",\"n34_5\",\"c35_5\",\"n36_5\",\"n37_5\",\"c38_5\",\"c39_5\",\"c40_5\",\"n1_7\",\"c2_7\",\"n4_7\",\"c3_7\"],\"sequence\":[\"MGGAPAPDAHSAPPGNDSAAHIVMVDAYKPTKGGSEYHAPAGYQVNPPYHPVHGYEEQCSSIYIYYGTNAEKLAANILQWITFALSALCLMFYGFSAWKATCGWEEVYVCCVEVLFVTLEIFKEFSSPAMLFLYTGNITPWLRYAEWLLSCPVILIHLSNLSGLKNDYSKRTMGLLVSDIGTIVWGTTAALATDWLKWLLYIVSCIYGIYTFFNAAKVYIEANHSVPKGHCRMVVKLMAYAYFASWGMFPILFILGPEGFGVLSVYGSTVGHTIIDLMSKNCWGLLGHHLRIKIHEHILIHGDIRKTTKMEIGGEEVEVEEFVEEEDEDTV\",\"MSRLVAASWLLALLLCGITSTTTASAHIVMVDAYKPTKSAPAASSTDGTAAAAVSHYAMNGFDELAKGAVVPEDHFVCGPADKCYCSAWLHSRGTNAEKLAANILQWITFALSALCLMFYGFSAWKATCGWEEVYVCCVEVLFVTLEIFKEFSSPATVYLSTGNHAYWLRYAEWLLSCPVILIHLSNLSGLKNDYSKRTMGLLVSDIGTIVWGTTAALATDWLKWLLYIVSCIYGIYTFFNAAKVYIEANHSVPKGHCRMVVKLMAYAYFASWGMFPILFILGPEGFGVLSVYGSTVGHTIIDLMSKNCWGLLGHHLRIKIHEHILIHGDIRKTTKMEIGGEEVEVEEFVEEEDEDTV\",\"MGGAPAPDAHSAPPGNDSAAHIVMVDAYKPTKGGSEYHAPAGYQVNPPYHPVHGYEEQCSSIYIYYGTNAEKLAANILQWITFALSALCLMFYGFSAWKATCGWEEVYVCCVEVLFVTLEIFKEFSSPAMLFLYTGNITPWLRYAEWLLSCPVILIHLSNLSGLKNDYSKRTMGLLVSDIGTIVWGTTAALATDWLKWLLYIVSCIYGIYTFFNAAKVYIEANHSVPKGHCRMVVKLMAYAYFASWGMFPILWAVGPEGLLKLSVYGSTVGHTIIDLMSKNCWGLLGHHLRIKIHEHILIHGDIRKTTKMEIGGEEVEVEEFVEEEDEDTV\",\"MSRRPWLLALALAVALAAGSAGAAHIVMVDAYKPTKSTGSDATVPVATQDGPDYVFHRAHERMLFQTSYTLENNGSVICIPNNGQCFCLAWLKSNGTPGEKIGAQVCQWIAFSIAIALLTFYGYQTWKSTCGWEEIYVATIEMIKFIIEYFHEFDEPAVIYSSNGNKTVCLRYFEWLLTCPVILIRLSNLTGLANDYNKRTMGLIVSCVGMIVFGMAAGLSKGYVRVIFFLMGLCYGGYMYFQAAKCYVEAYHTVPKGRCRQVVTGMAWLFFVSWGSYPGLFIFGPEGMHTLSPYANSIGHSICDIIAKEFWTFLAHYLRVLIHEHILIHGDIRKTTKLNIGGTEIEVETLVEDEAEAGAV\",\"MSRLVAASWLLALLLCGITSTTTASAHIVMVDAYKPTKSAPAASSTDGTAAAAVSHYAMNGFDELAKGAVVPEDHFVCGPADKCYCSAWLHSRGTPGEKIGAQVCQWIAFSIAIALLTFYGYQTWKSTCGWEEIYVATIEMIKFIIEYFHEFDSPATVYLSNGNHAYCLRYFEWLLTCPVILIRLSNLTGLANDYNKRTMGLIVSCVGMIVFGMAAGLSKGYVRVIFFLMGLCYGGYMYFQAAKCYVEAYHTVPKGRCRQVVTGMAWLFFVSWGSYPILWAVGPEGLLKLSPYANSIGHSICDIIAKEFWTFLAHYLRVLIHEHILIHGDIRKTTKLNIGGTEIEVETLVEDEAEAGAV\",\"MSRLVAASWLLALLLCGITSTTTASAHIVMVDAYKPTKSAPAASSTDGTAAAAVSHYAMNGFDELAKGAVVPEDHFVCGPADKCYCSAWLHSRGTNAEKLAANILQWITFALSALCLMFYGFSAWKATCGWEEVYVCCVEVLFVTLEIFKEFSSPATVYLSTGNHAYWLRYAEWLLSCPVILIHLSNLSGLSEAYNKRTMALLVSDIGTIVWGTTAALATDWLKWLLYIVSCIYGTQTFYNAGIIYVEANHSVPKGHCRMVVKLMAYAYFASWGMFPILWAVGPEGLLKLSVYGSTVGHTIIDLMSKNCWGLLGHHLRIKIHEHILIHGDIRKTTKMEIGGEEVEVEEFVEEEDEDTV\",\"MGGAPAPDAHSAPPGNDSAAHIVMVDAYKPTKGGSEYHAPAGYQVNPPYHPVHGYEEQCSSIYIYYGTNAEKLAANILQWITFALSALCLMFYGFSAWKATCGWEEVYVCCVEVLFVTLEIFKEFSSPAMLFLYGGNITPWLRYAEWLLSCPVILIHLSNLSGLSEAYNKRTMALLVSDLGTICMGVTAALATGWVKWLFYCIGLVYGTQTFYNAGIIYVEANHSVPKGHCRMVVKLMAYAYFASWGMFPGLFIFGPEGMHTLSVYGSTVGHTIIDLMSKNCWGLLGHHLRIKIHEHILIHGDIRKTTKMEIGGEEVEVEEFVEEEDEDTV\",\"MSRLVAASWLLALLLCGITSTTTASAHIVMVDAYKPTKSAPAASSTDGTAAAAVSHYAMNGFDELAKGAVVPEDHFVCGPADKCYCSAWLHSRGTPGEKIGAQVCQWIAFSIAIALLTFYGFSAWKATCGWEEVYVCCVEVLFVTLEIFKEFSSPATVYLSTGNHAYCLRYFEWLLSCPVILIRLSNLTGLKNDYSKRTMGLIVSCVGMIVFGMAAGLATDWLKWLLYIVSCIYGGYMYFQAAKCYVEAYHTVPKGHCRMVVKLMAYAYFASWGSYPILFILGPEGFGVLSPYANSIGHSICDIIAKEFWTFLAHHLRIKIHEHILIHGDIRKTTKLNIGGTEIEVETLVEDEAEAGAV\",\"MSRLVAASWLLALLLCGITSTTTASAHIVMVDAYKPTKSAPAASSTDGTAAAAVSHYAMNGFDELAKGAVVPEDHFVCGPADKCYCSAWLHSRGTPGEKIGAQVCQWIAFSIAIALLTFYGFSAWKATCGWEEVYVCCVEVLFVTLEIFKEFSSPATVYLSTGNHAYCLRYFEWLLSCPVILIRLSNLSGLKNDYSKRTMGLIVSCVGMIVFGMAAGLATDWLKWLLYIVSCIYGGYMYFQAAKCYVEAYHTVPKGRCRQVVTGMAWLFFVSWGSYPILWAVGPEGLLKLSPYANSIGHSICDIIAKEFWTFLAHHLRIKIHEHIIMYGDIRRPVSSQFLGRKVDVLAFVTEEDKV\",\"MSRRPWLLALALAVALAAGSAGAAHIVMVDAYKPTKSTGSDATVPVATQDGPDYVFHRAHERMLFQTSYTLENNGSVICIPNNGQCFCLAWLKSNGTNAEKLAANILQWIAVFLSALFLAFYGWHAYKASVGWEEVYVCSVELIKVILEIYFEFTSPATVYLSTGNHAYCLRYFEWLLSCPVILIRLSNLSGLKNDYSKRTMGLIVSDIGTIVWGTTAALSKGYVRVIFFLMGLCYGIYTFFNAAKVYIEANHSVPKGHCRMVVKLMAYAYFASWGSYPILWAVGPEGLLKLSVYGSTVGHTIIDLMSKNCWGLLGHYLRVLIHEHILIHGDIRKTTKMEIGGEEVEVEEFVEEEDEDTV\",\"MSRLVAASWLLALLLCGITSTTTASAHIVMVDAYKPTKSAPAASSTDGTAAAAVSHYAMNGFDELAKGAVVPEDHFVCGPADKCYCSAWLHSRGTPGEKIGAQVCQWIAFSIAIALLTFYGFSAWKATCGWEEVYVCCVEVLFVTLEIFKEFSSPATVYLSTGNHAYCLRYFEWLLSCPVILIRLSNLSGLKNDYSKRTMGLIVSCVGMIVFGMAAGLATDWLKWLLYIVSCIYGGYMYFQAAKCYVEAYHTVPKGRCRQVVTGMAWLFFVSWGSYPILWAVGPEGLLKLSPYANSIGHSICDIIAKEFWTFLAHHLRIKIHEHILIHGDIRKTTKLNIGGTEIEVETLVEDEAEAGAV\",\"MSRLVAASWLLALLLCGITSTTTASAHIVMVDAYKPTKSAPAASSTDGTAAAAVSHYAMNGFDELAKGAVVPEDHFVCGPADKCYCSGWLHSHGTQAEFVAATACQYTALSLALLLLSFYAYSAWKATCGWEEGYVCCVEVLFVTLEISNEFNSPATLYLSTGNYCYFLRYGEWLLSCPVILIRLSNLSGLKNDYSKRTMGLIVSCIGMLITGMAGGLGVGWVKWTLYFVSCAYSAQTYLQAAKCYVEVYATVPKGYCRTVVKLMAYAFFTAWGAYPILWAIGPEGLKYISGYSNTIAHTFCDILAKEIWTFLGHHLRIKIHEHILIHGDIRKKVQVRVAGELMNVEELMEEEGEDTV\",\"MSRLVAASWLLALLLCGITSTTTASAHIVMVDAYKPTKSAPAASSTDGTAAAAVSHYAMNGFDELAKGAVVPEDHFVCGPADKCYCSGWLHSHGTQAEFVAATACQYTALSLALLLLSFYAYSAWKATCGWEEGYVCCVEVLFVTLEISNEFNSPATLYLSTGNYCYFLRYGEWLLSCPVILIHLSNLSGLKNDYSMRTMRLLVSCVGMIVFGMAAGLATDWLKWLLYIVSCIYGGYMYFQAAKCYVEVYATVPKGYCRTVVKLMAYAFFTAWGAYPILWAIGPEGLKYISGYSNTIAHTFCDILAKEIWTFLGHHLRIKIHEHILIHGDIRKKVQVRVAGELMNVEELMEEEGEDTV\",\"MSRLVAASWLLALLLCGITSTTTASAHIVMVDAYKPTKSAPAASSTDGTAAAAVSHYAMNGFDELAKGAVVPEDHFVCGPADKCYCSGWLHSHGTPGEKIGAQVCQYIALSIAIALLTFYAYSAWKATCGWEEGYVCCVEVLFVTLEISNEFNSPATLYLSTGNYCYFLRYGEWLLSCPVILIRLSNLSGLKNDYSMRTMRLLVSCIGMLITGMAGGLGVGWVKWTLYFVSCAYSAQTYLQAAKCYVEVYATVPKGYCRTVVKLMAYAFFTAWGSYPILWAIGPEGLKYISPYANSIAHSFCDIIAKEFWTFLAHHLRIKIHEHILIHGDIRKKVQVRVAGELMNVEELMEEEGEDTV\",\"MGGAPAPDAHSAPPGNDSAAHIVMVDAYKPTKGGSEYHAPAGYQVNPPYHPVHGYEEQCSSIYIYYGTPGEKIGAQVCQWIAVFLSALFLAFYGWHAYKASVGWEEVYVCSVELIKVILEIYFEFTEPAVIYSSNGNKTVWLRYAEWLLSCPVILIRLSNLSGLKNDYSKRTMGLIVSDLGTICMGVTAALATGWVKWLFYCIGLVYGTQTFYNAGIIYVESYYIMPAGGCKKLVLAMTAVYYSSWGMFPILFILGPEGFGVLSVAGSTIGHTIADLLSKNIWGLLGHFLRIKIHEHIIMYGDIRRPVSSQFLGRKVDVLAFVTEEDKV\",\"MSRLVAASWLLALLLCGITSTTTASAHIVMVDAYKPTKSAPAASSTDGTAAAAVSHYAMNGFDELAKGAVVPEDHFVCGPADKCYCSAWLHSRGTNAEKLAANILQWIAFSIAIALLTFYGFSAWKATCGWEEVYVCCVEVLFVTLEIFKEFSEPAVIYSSNGNKTVWLRYAEWLLTCPVILIHLSNLTGLANDYNKRTMGLLVSCVGMIVFGMAAGLATDWLKWLLYIVSCIYGGYMYFQAAKCYVEANHSVPKGHCRMVVKLMAYAYFASWGSYPILWAVGPEGLLKLSVAGSTIGHTIADLLSKNIWGLLGHFLRIKIHEHILIHGDIRKTTKMEIGGEEVEVEEFVEEEDEDTV\",\"MSRLVAASWLLALLLCGITSTTTASAHIVMVDAYKPTKSAPAASSTDGTAAAAVSHYAMNGFDELAKGAVVPEDHFVCGPADKCYCSAWLHSRGTPGEKIGAQVCQWIAFSIAIALLTFYGYQTWKSTCGWEEIYVATIEMIKFIIEYFHEFDSPATVYLSTGNHAYWLRYAEWLLTCPVILIRLSNLSGLSEAYNKRTMGLLVSDLGTICMGVTAALATDWLKWLLYIVSCIYGIYTFFNAAKVYIEANHSVPKGHCRMVVKLMAYAYFASWGSYPILWAVGPEGLLKLSPYANSIGHSICDIIAKEFWTFLAHHLRIKIHEHILIHGDIRKTTKMEIGGEEVEVEEFVEEEDEDTV\",\"MSRLVAASWLLALLLCGITSTTTASAHIVMVDAYKPTKSAPAASSTDGTAAAAVSHYAMNGFDELAKGAVVPEDHFVCGPADKCYCSAWLHSRGTPGEKIGAQVCQWIAFSIAIALLTFYGFSAWKATCGWEEVYVCCVEVLFVTLEIFKEFSSPATVYLSGGNHAYCLRYFEWLLSCPVILIRLSNLSGLSEAYNKRTMGLIVSCVGMIVFGMAAGLATGWVKWLFYCIGLVYGIYTFFNAAKVYIEANHSVPKGRCRQVVTGMAWLFFVSWGSYPILFILGPEGFGVLSPYANSIGHSICDIIAKEFWTFLAHYLRVLIHEHILIHGDIRKTTKMEIGGEEVEVEEFVEEEDEDTV\",\"MSRRPWLLALALAVALAAGSAGAAHIVMVDAYKPTKSTGSDATVPVATQDGPDYVFHRAHERMLFQTSYTLENNGSVICIPNNGQCFCLAWLKSNGTPGEKIGAQVCQWITFALSALCLMFYGYQTWKSTCGWEEIYVATIEMIKFIIEYFHEFDSPAMLFLYGGNITPWLRYAEWLLTCPVILIHLSNLTGLANDYNKRTMGLLVSDIGTIVWGTTAALSKGYVRVIFFLMGLCYGIYTFFNAAKVYIEANHSVPKGHCRMVVKLMAYAYFASWLMFPGLFIFGPEGMHTLSVYGSTVGHTIIDLMSKNCWGLLGHYLRVLIHEHILIHGDIRKTTKMEIGGEEVEVEEFVEEEDEDTV\",\"MSRLVAASWLLALLLCGITSTTTASAHIVMVDAYKPTKSAPAASSTDGTAAAAVSHYAMNGFDELAKGAVVPEDHFVCGPADKCYCSAWLHSRGTPGEKIGAQVCQWIAFSIAIALLTFYGFSAWKATCGWEEVYVCCVEVLFVTLEIFKEFSSPATVYLSTGNHAYWLRYAEWLLSCPVILIRLSNLTGLANDYNKRTMALLVSDIGTIVWGTTAALATDWLKWLLYIVSCIYGTQTFYNAGIIYVEAYHTVPKGHCRMVVKLMAYAYFASWGSYPGLFIFGPEGMHTLSPYANSIGHSICDIIAKEFWTFLAHHLRIKIHEHILIHGDIRKTTKLNIGGTEIEVETLVEDEAEAGAV\",\"MSRLVAASWLLALLLCGITSTTTASAHIVMVDAYKPTKSAPAASSTDGTAAAAVSHYAMNGFDELAKGAVVPEDHFVCGPADKCYCSAWLHSRGALWEQETARGFQWFAFSIAIALLTFYGFSAWKATCGWEEVYVCCVEVLFVTLEIFKEFSSPAMLFLYGGNITPWLRYAEWLLSCPVILIRLSNLSGLKNDYSKRTMGLIVSCVGMIVFGMAAGLATDWLKWLLYIVSCIYGGYMYFQAAKCYVEANHSVPKGHCRMVVKLMAYAYFASWGMFPILFILGPEGFGVLSPYANSIGHSICDIIAKEFWTFLAHHLRIKIHEHILIHGDIRKTTKLNIGGTEIEVETLVEDEAEAGAV\",\"MGGAPAPDAHSAPPGNDSAAHIVMVDAYKPTKGGSEYHAPAGYQVNPPYHPVHGYEEQCSSIYIYYGTNAEKLAANILQWITVALSALCLMFYGWHAYKASVGWEEVYVCSVELIKVILEIYFEFTSPAMLFLYGGNITPWLRYAEWLLTCPVILIHLSNITGLSEAYNKRTMGLLVSDIGTIVWGTTAALATGWVKWLFYCIGLVYGIYTFFNAAKVYIESYYIMPAGGCKKLVLAMTAVYYSSWLMFPILWAVGPEGLLKLSVYGSTVGHTIIDLMSKNCWGLLGHFLRIKIHEHIIMYGDIRRPVSSQFLGRKVDVLAFVTEEDKV\",\"MGGAPAPDAHSAPPGNDSAAHIVMVDAYKPTKGGSEYHAPAGYQVNPPYHPVHGYEEQCSSIYIYYGALWEQETARGFQWFAVFLSALFLAFYGWHAYKASVGWEEVYVCSVELIKVILEIYFEFTSPAMLFLYTGNITPCLRYFEWLLTCPVILIHLSNITGLSEAYNKRTMALIVSCVGMIVFGMAAGLATDWLKWLLYIVSCIYGTQTFYNAGIIYVESYYIMPKGHCRMVVKLMAYAYFASWGMFPILFILGPEGFGVLSVAGSTIGHTIADLLSKNIWGLLGHHLRIKIHEHIIMYGDIRRPVSSQFLGRKVDVLAFVTEEDKV\",\"MSRRPWLLALALAVALAAGSAGAAHIVMVDAYKPTKSTGSDATVPVATQDGPDYVFHRAHERMLFQTSYTLENNGSVICIPNNGQCFCLAWLKSNGALWEQETARGFQWFTFALSALCLMFYGYQTWKSTCGWEEIYVATIEMIKFIIEYFHEFDEPAVIYSSNGNKTVWLRYAEWLLTCPVILIHLSNITGLSEAYNKRTMALLVSDIGTIVWGTTAALSKGYVRVIFFLMGLCYGIYTFFNAAKVYIESYYIMPAGGCKKLVLAMTAVYYSSWGMFPILFILGPEGFGVLSVYGSTVGHTIIDLMSKNCWGLLGHYLRVLIHEHILIHGDIRKTTKMEIGGEEVEVEEFVEEEDEDTV\",\"MSRRPWLLALALAVALAAGSAGAAHIVMVDAYKPTKSTGSDATVPVATQDGPDYVFHRAHERMLFQTSYTLENNGSVICIPNNGQCFCLAWLKSNGTNAEKLAANILQWITFALSALCLMFYGFSAWKATCGWEEVYVCCVEVLFVTLEIFKEFSEPAVIYSSNGNKTVWLRYAEWLLSCPVILIHLSNLTGLSEAYNKRTMALLVSDLGTICMGVTAALSKGYVRVIFFLMGLCYGTQTFYNAGIIYVEAYHTVPKGRCRQVVTGMAWLFFVSWGMFPILWAVGPEGLLKLSVYGSTVGHTIIDLMSKNCWGLLGHYLRVLIHEHILIHGDIRKTTKLNIGGTEIEVETLVEDEAEAGAV\",\"MGGAPAPDAHSAPPGNDSAAHIVMVDAYKPTKGGSEYHAPAGYQVNPPYHPVHGYEEQCSSIYIYYGALWEQETARGFQWFAVFLSALFLAFYGWHAYKASVGWEEVYVCSVELIKVILEIYFEFTSPAMLFLYTGNITPWLRYAEWLLTCPVILIHLSNITGLKNDYSKRTMGLLVSDLGTICMGVTAALATDWLKWLLYIVSCIYGIYTFFNAAKVYIESYYIMPKGRCRQVVTGMAWLFFVSWGMFPGLFIFGPEGMHTLSVAGSTIGHTIADLLSKNIWGLLGHYLRVLIHEHIIMYGDIRRPVSSQFLGRKVDVLAFVTEEDKV\",\"MSRLVAASWLLALLLCGITSTTTASAHIVMVDAYKPTKSAPAASSTDGTAAAAVSHYAMNGFDELAKGAVVPEDHFVCGPADKCYCSAWLHSRGTNAEKLAANILQWIAFSIAIALLTFYGFSAWKATCGWEEVYVCCVEVLFVTLEIFKEFSSPATVYLSTGNHAYCLRYFEWLLSCPVILIRLSNLSGLKNDYSKRTMGLIVSCVGMIVFGMAAGLATDWLKWLLYIVSCIYGGYMYFQAAKCYVESYYIMPAGGCKKLVLAMTAVYYSSWLMFPGLFIFGPEGMHTLSPYANSIGHSICDIIAKEFWTFLAHHLRIKIHEHILIHGDIRKTTKMEIGGEEVEVEEFVEEEDEDTV\",\"MGGAPAPDAHSAPPGNDSAAHIVMVDAYKPTKGGSEYHAPAGYQVNPPYHPVHGYEEQCSSIYIYYGTNAEKLAANILQWIAVFLSALFLAFYGWHAYKASVGWEEVYVCSVELIKVILEIYFEFTSPATVYLSTGNHAYCLRYFEWLLTCPVILIHLSNITGLSEAYNKRTMALLVSDLGTICMGVTAALATGWVKWLFYCIGLVYGTQTFYNAGIIYVEANHSVPKGHCRMVVKLMAYAYFASWLMFPGLFIFGPEGMHTLSVAGSTIGHTIADLLSKNIWGLLGHFLRIKIHEHIIMYGDIRRPVSSQFLGRKVDVLAFVTEEDKV\",\"MSRLVAASWLLALLLCGITSTTTASAHIVMVDAYKPTKSAPAASSTDGTAAAAVSHYAMNGFDELAKGAVVPEDHFVCGPADKCYCSAWLHSRGTNAEKLAANILQWIAVFLSALFLAFYGWHAYKASVGWEEVYVCSVELIKVILEIYFEFTEPAVIYSSNGNKTVWLRYAEWLLSCPVILIRLSNLSGLKNDYSKRTMGLIVSCVGMIVFGMAAGLATDWLKWLLYIVSCIYGGYMYFQAAKCYVEANHSVPKGHCRMVVKLMAYAYFASWGSYPILWAVGPEGLLKLSPYANSIGHSICDIIAKEFWTFLAHHLRIKIHEHILIHGDIRKTTKMEIGGEEVEVEEFVEEEDEDTV\",\"MSRLVAASWLLALLLCGITSTTTASAHIVMVDAYKPTKSAPAASSTDGTAAAAVSHYAMNGFDELAKGAVVPEDHFVCGPADKCYCSAWLHSRGTPGEKIGAQVCQWIAFSIAIALLTFYGYQTWKSTCGWEEIYVATIEMIKFIIEYFHEFDSPATVYLSTGNHAYCLRYFEWLLTCPVILIRLSNITGLANDYNKRTMGLIVSCVGMIVFGMAAGLATDWLKWLLYIVSCIYGGYMYFQAAKCYVESYYIMPKGHCRMVVKLMAYAYFASWGSYPILFILGPEGFGVLSPYANSIGHSICDIIAKEFWTFLAHHLRIKIHEHIIMYGDIRRPVSSQFLGRKVDVLAFVTEEDKV\",\"MSRLVAASWLLALLLCGITSTTTASAHIVMVDAYKPTKSAPAASSTDGTAAAAVSHYAMNGFDELAKGAVVPEDHFVCGPADKCYCSAWLHSRGTPGEKIGAQVCQWIAFSIAIALLTFYGFSAWKATCGWEEVYVCCVEVLFVTLEIFKEFSSPATVYLSTGNHAYCLRYFEWLLSCPVILIRLSNLSGLKNDYSKRTMGLIVSCVGMIVFGMAAGLATDWLKWLLYIVSCIYGGYMYFQAAKCYVESYYIMPAGGCKKLVLAMTAVYYSSWGMFPILFILGPEGFGVLSPYANSIGHSICDIIAKEFWTFLAHHLRIKIHEHIIMYGDIRRPVSSQFLGRKVDVLAFVTEEDKV\",\"MSRLVAASWLLALLLCGITSTTTASAHIVMVDAYKPTKSAPAASSTDGTAAAAVSHYAMNGFDELAKGAVVPEDHFVCGPADKCYCSAWLHSRGTPGEKIGAQVCQWIAFSIAIALLTFYGYQTWKSTCGWEEIYVATIEMIKFIIEYFHEFDSPATVYLSGGNHAYCLRYFEWLLTCPVILIRLSNLTGLANDYNKRTMGLIVSCVGMIVFGMAAGLATGWVKWLFYCIGLVYGGYMYFQAAKCYVEAYHTVPKGHCRMVVKLMAYAYFASWGSYPILFILGPEGFGVLSPYANSIGHSICDIIAKEFWTFLAHHLRIKIHEHILIHGDIRKTTKLNIGGTEIEVETLVEDEAEAGAV\",\"MSRRPWLLALALAVALAAGSAGAAHIVMVDAYKPTKSTGSDATVPVATQDGPDYVFHRAHERMLFQTSYTLENNGSVICIPNNGQCFCLAWLKSNGTNAEKLAANILQWIAFSIAIALLTFYGFSAWKATCGWEEVYVCCVEVLFVTLEIFKEFSSPATVYLSTGNHAYCLRYFEWLLSCPVILIRLSNLSGLKNDYSKRTMGLIVSCVGMIVFGMAAGLATDWLKWLLYIVSCIYGGYMYFQAAKCYVEANHSVPKGHCRMVVKLMAYAYFASWGSYPILWAVGPEGLLKLSPYANSIGHSICDIIAKEFWTFLAHHLRIKIHEHILIHGDIRKTTKMEIGGEEVEVEEFVEEEDEDTV\"]},\"selected\":{\"id\":\"7902\"},\"selection_policy\":{\"id\":\"7903\"}},\"id\":\"7888\",\"type\":\"ColumnDataSource\"},{\"attributes\":{\"axis\":{\"id\":\"7853\"},\"dimension\":1,\"ticker\":null},\"id\":\"7856\",\"type\":\"Grid\"},{\"attributes\":{},\"id\":\"7858\",\"type\":\"WheelZoomTool\"},{\"attributes\":{},\"id\":\"7880\",\"type\":\"BasicTickFormatter\"},{\"attributes\":{\"active_drag\":\"auto\",\"active_inspect\":\"auto\",\"active_multi\":null,\"active_scroll\":\"auto\",\"active_tap\":\"auto\",\"tools\":[{\"id\":\"7857\"},{\"id\":\"7858\"},{\"id\":\"7859\"},{\"id\":\"7860\"},{\"id\":\"7861\"},{\"id\":\"7862\"}]},\"id\":\"7864\",\"type\":\"Toolbar\"},{\"attributes\":{\"click_policy\":\"hide\",\"items\":[{\"id\":\"7887\"},{\"id\":\"7905\"}],\"location\":\"bottom_right\"},\"id\":\"7886\",\"type\":\"Legend\"},{\"attributes\":{\"fill_color\":{\"value\":\"#1f77b3\"},\"line_color\":{\"value\":\"#1f77b3\"},\"x\":{\"field\":\"log_GFP\"},\"y\":{\"field\":\"__ECDF\"}},\"id\":\"7873\",\"type\":\"Circle\"},{\"attributes\":{},\"id\":\"7902\",\"type\":\"Selection\"},{\"attributes\":{\"bottom_units\":\"screen\",\"fill_alpha\":0.5,\"fill_color\":\"lightgrey\",\"left_units\":\"screen\",\"level\":\"overlay\",\"line_alpha\":1.0,\"line_color\":\"black\",\"line_dash\":[4,4],\"line_width\":2,\"right_units\":\"screen\",\"top_units\":\"screen\"},\"id\":\"7863\",\"type\":\"BoxAnnotation\"},{\"attributes\":{\"source\":{\"id\":\"7888\"}},\"id\":\"7893\",\"type\":\"CDSView\"},{\"attributes\":{\"fill_alpha\":{\"value\":0.1},\"fill_color\":{\"value\":\"#ff7e0e\"},\"line_alpha\":{\"value\":0.1},\"line_color\":{\"value\":\"#ff7e0e\"},\"x\":{\"field\":\"log_GFP\"},\"y\":{\"field\":\"__ECDF\"}},\"id\":\"7891\",\"type\":\"Circle\"},{\"attributes\":{},\"id\":\"7903\",\"type\":\"UnionRenderers\"},{\"attributes\":{\"fill_alpha\":{\"value\":0.1},\"fill_color\":{\"value\":\"#1f77b3\"},\"line_alpha\":{\"value\":0.1},\"line_color\":{\"value\":\"#1f77b3\"},\"x\":{\"field\":\"log_GFP\"},\"y\":{\"field\":\"__ECDF\"}},\"id\":\"7874\",\"type\":\"Circle\"},{\"attributes\":{\"label\":{\"value\":\"False\"},\"renderers\":[{\"id\":\"7892\"}]},\"id\":\"7905\",\"type\":\"LegendItem\"}],\"root_ids\":[\"7840\"]},\"title\":\"Bokeh Application\",\"version\":\"2.1.1\"}};\n",
       "  var render_items = [{\"docid\":\"d692421e-362b-4a06-98d7-ff402d48df8c\",\"root_ids\":[\"7840\"],\"roots\":{\"7840\":\"2338b00b-68e5-43b5-be84-cbda0de05274\"}}];\n",
       "  root.Bokeh.embed.embed_items_notebook(docs_json, render_items);\n",
       "\n",
       "  }\n",
       "  if (root.Bokeh !== undefined) {\n",
       "    embed_document(root);\n",
       "  } else {\n",
       "    var attempts = 0;\n",
       "    var timer = setInterval(function(root) {\n",
       "      if (root.Bokeh !== undefined) {\n",
       "        clearInterval(timer);\n",
       "        embed_document(root);\n",
       "      } else {\n",
       "        attempts++;\n",
       "        if (attempts > 100) {\n",
       "          clearInterval(timer);\n",
       "          console.log(\"Bokeh: ERROR: Unable to run BokehJS code because BokehJS library is missing\");\n",
       "        }\n",
       "      }\n",
       "    }, 10, root)\n",
       "  }\n",
       "})(window);"
      ],
      "application/vnd.bokehjs_exec.v0+json": ""
     },
     "metadata": {
      "application/vnd.bokehjs_exec.v0+json": {
       "id": "7840"
      }
     },
     "output_type": "display_data"
    }
   ],
   "source": [
    "bokeh.io.show(p)"
   ]
  },
  {
   "cell_type": "markdown",
   "metadata": {},
   "source": [
    "We can see that the test set is a bit bimodal, but overall, the support seems to be fairly splitted between the datasets. Let's proceed with our analysis. "
   ]
  },
  {
   "cell_type": "code",
   "execution_count": 17,
   "metadata": {
    "ExecuteTime": {
     "end_time": "2020-08-10T21:47:13.784860Z",
     "start_time": "2020-08-10T21:47:13.758356Z"
    }
   },
   "outputs": [],
   "source": [
    "df_train = df[df.is_train==True]\n",
    "df_test = df[df.is_train==False]"
   ]
  },
  {
   "cell_type": "code",
   "execution_count": 18,
   "metadata": {
    "ExecuteTime": {
     "end_time": "2020-08-10T21:47:13.820379Z",
     "start_time": "2020-08-10T21:47:13.788605Z"
    }
   },
   "outputs": [
    {
     "name": "stdout",
     "output_type": "stream",
     "text": [
      "Number of proteins in training set: 215\n",
      "Number of proteins in test set: 33\n"
     ]
    }
   ],
   "source": [
    "print(f'Number of proteins in training set: {len(df_train)}')\n",
    "print(f'Number of proteins in test set: {len(df_test)}')"
   ]
  },
  {
   "cell_type": "code",
   "execution_count": 19,
   "metadata": {
    "ExecuteTime": {
     "end_time": "2020-08-10T21:47:13.856079Z",
     "start_time": "2020-08-10T21:47:13.823641Z"
    }
   },
   "outputs": [
    {
     "data": {
      "text/plain": [
       "10.0    19\n",
       "17.0     9\n",
       "25.0     7\n",
       "6.0      7\n",
       "39.0     7\n",
       "Name: m, dtype: int64"
      ]
     },
     "execution_count": 19,
     "metadata": {},
     "output_type": "execute_result"
    }
   ],
   "source": [
    "# Get a sense of the number of mutations. \n",
    "df.m.value_counts().head()"
   ]
  },
  {
   "cell_type": "markdown",
   "metadata": {},
   "source": [
    "### Project sequences to hidden state space"
   ]
  },
  {
   "cell_type": "markdown",
   "metadata": {
    "ExecuteTime": {
     "end_time": "2020-08-10T21:20:09.050564Z",
     "start_time": "2020-08-10T21:20:09.031749Z"
    }
   },
   "source": [
    "Let's remind ourselves of the output of our function by trying out one sequence. "
   ]
  },
  {
   "cell_type": "code",
   "execution_count": 20,
   "metadata": {
    "ExecuteTime": {
     "end_time": "2020-08-10T21:47:13.890763Z",
     "start_time": "2020-08-10T21:47:13.859693Z"
    }
   },
   "outputs": [
    {
     "data": {
      "text/plain": [
       "'MSRLVAASWL'"
      ]
     },
     "execution_count": 20,
     "metadata": {},
     "output_type": "execute_result"
    }
   ],
   "source": [
    "# Get first protein of trains set\n",
    "prot = df_train.sequence.values[0]\n",
    "# See first 10 aminoacids \n",
    "prot[:10]"
   ]
  },
  {
   "cell_type": "code",
   "execution_count": 23,
   "metadata": {
    "ExecuteTime": {
     "end_time": "2020-08-10T21:47:13.988193Z",
     "start_time": "2020-08-10T21:47:13.960078Z"
    }
   },
   "outputs": [],
   "source": [
    "# Initialize aminoacid vocab\n",
    "aminoacid_vocab = pr.aminoacid_vocab()"
   ]
  },
  {
   "cell_type": "code",
   "execution_count": 24,
   "metadata": {
    "ExecuteTime": {
     "end_time": "2020-08-10T21:47:14.018344Z",
     "start_time": "2020-08-10T21:47:13.990900Z"
    }
   },
   "outputs": [],
   "source": [
    "# Transfer function from vocab object\n",
    "aminoacid_to_index = aminoacid_vocab.aminoacid_to_index"
   ]
  },
  {
   "cell_type": "code",
   "execution_count": 25,
   "metadata": {
    "ExecuteTime": {
     "end_time": "2020-08-10T21:47:14.117378Z",
     "start_time": "2020-08-10T21:47:14.021948Z"
    }
   },
   "outputs": [],
   "source": [
    "# Get hidden state for first protein in train set \n",
    "with torch.no_grad():\n",
    "    hidden= pr.get_hidden_state(\n",
    "        prot, rnn, hidden_size, aminoacid_to_index, get_last_hidden=True\n",
    ")"
   ]
  },
  {
   "cell_type": "code",
   "execution_count": 26,
   "metadata": {
    "ExecuteTime": {
     "end_time": "2020-08-10T21:47:14.150180Z",
     "start_time": "2020-08-10T21:47:14.120776Z"
    }
   },
   "outputs": [
    {
     "data": {
      "text/plain": [
       "(128,)"
      ]
     },
     "execution_count": 26,
     "metadata": {},
     "output_type": "execute_result"
    }
   ],
   "source": [
    "# Check dimensionality of the output hidden state \n",
    "hidden.shape"
   ]
  },
  {
   "cell_type": "markdown",
   "metadata": {},
   "source": [
    "We can see that the hidden state is what we expect, a 128 dim vector. We can proceed run the sequences through our trained RNN. "
   ]
  },
  {
   "cell_type": "code",
   "execution_count": 27,
   "metadata": {
    "ExecuteTime": {
     "end_time": "2020-08-10T21:47:14.186896Z",
     "start_time": "2020-08-10T21:47:14.153844Z"
    }
   },
   "outputs": [],
   "source": [
    "# Get arrays of protein sequences. \n",
    "seqs_train = df_train.sequence.values\n",
    "seqs_test = df_test.sequence.values"
   ]
  },
  {
   "cell_type": "code",
   "execution_count": 45,
   "metadata": {
    "ExecuteTime": {
     "end_time": "2020-08-10T21:48:36.942346Z",
     "start_time": "2020-08-10T21:48:36.891629Z"
    }
   },
   "outputs": [],
   "source": [
    "# Initialize empty arrays for storing hidden states  \n",
    "hiddens_train = np.zeros(shape = (seqs_train.shape[0], hidden_size))\n",
    "hiddens_test = np.zeros(shape = (seqs_test.shape[0], hidden_size))"
   ]
  },
  {
   "cell_type": "code",
   "execution_count": 47,
   "metadata": {
    "ExecuteTime": {
     "end_time": "2020-08-10T21:49:09.140699Z",
     "start_time": "2020-08-10T21:49:06.519061Z"
    }
   },
   "outputs": [
    {
     "name": "stderr",
     "output_type": "stream",
     "text": [
      "9it [00:00, 84.95it/s]"
     ]
    },
    {
     "name": "stdout",
     "output_type": "stream",
     "text": [
      "Converting train sequences...\n"
     ]
    },
    {
     "name": "stderr",
     "output_type": "stream",
     "text": [
      "215it [00:02, 97.33it/s] \n",
      "10it [00:00, 95.86it/s]"
     ]
    },
    {
     "name": "stdout",
     "output_type": "stream",
     "text": [
      "Converting test sequences...\n"
     ]
    },
    {
     "name": "stderr",
     "output_type": "stream",
     "text": [
      "33it [00:00, 91.85it/s]\n"
     ]
    }
   ],
   "source": [
    "# Project! \n",
    "with torch.no_grad():\n",
    "    \n",
    "    print('Converting train sequences...')\n",
    "    for i, prot in tqdm.tqdm(enumerate(seqs_train)): \n",
    "    \n",
    "        hidden = pr.get_hidden_state(\n",
    "            prot, rnn, hidden_size, aminoacid_to_index, get_last_hidden=True\n",
    "        )\n",
    "\n",
    "        # Add hidden state for current protein to array using numpy indexing \n",
    "        hiddens_train[i, :] = hidden   \n",
    "    \n",
    "    print('Converting test sequences...')\n",
    "    for i, prot in tqdm.tqdm(enumerate(seqs_test)):\n",
    "        hidden = pr.get_hidden_state(\n",
    "            prot, rnn, hidden_size, aminoacid_to_index, get_last_hidden=True\n",
    "        )\n",
    "        \n",
    "        # Add protein to array \n",
    "        hiddens_test[i, :] = hidden   "
   ]
  },
  {
   "cell_type": "code",
   "execution_count": 48,
   "metadata": {
    "ExecuteTime": {
     "end_time": "2020-08-10T21:49:10.234955Z",
     "start_time": "2020-08-10T21:49:10.181667Z"
    }
   },
   "outputs": [
    {
     "data": {
      "text/plain": [
       "(215, 128)"
      ]
     },
     "execution_count": 48,
     "metadata": {},
     "output_type": "execute_result"
    }
   ],
   "source": [
    "hiddens_train.shape"
   ]
  },
  {
   "cell_type": "code",
   "execution_count": 49,
   "metadata": {
    "ExecuteTime": {
     "end_time": "2020-08-10T21:49:10.791131Z",
     "start_time": "2020-08-10T21:49:10.752429Z"
    }
   },
   "outputs": [
    {
     "data": {
      "text/plain": [
       "(33, 128)"
      ]
     },
     "execution_count": 49,
     "metadata": {},
     "output_type": "execute_result"
    }
   ],
   "source": [
    "hiddens_test.shape"
   ]
  },
  {
   "cell_type": "markdown",
   "metadata": {},
   "source": [
    "### Train linear model. "
   ]
  },
  {
   "cell_type": "markdown",
   "metadata": {},
   "source": [
    "All right. We now have to set our regression task. We will be using the Lasso method. Very briefly, the Lasso regression is the equivalent of linear regression using a Laplace prior, or the so called L1 regularization. The effect of using this method is that it inforces sparsity on the coefficients of our input variables, namely the hidden states. In this sense, *uninformative* dimensions of the hidden state, will be discarded for prediction. Let's go ahead and initialize our model and predict the log(GFP) values for the test set. "
   ]
  },
  {
   "cell_type": "code",
   "execution_count": 50,
   "metadata": {
    "ExecuteTime": {
     "end_time": "2020-08-10T21:49:11.350011Z",
     "start_time": "2020-08-10T21:49:11.310718Z"
    }
   },
   "outputs": [],
   "source": [
    "y_train = df_train.log_GFP.values\n",
    "y_test = df_test.log_GFP.values"
   ]
  },
  {
   "cell_type": "code",
   "execution_count": 51,
   "metadata": {
    "ExecuteTime": {
     "end_time": "2020-08-10T21:49:12.120871Z",
     "start_time": "2020-08-10T21:49:12.059695Z"
    }
   },
   "outputs": [
    {
     "name": "stderr",
     "output_type": "stream",
     "text": [
      "/Users/manoloflores/anaconda3/envs/maxwell/lib/python3.7/site-packages/sklearn/linear_model/_coordinate_descent.py:531: ConvergenceWarning: Objective did not converge. You might want to increase the number of iterations. Duality gap: 0.12594222836418112, tolerance: 0.03265761071871562\n",
      "  positive)\n"
     ]
    }
   ],
   "source": [
    "# Initialize and train linear model\n",
    "regression = Lasso(random_state = seed, alpha = 1e-3).fit(hiddens_train, y_train)"
   ]
  },
  {
   "cell_type": "code",
   "execution_count": 55,
   "metadata": {
    "ExecuteTime": {
     "end_time": "2020-08-10T21:49:20.147255Z",
     "start_time": "2020-08-10T21:49:20.101373Z"
    }
   },
   "outputs": [],
   "source": [
    "# Make predicttions for test set \n",
    "y_pred = regression.predict(hiddens_test)"
   ]
  },
  {
   "cell_type": "code",
   "execution_count": 91,
   "metadata": {
    "ExecuteTime": {
     "end_time": "2020-08-10T21:56:13.558566Z",
     "start_time": "2020-08-10T21:56:13.511220Z"
    }
   },
   "outputs": [],
   "source": [
    "n_seqs_test = df_test.shape[0]"
   ]
  },
  {
   "cell_type": "code",
   "execution_count": 92,
   "metadata": {
    "ExecuteTime": {
     "end_time": "2020-08-10T21:56:17.890608Z",
     "start_time": "2020-08-10T21:56:17.843636Z"
    }
   },
   "outputs": [],
   "source": [
    "# Mean squared error\n",
    "mse = np.sum((y_pred-y_test)**2)/n_seqs_test"
   ]
  },
  {
   "cell_type": "code",
   "execution_count": 93,
   "metadata": {
    "ExecuteTime": {
     "end_time": "2020-08-10T21:56:18.523826Z",
     "start_time": "2020-08-10T21:56:18.482429Z"
    }
   },
   "outputs": [
    {
     "data": {
      "text/plain": [
       "1.406076522387037"
      ]
     },
     "execution_count": 93,
     "metadata": {},
     "output_type": "execute_result"
    }
   ],
   "source": [
    "mse"
   ]
  },
  {
   "cell_type": "code",
   "execution_count": 94,
   "metadata": {
    "ExecuteTime": {
     "end_time": "2020-08-10T21:56:24.563898Z",
     "start_time": "2020-08-10T21:56:24.517611Z"
    }
   },
   "outputs": [],
   "source": [
    "# Mean absolute error \n",
    "mae = np.sum(np.abs(y_pred-y_test))/n_seqs_test"
   ]
  },
  {
   "cell_type": "code",
   "execution_count": 95,
   "metadata": {
    "ExecuteTime": {
     "end_time": "2020-08-10T21:56:25.242007Z",
     "start_time": "2020-08-10T21:56:25.199119Z"
    }
   },
   "outputs": [
    {
     "data": {
      "text/plain": [
       "0.9935075397425209"
      ]
     },
     "execution_count": 95,
     "metadata": {},
     "output_type": "execute_result"
    }
   ],
   "source": [
    "mae"
   ]
  },
  {
   "cell_type": "code",
   "execution_count": 96,
   "metadata": {
    "ExecuteTime": {
     "end_time": "2020-08-10T21:56:28.205418Z",
     "start_time": "2020-08-10T21:56:28.164100Z"
    }
   },
   "outputs": [],
   "source": [
    "line = np.linspace(y_pred.min()-1, y_pred.max()+1, 20)"
   ]
  },
  {
   "cell_type": "code",
   "execution_count": 97,
   "metadata": {
    "ExecuteTime": {
     "end_time": "2020-08-10T21:56:28.763395Z",
     "start_time": "2020-08-10T21:56:28.714445Z"
    }
   },
   "outputs": [],
   "source": [
    "line_plot = hv.Curve((line, line)).opts(color = 'grey')"
   ]
  },
  {
   "cell_type": "code",
   "execution_count": 153,
   "metadata": {
    "ExecuteTime": {
     "end_time": "2020-08-10T22:07:49.077545Z",
     "start_time": "2020-08-10T22:07:49.032999Z"
    }
   },
   "outputs": [],
   "source": [
    "prediction_plot = hv.Scatter((y_test, y_pred)).opts(\n",
    "    padding=0.1,\n",
    "    ylabel=\"predicted log(GFP)\",\n",
    "    xlabel=\"real log(GFP)\",\n",
    "    alpha=0.8,\n",
    "    color=\"#756bb1\",\n",
    "    size = 7,\n",
    "    title = 'Localization prediction using Lasso, MAE: %.3f'%mae,\n",
    "    width = 440\n",
    ")"
   ]
  },
  {
   "cell_type": "code",
   "execution_count": 154,
   "metadata": {
    "ExecuteTime": {
     "end_time": "2020-08-10T22:07:49.809845Z",
     "start_time": "2020-08-10T22:07:49.686776Z"
    }
   },
   "outputs": [
    {
     "data": {},
     "metadata": {},
     "output_type": "display_data"
    },
    {
     "data": {
      "application/vnd.holoviews_exec.v0+json": "",
      "text/html": [
       "<div id='7525'>\n",
       "\n",
       "\n",
       "\n",
       "\n",
       "\n",
       "  <div class=\"bk-root\" id=\"c3bb48f8-36cf-446c-8c94-0f8f22f27dbd\" data-root-id=\"7525\"></div>\n",
       "</div>\n",
       "<script type=\"application/javascript\">(function(root) {\n",
       "  function embed_document(root) {\n",
       "  var docs_json = {\"49ea6f8d-fb1b-4ce6-a2f4-230addd2b555\":{\"roots\":{\"references\":[{\"attributes\":{},\"id\":\"7543\",\"type\":\"BasicTicker\"},{\"attributes\":{\"source\":{\"id\":\"7570\"}},\"id\":\"7577\",\"type\":\"CDSView\"},{\"attributes\":{},\"id\":\"7563\",\"type\":\"Selection\"},{\"attributes\":{\"margin\":[5,5,5,5],\"name\":\"HSpacer13096\",\"sizing_mode\":\"stretch_width\"},\"id\":\"7526\",\"type\":\"Spacer\"},{\"attributes\":{},\"id\":\"7539\",\"type\":\"BasicTicker\"},{\"attributes\":{\"axis\":{\"id\":\"7538\"},\"grid_line_color\":null,\"ticker\":null},\"id\":\"7541\",\"type\":\"Grid\"},{\"attributes\":{\"end\":-3.5667519471464857,\"reset_end\":-3.5667519471464857,\"reset_start\":-10.093509002467524,\"start\":-10.093509002467524,\"tags\":[[[\"x\",\"x\",null]]]},\"id\":\"7527\",\"type\":\"Range1d\"},{\"attributes\":{\"line_alpha\":0.1,\"line_color\":\"grey\",\"line_width\":2,\"x\":{\"field\":\"x\"},\"y\":{\"field\":\"y\"}},\"id\":\"7574\",\"type\":\"Line\"},{\"attributes\":{\"fill_alpha\":{\"value\":0.8},\"fill_color\":{\"value\":\"#756bb1\"},\"line_alpha\":{\"value\":0.8},\"line_color\":{\"value\":\"#756bb1\"},\"size\":{\"units\":\"screen\",\"value\":7},\"x\":{\"field\":\"x\"},\"y\":{\"field\":\"y\"}},\"id\":\"7565\",\"type\":\"Scatter\"},{\"attributes\":{\"data_source\":{\"id\":\"7570\"},\"glyph\":{\"id\":\"7573\"},\"hover_glyph\":null,\"muted_glyph\":{\"id\":\"7575\"},\"nonselection_glyph\":{\"id\":\"7574\"},\"selection_glyph\":null,\"view\":{\"id\":\"7577\"}},\"id\":\"7576\",\"type\":\"GlyphRenderer\"},{\"attributes\":{\"text\":\"Localization prediction using Lasso, MAE: 0.994\",\"text_color\":{\"value\":\"black\"},\"text_font_size\":{\"value\":\"12pt\"}},\"id\":\"7530\",\"type\":\"Title\"},{\"attributes\":{\"fill_alpha\":{\"value\":0.2},\"fill_color\":{\"value\":\"#756bb1\"},\"line_alpha\":{\"value\":0.2},\"line_color\":{\"value\":\"#756bb1\"},\"size\":{\"units\":\"screen\",\"value\":7},\"x\":{\"field\":\"x\"},\"y\":{\"field\":\"y\"}},\"id\":\"7567\",\"type\":\"Scatter\"},{\"attributes\":{\"data_source\":{\"id\":\"7562\"},\"glyph\":{\"id\":\"7565\"},\"hover_glyph\":null,\"muted_glyph\":{\"id\":\"7567\"},\"nonselection_glyph\":{\"id\":\"7566\"},\"selection_glyph\":null,\"view\":{\"id\":\"7569\"}},\"id\":\"7568\",\"type\":\"GlyphRenderer\"},{\"attributes\":{\"margin\":[5,5,5,5],\"name\":\"HSpacer13097\",\"sizing_mode\":\"stretch_width\"},\"id\":\"7668\",\"type\":\"Spacer\"},{\"attributes\":{\"line_color\":\"grey\",\"line_width\":2,\"x\":{\"field\":\"x\"},\"y\":{\"field\":\"y\"}},\"id\":\"7573\",\"type\":\"Line\"},{\"attributes\":{\"line_alpha\":0.2,\"line_color\":\"grey\",\"line_width\":2,\"x\":{\"field\":\"x\"},\"y\":{\"field\":\"y\"}},\"id\":\"7575\",\"type\":\"Line\"},{\"attributes\":{\"overlay\":{\"id\":\"7551\"}},\"id\":\"7549\",\"type\":\"BoxZoomTool\"},{\"attributes\":{\"axis\":{\"id\":\"7542\"},\"dimension\":1,\"grid_line_color\":null,\"ticker\":null},\"id\":\"7545\",\"type\":\"Grid\"},{\"attributes\":{\"axis_label\":\"predicted log(GFP)\",\"bounds\":\"auto\",\"formatter\":{\"id\":\"7560\"},\"major_label_orientation\":\"horizontal\",\"ticker\":{\"id\":\"7543\"}},\"id\":\"7542\",\"type\":\"LinearAxis\"},{\"attributes\":{\"fill_alpha\":{\"value\":0.8},\"fill_color\":{\"value\":\"#756bb1\"},\"line_alpha\":{\"value\":0.8},\"line_color\":{\"value\":\"#756bb1\"},\"size\":{\"units\":\"screen\",\"value\":7},\"x\":{\"field\":\"x\"},\"y\":{\"field\":\"y\"}},\"id\":\"7566\",\"type\":\"Scatter\"},{\"attributes\":{\"active_drag\":\"auto\",\"active_inspect\":\"auto\",\"active_multi\":null,\"active_scroll\":\"auto\",\"active_tap\":\"auto\",\"tools\":[{\"id\":\"7546\"},{\"id\":\"7547\"},{\"id\":\"7548\"},{\"id\":\"7549\"},{\"id\":\"7550\"}]},\"id\":\"7552\",\"type\":\"Toolbar\"},{\"attributes\":{},\"id\":\"7571\",\"type\":\"Selection\"},{\"attributes\":{\"source\":{\"id\":\"7562\"}},\"id\":\"7569\",\"type\":\"CDSView\"},{\"attributes\":{\"data\":{\"x\":{\"__ndarray__\":\"Nsbq519nI8D6mhv+DuMiwL5vTBS+XiLAgkR9Km3aIcBGGa5AHFYhwAru3lbL0SDAzsIPbXpNIMAjL4EGU5IfwKvY4jKxiR7AM4JEXw+BHcC7K6aLbXgcwELVB7jLbxvAyn5p5ClnGsBSKMsQiF4ZwNrRLD3mVRjAYnuOaURNF8DqJPCVokQWwHLOUcIAPBXA+nez7l4zFMCCIRUbvSoTwA==\",\"dtype\":\"float64\",\"order\":\"little\",\"shape\":[20]},\"y\":{\"__ndarray__\":\"Nsbq519nI8D6mhv+DuMiwL5vTBS+XiLAgkR9Km3aIcBGGa5AHFYhwAru3lbL0SDAzsIPbXpNIMAjL4EGU5IfwKvY4jKxiR7AM4JEXw+BHcC7K6aLbXgcwELVB7jLbxvAyn5p5ClnGsBSKMsQiF4ZwNrRLD3mVRjAYnuOaURNF8DqJPCVokQWwHLOUcIAPBXA+nez7l4zFMCCIRUbvSoTwA==\",\"dtype\":\"float64\",\"order\":\"little\",\"shape\":[20]}},\"selected\":{\"id\":\"7571\"},\"selection_policy\":{\"id\":\"7586\"}},\"id\":\"7570\",\"type\":\"ColumnDataSource\"},{\"attributes\":{},\"id\":\"7548\",\"type\":\"WheelZoomTool\"},{\"attributes\":{},\"id\":\"7560\",\"type\":\"BasicTickFormatter\"},{\"attributes\":{},\"id\":\"7546\",\"type\":\"SaveTool\"},{\"attributes\":{},\"id\":\"7550\",\"type\":\"ResetTool\"},{\"attributes\":{},\"id\":\"7584\",\"type\":\"UnionRenderers\"},{\"attributes\":{\"align\":null,\"below\":[{\"id\":\"7538\"}],\"center\":[{\"id\":\"7541\"},{\"id\":\"7545\"}],\"left\":[{\"id\":\"7542\"}],\"margin\":null,\"min_border_bottom\":10,\"min_border_left\":10,\"min_border_right\":10,\"min_border_top\":10,\"plot_height\":300,\"plot_width\":440,\"renderers\":[{\"id\":\"7568\"},{\"id\":\"7576\"}],\"sizing_mode\":\"fixed\",\"title\":{\"id\":\"7530\"},\"toolbar\":{\"id\":\"7552\"},\"x_range\":{\"id\":\"7527\"},\"x_scale\":{\"id\":\"7534\"},\"y_range\":{\"id\":\"7528\"},\"y_scale\":{\"id\":\"7536\"}},\"id\":\"7529\",\"subtype\":\"Figure\",\"type\":\"Plot\"},{\"attributes\":{\"bottom_units\":\"screen\",\"fill_alpha\":0.5,\"fill_color\":\"lightgrey\",\"left_units\":\"screen\",\"level\":\"overlay\",\"line_alpha\":1.0,\"line_color\":\"black\",\"line_dash\":[4,4],\"line_width\":2,\"right_units\":\"screen\",\"top_units\":\"screen\"},\"id\":\"7551\",\"type\":\"BoxAnnotation\"},{\"attributes\":{},\"id\":\"7536\",\"type\":\"LinearScale\"},{\"attributes\":{},\"id\":\"7534\",\"type\":\"LinearScale\"},{\"attributes\":{\"children\":[{\"id\":\"7526\"},{\"id\":\"7529\"},{\"id\":\"7668\"}],\"margin\":[0,0,0,0],\"name\":\"Row13092\",\"tags\":[\"embedded\"]},\"id\":\"7525\",\"type\":\"Row\"},{\"attributes\":{\"axis_label\":\"real log(GFP)\",\"bounds\":\"auto\",\"formatter\":{\"id\":\"7558\"},\"major_label_orientation\":\"horizontal\",\"ticker\":{\"id\":\"7539\"}},\"id\":\"7538\",\"type\":\"LinearAxis\"},{\"attributes\":{\"end\":-4.300720349064163,\"reset_end\":-4.300720349064163,\"reset_start\":-10.192920236428634,\"start\":-10.192920236428634,\"tags\":[[[\"y\",\"y\",null]]]},\"id\":\"7528\",\"type\":\"Range1d\"},{\"attributes\":{},\"id\":\"7547\",\"type\":\"PanTool\"},{\"attributes\":{},\"id\":\"7558\",\"type\":\"BasicTickFormatter\"},{\"attributes\":{\"data\":{\"x\":{\"__ndarray__\":\"LfiUut1PHcDO5dAX1T8dwKq0eQEN+B7AfDN3WwvNF8DV7yzgnQwUwOzrfZ4NhiDAug6oFL7TG8C2tz7gX2QSwL8b6GV8PhTAlnw6qRZSHcDXGw2ak80SwIoE34cx9RzAwGC5pkZnF8BGT4WNtEsYwCuuAFTCph3AQJVgvVJ/H8DD8mlLXcsdwGKn69pPWhDA3A3U8gzmGsBiXicuBlYdwE/USn8P4BTAcT+zHfuPGcCOJ2tMi0MWwOQpJXlHxRvA2sA+YHfJHMD8h1iWFQEdwPCrpKrYOxHAdq9KzMsCH8Au2zQf3TMbwKmrEUe6rBHAOQC6HDttEsA9YkIpW5gQwGA/4ES3qg/A\",\"dtype\":\"float64\",\"order\":\"little\",\"shape\":[33]},\"y\":{\"__ndarray__\":\"7ItcD+EjIcBie8bmsJ8fwDbG6udfZyHAgiEVG70qF8B0gvgT5J0XwF/HsP3BSiDALBGFaIesIMCaWQYDQTkZwI4gh+HDgxnAuOt/gGjHH8Dj+NbJAq0YwKoNS0rRzBfAiCMpTHvhF8A0YVJIAB8YwCCNBNISCRrAmGq7TyzwGcCeYUJs55kbwA1QROJY8BrAThRyNjeAH8DTwDHmpAodwFl475oFGxjA13KLZsgXHsDh3uuzzP0ZwM6LEPIiih7AgE26N1OJHMDoUBjzVBIbwO7iR3e3txnAQA/W2y03HcDoSJlXGPoYwBbof4Kd5BfAKBHcXGWGGcAjRhiYYp4XwCKzyNXYOhfA\",\"dtype\":\"float64\",\"order\":\"little\",\"shape\":[33]}},\"selected\":{\"id\":\"7563\"},\"selection_policy\":{\"id\":\"7584\"}},\"id\":\"7562\",\"type\":\"ColumnDataSource\"},{\"attributes\":{},\"id\":\"7586\",\"type\":\"UnionRenderers\"}],\"root_ids\":[\"7525\"]},\"title\":\"Bokeh Application\",\"version\":\"2.1.1\"}};\n",
       "  var render_items = [{\"docid\":\"49ea6f8d-fb1b-4ce6-a2f4-230addd2b555\",\"root_ids\":[\"7525\"],\"roots\":{\"7525\":\"c3bb48f8-36cf-446c-8c94-0f8f22f27dbd\"}}];\n",
       "  root.Bokeh.embed.embed_items_notebook(docs_json, render_items);\n",
       "  }\n",
       "if (root.Bokeh !== undefined) {\n",
       "    embed_document(root);\n",
       "  } else {\n",
       "    var attempts = 0;\n",
       "    var timer = setInterval(function(root) {\n",
       "      if (root.Bokeh !== undefined) {\n",
       "        clearInterval(timer);\n",
       "        embed_document(root);\n",
       "      } else if (document.readyState == \"complete\") {\n",
       "        attempts++;\n",
       "        if (attempts > 100) {\n",
       "          clearInterval(timer);\n",
       "          console.log(\"Bokeh: ERROR: Unable to run BokehJS code because BokehJS library is missing\");\n",
       "        }\n",
       "      }\n",
       "    }, 10, root)\n",
       "  }\n",
       "})(window);</script>"
      ],
      "text/plain": [
       ":Overlay\n",
       "   .Scatter.I :Scatter   [x]   (y)\n",
       "   .Curve.I   :Curve   [x]   (y)"
      ]
     },
     "execution_count": 154,
     "metadata": {
      "application/vnd.holoviews_exec.v0+json": {
       "id": "7525"
      }
     },
     "output_type": "execute_result"
    }
   ],
   "source": [
    "# Overlay plots using holoviews \"grammar\"\n",
    "prediction_plot*line_plot"
   ]
  },
  {
   "cell_type": "markdown",
   "metadata": {},
   "source": [
    "Neat! We can see that the predictions are not too off from the measurements. Well, at least One question that sparks to my mind is to see whether the number of mutations i.e. single aminoacid deviations from the parents make the prediction harder. \n",
    "\n",
    "We can add the the predictions to the test dataframe and color the dots using hvplot. "
   ]
  },
  {
   "cell_type": "code",
   "execution_count": 101,
   "metadata": {
    "ExecuteTime": {
     "end_time": "2020-08-10T21:56:53.709682Z",
     "start_time": "2020-08-10T21:56:53.661445Z"
    }
   },
   "outputs": [
    {
     "name": "stderr",
     "output_type": "stream",
     "text": [
      "/Users/manoloflores/anaconda3/envs/maxwell/lib/python3.7/site-packages/ipykernel_launcher.py:1: SettingWithCopyWarning: \n",
      "A value is trying to be set on a copy of a slice from a DataFrame.\n",
      "Try using .loc[row_indexer,col_indexer] = value instead\n",
      "\n",
      "See the caveats in the documentation: https://pandas.pydata.org/pandas-docs/stable/user_guide/indexing.html#returning-a-view-versus-a-copy\n",
      "  \"\"\"Entry point for launching an IPython kernel.\n"
     ]
    }
   ],
   "source": [
    "df_test['predicted_log_gfp'] = y_pred"
   ]
  },
  {
   "cell_type": "code",
   "execution_count": 102,
   "metadata": {
    "ExecuteTime": {
     "end_time": "2020-08-10T21:56:57.506183Z",
     "start_time": "2020-08-10T21:56:57.451002Z"
    }
   },
   "outputs": [
    {
     "data": {
      "text/html": [
       "<div>\n",
       "<style scoped>\n",
       "    .dataframe tbody tr th:only-of-type {\n",
       "        vertical-align: middle;\n",
       "    }\n",
       "\n",
       "    .dataframe tbody tr th {\n",
       "        vertical-align: top;\n",
       "    }\n",
       "\n",
       "    .dataframe thead th {\n",
       "        text-align: right;\n",
       "    }\n",
       "</style>\n",
       "<table border=\"1\" class=\"dataframe\">\n",
       "  <thead>\n",
       "    <tr style=\"text-align: right;\">\n",
       "      <th></th>\n",
       "      <th>name</th>\n",
       "      <th>sequence</th>\n",
       "      <th>log_GFP</th>\n",
       "      <th>is_train</th>\n",
       "      <th>m</th>\n",
       "      <th>predicted_log_gfp</th>\n",
       "    </tr>\n",
       "  </thead>\n",
       "  <tbody>\n",
       "    <tr>\n",
       "      <th>201</th>\n",
       "      <td>n1_2</td>\n",
       "      <td>MGGAPAPDAHSAPPGNDSAAHIVMVDAYKPTKGGSEYHAPAGYQVN...</td>\n",
       "      <td>-7.327994</td>\n",
       "      <td>False</td>\n",
       "      <td>87.0</td>\n",
       "      <td>-8.570076</td>\n",
       "    </tr>\n",
       "    <tr>\n",
       "      <th>202</th>\n",
       "      <td>n2_2</td>\n",
       "      <td>MSRLVAASWLLALLLCGITSTTTASAHIVMVDAYKPTKSAPAASST...</td>\n",
       "      <td>-7.312336</td>\n",
       "      <td>False</td>\n",
       "      <td>55.0</td>\n",
       "      <td>-7.905948</td>\n",
       "    </tr>\n",
       "    <tr>\n",
       "      <th>203</th>\n",
       "      <td>n3_2</td>\n",
       "      <td>MGGAPAPDAHSAPPGNDSAAHIVMVDAYKPTKGGSEYHAPAGYQVN...</td>\n",
       "      <td>-7.742237</td>\n",
       "      <td>False</td>\n",
       "      <td>81.0</td>\n",
       "      <td>-8.701904</td>\n",
       "    </tr>\n",
       "    <tr>\n",
       "      <th>204</th>\n",
       "      <td>n4_2</td>\n",
       "      <td>MSRRPWLLALALAVALAAGSAGAAHIVMVDAYKPTKSTGSDATVPV...</td>\n",
       "      <td>-5.950239</td>\n",
       "      <td>False</td>\n",
       "      <td>54.0</td>\n",
       "      <td>-5.791737</td>\n",
       "    </tr>\n",
       "    <tr>\n",
       "      <th>205</th>\n",
       "      <td>n5_2</td>\n",
       "      <td>MSRLVAASWLLALLLCGITSTTTASAHIVMVDAYKPTKSAPAASST...</td>\n",
       "      <td>-5.012321</td>\n",
       "      <td>False</td>\n",
       "      <td>57.0</td>\n",
       "      <td>-5.904190</td>\n",
       "    </tr>\n",
       "  </tbody>\n",
       "</table>\n",
       "</div>"
      ],
      "text/plain": [
       "     name                                           sequence   log_GFP  \\\n",
       "201  n1_2  MGGAPAPDAHSAPPGNDSAAHIVMVDAYKPTKGGSEYHAPAGYQVN... -7.327994   \n",
       "202  n2_2  MSRLVAASWLLALLLCGITSTTTASAHIVMVDAYKPTKSAPAASST... -7.312336   \n",
       "203  n3_2  MGGAPAPDAHSAPPGNDSAAHIVMVDAYKPTKGGSEYHAPAGYQVN... -7.742237   \n",
       "204  n4_2  MSRRPWLLALALAVALAAGSAGAAHIVMVDAYKPTKSTGSDATVPV... -5.950239   \n",
       "205  n5_2  MSRLVAASWLLALLLCGITSTTTASAHIVMVDAYKPTKSAPAASST... -5.012321   \n",
       "\n",
       "     is_train     m  predicted_log_gfp  \n",
       "201     False  87.0          -8.570076  \n",
       "202     False  55.0          -7.905948  \n",
       "203     False  81.0          -8.701904  \n",
       "204     False  54.0          -5.791737  \n",
       "205     False  57.0          -5.904190  "
      ]
     },
     "execution_count": 102,
     "metadata": {},
     "output_type": "execute_result"
    }
   ],
   "source": [
    "df_test.head()"
   ]
  },
  {
   "cell_type": "code",
   "execution_count": 115,
   "metadata": {
    "ExecuteTime": {
     "end_time": "2020-08-10T21:59:16.769753Z",
     "start_time": "2020-08-10T21:59:16.718807Z"
    }
   },
   "outputs": [
    {
     "data": {
      "text/plain": [
       "44.44186046511628"
      ]
     },
     "execution_count": 115,
     "metadata": {},
     "output_type": "execute_result"
    }
   ],
   "source": [
    "df_train.m.mean()"
   ]
  },
  {
   "cell_type": "code",
   "execution_count": 116,
   "metadata": {
    "ExecuteTime": {
     "end_time": "2020-08-10T21:59:23.614821Z",
     "start_time": "2020-08-10T21:59:23.563734Z"
    }
   },
   "outputs": [
    {
     "data": {
      "text/plain": [
       "45.96969696969697"
      ]
     },
     "execution_count": 116,
     "metadata": {},
     "output_type": "execute_result"
    }
   ],
   "source": [
    "df_test.m.mean()"
   ]
  },
  {
   "cell_type": "code",
   "execution_count": 103,
   "metadata": {
    "ExecuteTime": {
     "end_time": "2020-08-10T21:57:15.693428Z",
     "start_time": "2020-08-10T21:57:15.580218Z"
    }
   },
   "outputs": [],
   "source": [
    "import hvplot.pandas"
   ]
  },
  {
   "cell_type": "code",
   "execution_count": 129,
   "metadata": {
    "ExecuteTime": {
     "end_time": "2020-08-10T22:01:42.904719Z",
     "start_time": "2020-08-10T22:01:42.737773Z"
    }
   },
   "outputs": [
    {
     "data": {},
     "metadata": {},
     "output_type": "display_data"
    },
    {
     "data": {
      "application/vnd.holoviews_exec.v0+json": "",
      "text/html": [
       "<div id='5553'>\n",
       "\n",
       "\n",
       "\n",
       "\n",
       "\n",
       "  <div class=\"bk-root\" id=\"ab20669b-651e-4c23-b7b1-a9fb62c22c7e\" data-root-id=\"5553\"></div>\n",
       "</div>\n",
       "<script type=\"application/javascript\">(function(root) {\n",
       "  function embed_document(root) {\n",
       "  var docs_json = {\"9661f336-d8b5-4b78-8398-ce864a80f633\":{\"roots\":{\"references\":[{\"attributes\":{},\"id\":\"5575\",\"type\":\"SaveTool\"},{\"attributes\":{\"data_source\":{\"id\":\"5593\"},\"glyph\":{\"id\":\"5596\"},\"hover_glyph\":{\"id\":\"5599\"},\"muted_glyph\":{\"id\":\"5600\"},\"nonselection_glyph\":{\"id\":\"5597\"},\"selection_glyph\":{\"id\":\"5598\"},\"view\":{\"id\":\"5602\"}},\"id\":\"5601\",\"type\":\"GlyphRenderer\"},{\"attributes\":{},\"id\":\"5563\",\"type\":\"LinearScale\"},{\"attributes\":{},\"id\":\"5590\",\"type\":\"BasicTickFormatter\"},{\"attributes\":{\"end\":-3.6137445979447973,\"reset_end\":-3.6137445979447973,\"reset_start\":-10.046516351669212,\"start\":-10.046516351669212,\"tags\":[[[\"log_GFP\",\"log_GFP\",null]]]},\"id\":\"5555\",\"type\":\"Range1d\"},{\"attributes\":{},\"id\":\"5572\",\"type\":\"BasicTicker\"},{\"attributes\":{},\"id\":\"5568\",\"type\":\"BasicTicker\"},{\"attributes\":{\"line_color\":\"grey\",\"line_width\":2,\"x\":{\"field\":\"x\"},\"y\":{\"field\":\"y\"}},\"id\":\"5609\",\"type\":\"Line\"},{\"attributes\":{\"line_alpha\":0.1,\"line_color\":\"grey\",\"line_width\":2,\"x\":{\"field\":\"x\"},\"y\":{\"field\":\"y\"}},\"id\":\"5610\",\"type\":\"Line\"},{\"attributes\":{\"data\":{\"x\":{\"__ndarray__\":\"Nsbq519nI8D6mhv+DuMiwL5vTBS+XiLAgkR9Km3aIcBGGa5AHFYhwAru3lbL0SDAzsIPbXpNIMAjL4EGU5IfwKvY4jKxiR7AM4JEXw+BHcC7K6aLbXgcwELVB7jLbxvAyn5p5ClnGsBSKMsQiF4ZwNrRLD3mVRjAYnuOaURNF8DqJPCVokQWwHLOUcIAPBXA+nez7l4zFMCCIRUbvSoTwA==\",\"dtype\":\"float64\",\"order\":\"little\",\"shape\":[20]},\"y\":{\"__ndarray__\":\"Nsbq519nI8D6mhv+DuMiwL5vTBS+XiLAgkR9Km3aIcBGGa5AHFYhwAru3lbL0SDAzsIPbXpNIMAjL4EGU5IfwKvY4jKxiR7AM4JEXw+BHcC7K6aLbXgcwELVB7jLbxvAyn5p5ClnGsBSKMsQiF4ZwNrRLD3mVRjAYnuOaURNF8DqJPCVokQWwHLOUcIAPBXA+nez7l4zFMCCIRUbvSoTwA==\",\"dtype\":\"float64\",\"order\":\"little\",\"shape\":[20]}},\"selected\":{\"id\":\"5607\"},\"selection_policy\":{\"id\":\"5623\"}},\"id\":\"5606\",\"type\":\"ColumnDataSource\"},{\"attributes\":{\"axis\":{\"id\":\"5571\"},\"dimension\":1,\"grid_line_color\":null,\"ticker\":null},\"id\":\"5574\",\"type\":\"Grid\"},{\"attributes\":{\"data\":{\"color\":{\"__ndarray__\":\"AAAAAADAVUAAAAAAAIBLQAAAAAAAQFRAAAAAAAAAS0AAAAAAAIBMQAAAAAAAgExAAAAAAAAAUkAAAAAAAAAwQAAAAAAAADtAAAAAAAAAUEAAAAAAAAAxQAAAAAAAwFNAAAAAAACAUEAAAAAAAIBJQAAAAAAAgEFAAAAAAACAQ0AAAAAAAIBDQAAAAAAAAEJAAAAAAACAQ0AAAAAAAIBDQAAAAAAAgEFAAAAAAAAAQ0AAAAAAAIBDQAAAAAAAgENAAAAAAACAQ0AAAAAAAABDQAAAAAAAAEFAAAAAAACAQkAAAAAAAABDQAAAAAAAAElAAAAAAAAARUAAAAAAAIBGQAAAAAAAgEBA\",\"dtype\":\"float64\",\"order\":\"little\",\"shape\":[33]},\"log_GFP\":{\"__ndarray__\":\"LfiUut1PHcDO5dAX1T8dwKq0eQEN+B7AfDN3WwvNF8DV7yzgnQwUwOzrfZ4NhiDAug6oFL7TG8C2tz7gX2QSwL8b6GV8PhTAlnw6qRZSHcDXGw2ak80SwIoE34cx9RzAwGC5pkZnF8BGT4WNtEsYwCuuAFTCph3AQJVgvVJ/H8DD8mlLXcsdwGKn69pPWhDA3A3U8gzmGsBiXicuBlYdwE/USn8P4BTAcT+zHfuPGcCOJ2tMi0MWwOQpJXlHxRvA2sA+YHfJHMD8h1iWFQEdwPCrpKrYOxHAdq9KzMsCH8Au2zQf3TMbwKmrEUe6rBHAOQC6HDttEsA9YkIpW5gQwGA/4ES3qg/A\",\"dtype\":\"float64\",\"order\":\"little\",\"shape\":[33]},\"m\":{\"__ndarray__\":\"AAAAAADAVUAAAAAAAIBLQAAAAAAAQFRAAAAAAAAAS0AAAAAAAIBMQAAAAAAAgExAAAAAAAAAUkAAAAAAAAAwQAAAAAAAADtAAAAAAAAAUEAAAAAAAAAxQAAAAAAAwFNAAAAAAACAUEAAAAAAAIBJQAAAAAAAgEFAAAAAAACAQ0AAAAAAAIBDQAAAAAAAAEJAAAAAAACAQ0AAAAAAAIBDQAAAAAAAgEFAAAAAAAAAQ0AAAAAAAIBDQAAAAAAAgENAAAAAAACAQ0AAAAAAAABDQAAAAAAAAEFAAAAAAACAQkAAAAAAAABDQAAAAAAAAElAAAAAAAAARUAAAAAAAIBGQAAAAAAAgEBA\",\"dtype\":\"float64\",\"order\":\"little\",\"shape\":[33]},\"predicted_log_gfp\":{\"__ndarray__\":\"7ItcD+EjIcBie8bmsJ8fwDbG6udfZyHAgiEVG70qF8B0gvgT5J0XwF/HsP3BSiDALBGFaIesIMCaWQYDQTkZwI4gh+HDgxnAuOt/gGjHH8Dj+NbJAq0YwKoNS0rRzBfAiCMpTHvhF8A0YVJIAB8YwCCNBNISCRrAmGq7TyzwGcCeYUJs55kbwA1QROJY8BrAThRyNjeAH8DTwDHmpAodwFl475oFGxjA13KLZsgXHsDh3uuzzP0ZwM6LEPIiih7AgE26N1OJHMDoUBjzVBIbwO7iR3e3txnAQA/W2y03HcDoSJlXGPoYwBbof4Kd5BfAKBHcXGWGGcAjRhiYYp4XwCKzyNXYOhfA\",\"dtype\":\"float64\",\"order\":\"little\",\"shape\":[33]}},\"selected\":{\"id\":\"5594\"},\"selection_policy\":{\"id\":\"5621\"}},\"id\":\"5593\",\"type\":\"ColumnDataSource\"},{\"attributes\":{},\"id\":\"5594\",\"type\":\"Selection\"},{\"attributes\":{\"text\":\"\",\"text_color\":{\"value\":\"black\"},\"text_font_size\":{\"value\":\"12pt\"}},\"id\":\"5559\",\"type\":\"Title\"},{\"attributes\":{\"children\":[{\"id\":\"5554\"},{\"id\":\"5558\"},{\"id\":\"5713\"}],\"margin\":[0,0,0,0],\"name\":\"Row09455\",\"tags\":[\"embedded\"]},\"id\":\"5553\",\"type\":\"Row\"},{\"attributes\":{\"axis\":{\"id\":\"5567\"},\"grid_line_color\":null,\"ticker\":null},\"id\":\"5570\",\"type\":\"Grid\"},{\"attributes\":{},\"id\":\"5621\",\"type\":\"UnionRenderers\"},{\"attributes\":{\"axis_label\":\"measured log (GFP)\",\"bounds\":\"auto\",\"formatter\":{\"id\":\"5588\"},\"major_label_orientation\":\"horizontal\",\"ticker\":{\"id\":\"5568\"}},\"id\":\"5567\",\"type\":\"LinearAxis\"},{\"attributes\":{},\"id\":\"5619\",\"type\":\"BasicTickFormatter\"},{\"attributes\":{\"margin\":[5,5,5,5],\"name\":\"HSpacer09460\",\"sizing_mode\":\"stretch_width\"},\"id\":\"5713\",\"type\":\"Spacer\"},{\"attributes\":{\"axis_label\":\"predicted log (GFP)\",\"bounds\":\"auto\",\"formatter\":{\"id\":\"5590\"},\"major_label_orientation\":\"horizontal\",\"ticker\":{\"id\":\"5572\"}},\"id\":\"5571\",\"type\":\"LinearAxis\"},{\"attributes\":{\"source\":{\"id\":\"5593\"}},\"id\":\"5602\",\"type\":\"CDSView\"},{\"attributes\":{},\"id\":\"5588\",\"type\":\"BasicTickFormatter\"},{\"attributes\":{},\"id\":\"5607\",\"type\":\"Selection\"},{\"attributes\":{\"source\":{\"id\":\"5606\"}},\"id\":\"5613\",\"type\":\"CDSView\"},{\"attributes\":{\"align\":null,\"below\":[{\"id\":\"5567\"}],\"center\":[{\"id\":\"5570\"},{\"id\":\"5574\"}],\"left\":[{\"id\":\"5571\"}],\"margin\":null,\"min_border_bottom\":10,\"min_border_left\":10,\"min_border_right\":10,\"min_border_top\":10,\"plot_height\":300,\"plot_width\":500,\"renderers\":[{\"id\":\"5601\"},{\"id\":\"5612\"}],\"right\":[{\"id\":\"5604\"}],\"sizing_mode\":\"fixed\",\"title\":{\"id\":\"5559\"},\"toolbar\":{\"id\":\"5581\"},\"x_range\":{\"id\":\"5555\"},\"x_scale\":{\"id\":\"5563\"},\"y_range\":{\"id\":\"5556\"},\"y_scale\":{\"id\":\"5565\"}},\"id\":\"5558\",\"subtype\":\"Figure\",\"type\":\"Plot\"},{\"attributes\":{\"fill_alpha\":{\"value\":0.9},\"fill_color\":{\"field\":\"color\",\"transform\":{\"id\":\"5592\"}},\"line_alpha\":{\"value\":0.9},\"line_color\":{\"field\":\"color\",\"transform\":{\"id\":\"5592\"}},\"size\":{\"units\":\"screen\",\"value\":7.0710678118654755},\"x\":{\"field\":\"log_GFP\"},\"y\":{\"field\":\"predicted_log_gfp\"}},\"id\":\"5599\",\"type\":\"Scatter\"},{\"attributes\":{\"end\":-4.300720349064163,\"reset_end\":-4.300720349064163,\"reset_start\":-10.192920236428634,\"start\":-10.192920236428634,\"tags\":[[[\"predicted_log_gfp\",\"predicted_log_gfp\",null]]]},\"id\":\"5556\",\"type\":\"Range1d\"},{\"attributes\":{},\"id\":\"5565\",\"type\":\"LinearScale\"},{\"attributes\":{},\"id\":\"5579\",\"type\":\"ResetTool\"},{\"attributes\":{\"bottom_units\":\"screen\",\"fill_alpha\":0.5,\"fill_color\":\"lightgrey\",\"left_units\":\"screen\",\"level\":\"overlay\",\"line_alpha\":1.0,\"line_color\":\"black\",\"line_dash\":[4,4],\"line_width\":2,\"right_units\":\"screen\",\"top_units\":\"screen\"},\"id\":\"5580\",\"type\":\"BoxAnnotation\"},{\"attributes\":{\"bar_line_color\":\"black\",\"color_mapper\":{\"id\":\"5592\"},\"formatter\":{\"id\":\"5619\"},\"label_standoff\":8,\"location\":[0,0],\"major_tick_line_color\":\"black\",\"ticker\":{\"id\":\"5603\"},\"title\":\"# mutations\"},\"id\":\"5604\",\"type\":\"ColorBar\"},{\"attributes\":{\"data_source\":{\"id\":\"5606\"},\"glyph\":{\"id\":\"5609\"},\"hover_glyph\":null,\"muted_glyph\":{\"id\":\"5611\"},\"nonselection_glyph\":{\"id\":\"5610\"},\"selection_glyph\":null,\"view\":{\"id\":\"5613\"}},\"id\":\"5612\",\"type\":\"GlyphRenderer\"},{\"attributes\":{},\"id\":\"5576\",\"type\":\"PanTool\"},{\"attributes\":{\"margin\":[5,5,5,5],\"name\":\"HSpacer09459\",\"sizing_mode\":\"stretch_width\"},\"id\":\"5554\",\"type\":\"Spacer\"},{\"attributes\":{\"callback\":null,\"renderers\":[{\"id\":\"5601\"}],\"tags\":[\"hv_created\"],\"tooltips\":[[\"log_GFP\",\"@{log_GFP}\"],[\"predicted_log_gfp\",\"@{predicted_log_gfp}\"],[\"m\",\"@{m}\"]]},\"id\":\"5557\",\"type\":\"HoverTool\"},{\"attributes\":{\"high\":87.0,\"low\":16.0,\"palette\":[\"#fde724\",\"#fae622\",\"#f8e621\",\"#f6e61f\",\"#f3e51e\",\"#f1e51c\",\"#eee51b\",\"#ece41a\",\"#e9e419\",\"#e7e419\",\"#e4e318\",\"#e1e318\",\"#dfe318\",\"#dce218\",\"#dae218\",\"#d7e219\",\"#d4e11a\",\"#d2e11b\",\"#cfe11c\",\"#cde01d\",\"#cae01e\",\"#c7e01f\",\"#c5df21\",\"#c2df22\",\"#bfdf24\",\"#bdde26\",\"#bade27\",\"#b7dd29\",\"#b5dd2b\",\"#b2dd2c\",\"#afdc2e\",\"#addc30\",\"#aadb32\",\"#a7db33\",\"#a5da35\",\"#a2da37\",\"#9fd938\",\"#9dd93a\",\"#9ad83c\",\"#97d83e\",\"#95d73f\",\"#92d741\",\"#90d643\",\"#8dd644\",\"#8bd546\",\"#88d547\",\"#86d449\",\"#83d34b\",\"#81d34c\",\"#7ed24e\",\"#7cd24f\",\"#79d151\",\"#77d052\",\"#74d054\",\"#72cf55\",\"#70ce56\",\"#6dce58\",\"#6bcd59\",\"#69cc5b\",\"#67cc5c\",\"#64cb5d\",\"#62ca5f\",\"#60c960\",\"#5ec961\",\"#5bc862\",\"#59c764\",\"#57c665\",\"#55c666\",\"#53c567\",\"#51c468\",\"#4fc369\",\"#4dc26b\",\"#4bc26c\",\"#49c16d\",\"#47c06e\",\"#45bf6f\",\"#44be70\",\"#42be71\",\"#40bd72\",\"#3ebc73\",\"#3dbb74\",\"#3bba75\",\"#39b976\",\"#38b976\",\"#36b877\",\"#35b778\",\"#33b679\",\"#32b57a\",\"#30b47a\",\"#2fb37b\",\"#2eb27c\",\"#2cb17d\",\"#2bb17d\",\"#2ab07e\",\"#29af7f\",\"#28ae7f\",\"#27ad80\",\"#26ac81\",\"#25ab81\",\"#24aa82\",\"#23a982\",\"#23a883\",\"#22a784\",\"#21a784\",\"#21a685\",\"#20a585\",\"#20a485\",\"#1fa386\",\"#1fa286\",\"#1fa187\",\"#1ea087\",\"#1e9f88\",\"#1e9e88\",\"#1e9d88\",\"#1e9c89\",\"#1e9b89\",\"#1e9a89\",\"#1e998a\",\"#1e998a\",\"#1e988a\",\"#1e978a\",\"#1f968b\",\"#1f958b\",\"#1f948b\",\"#1f938b\",\"#1f928c\",\"#20918c\",\"#20908c\",\"#208f8c\",\"#218e8c\",\"#218d8c\",\"#218c8d\",\"#228b8d\",\"#228a8d\",\"#22898d\",\"#23898d\",\"#23888d\",\"#23878d\",\"#24868d\",\"#24858d\",\"#24848d\",\"#25838d\",\"#25828e\",\"#26818e\",\"#26808e\",\"#267f8e\",\"#277e8e\",\"#277d8e\",\"#277c8e\",\"#287b8e\",\"#287a8e\",\"#287a8e\",\"#29798e\",\"#29788e\",\"#2a778e\",\"#2a768e\",\"#2a758e\",\"#2b748e\",\"#2b738e\",\"#2c728e\",\"#2c718e\",\"#2c708e\",\"#2d6f8e\",\"#2d6e8e\",\"#2e6d8e\",\"#2e6c8e\",\"#2e6b8e\",\"#2f6a8d\",\"#2f698d\",\"#30688d\",\"#30678d\",\"#31668d\",\"#31658d\",\"#31648d\",\"#32638d\",\"#32628d\",\"#33618d\",\"#33608d\",\"#345f8d\",\"#345e8d\",\"#355d8c\",\"#355c8c\",\"#365b8c\",\"#365a8c\",\"#37598c\",\"#37588c\",\"#38578c\",\"#38568b\",\"#39558b\",\"#39548b\",\"#3a538b\",\"#3a528b\",\"#3b518a\",\"#3b508a\",\"#3c4e8a\",\"#3c4d8a\",\"#3d4c89\",\"#3d4b89\",\"#3d4a89\",\"#3e4989\",\"#3e4888\",\"#3f4788\",\"#3f4587\",\"#404487\",\"#404387\",\"#414286\",\"#414186\",\"#424085\",\"#423e85\",\"#423d84\",\"#433c84\",\"#433b83\",\"#433a83\",\"#443982\",\"#443781\",\"#453681\",\"#453580\",\"#45347f\",\"#45327f\",\"#46317e\",\"#46307d\",\"#462f7c\",\"#462d7c\",\"#472c7b\",\"#472b7a\",\"#472a79\",\"#472878\",\"#472777\",\"#472676\",\"#472575\",\"#482374\",\"#482273\",\"#482172\",\"#482071\",\"#481e70\",\"#481d6f\",\"#481c6e\",\"#481a6c\",\"#48196b\",\"#47186a\",\"#471669\",\"#471567\",\"#471466\",\"#471265\",\"#471163\",\"#470f62\",\"#460e61\",\"#460c5f\",\"#460b5e\",\"#46095c\",\"#45085b\",\"#45065a\",\"#450558\",\"#440357\",\"#440255\",\"#440154\"]},\"id\":\"5592\",\"type\":\"LinearColorMapper\"},{\"attributes\":{},\"id\":\"5577\",\"type\":\"WheelZoomTool\"},{\"attributes\":{\"fill_alpha\":{\"value\":0.2},\"fill_color\":{\"field\":\"color\",\"transform\":{\"id\":\"5592\"}},\"line_alpha\":{\"value\":0.2},\"line_color\":{\"field\":\"color\",\"transform\":{\"id\":\"5592\"}},\"size\":{\"units\":\"screen\",\"value\":7.0710678118654755},\"x\":{\"field\":\"log_GFP\"},\"y\":{\"field\":\"predicted_log_gfp\"}},\"id\":\"5600\",\"type\":\"Scatter\"},{\"attributes\":{\"fill_alpha\":{\"value\":0.9},\"fill_color\":{\"field\":\"color\",\"transform\":{\"id\":\"5592\"}},\"line_alpha\":{\"value\":0.9},\"line_color\":{\"field\":\"color\",\"transform\":{\"id\":\"5592\"}},\"size\":{\"units\":\"screen\",\"value\":7.0710678118654755},\"x\":{\"field\":\"log_GFP\"},\"y\":{\"field\":\"predicted_log_gfp\"}},\"id\":\"5596\",\"type\":\"Scatter\"},{\"attributes\":{\"fill_alpha\":{\"value\":0.9},\"fill_color\":{\"field\":\"color\",\"transform\":{\"id\":\"5592\"}},\"line_alpha\":{\"value\":0.9},\"line_color\":{\"field\":\"color\",\"transform\":{\"id\":\"5592\"}},\"size\":{\"units\":\"screen\",\"value\":7.0710678118654755},\"x\":{\"field\":\"log_GFP\"},\"y\":{\"field\":\"predicted_log_gfp\"}},\"id\":\"5598\",\"type\":\"Scatter\"},{\"attributes\":{\"fill_alpha\":{\"value\":0.9},\"fill_color\":{\"field\":\"color\",\"transform\":{\"id\":\"5592\"}},\"line_alpha\":{\"value\":0.9},\"line_color\":{\"field\":\"color\",\"transform\":{\"id\":\"5592\"}},\"size\":{\"units\":\"screen\",\"value\":7.0710678118654755},\"x\":{\"field\":\"log_GFP\"},\"y\":{\"field\":\"predicted_log_gfp\"}},\"id\":\"5597\",\"type\":\"Scatter\"},{\"attributes\":{\"line_alpha\":0.2,\"line_color\":\"grey\",\"line_width\":2,\"x\":{\"field\":\"x\"},\"y\":{\"field\":\"y\"}},\"id\":\"5611\",\"type\":\"Line\"},{\"attributes\":{\"overlay\":{\"id\":\"5580\"}},\"id\":\"5578\",\"type\":\"BoxZoomTool\"},{\"attributes\":{},\"id\":\"5603\",\"type\":\"BasicTicker\"},{\"attributes\":{},\"id\":\"5623\",\"type\":\"UnionRenderers\"},{\"attributes\":{\"active_drag\":\"auto\",\"active_inspect\":\"auto\",\"active_multi\":null,\"active_scroll\":\"auto\",\"active_tap\":\"auto\",\"tools\":[{\"id\":\"5557\"},{\"id\":\"5575\"},{\"id\":\"5576\"},{\"id\":\"5577\"},{\"id\":\"5578\"},{\"id\":\"5579\"}]},\"id\":\"5581\",\"type\":\"Toolbar\"}],\"root_ids\":[\"5553\"]},\"title\":\"Bokeh Application\",\"version\":\"2.1.1\"}};\n",
       "  var render_items = [{\"docid\":\"9661f336-d8b5-4b78-8398-ce864a80f633\",\"root_ids\":[\"5553\"],\"roots\":{\"5553\":\"ab20669b-651e-4c23-b7b1-a9fb62c22c7e\"}}];\n",
       "  root.Bokeh.embed.embed_items_notebook(docs_json, render_items);\n",
       "  }\n",
       "if (root.Bokeh !== undefined) {\n",
       "    embed_document(root);\n",
       "  } else {\n",
       "    var attempts = 0;\n",
       "    var timer = setInterval(function(root) {\n",
       "      if (root.Bokeh !== undefined) {\n",
       "        clearInterval(timer);\n",
       "        embed_document(root);\n",
       "      } else if (document.readyState == \"complete\") {\n",
       "        attempts++;\n",
       "        if (attempts > 100) {\n",
       "          clearInterval(timer);\n",
       "          console.log(\"Bokeh: ERROR: Unable to run BokehJS code because BokehJS library is missing\");\n",
       "        }\n",
       "      }\n",
       "    }, 10, root)\n",
       "  }\n",
       "})(window);</script>"
      ],
      "text/plain": [
       ":Overlay\n",
       "   .Scatter.I :Scatter   [log_GFP]   (predicted_log_gfp,m)\n",
       "   .Curve.I   :Curve   [x]   (y)"
      ]
     },
     "execution_count": 129,
     "metadata": {
      "application/vnd.holoviews_exec.v0+json": {
       "id": "5553"
      }
     },
     "output_type": "execute_result"
    }
   ],
   "source": [
    "df_test.hvplot.scatter(\n",
    "    x = 'log_GFP', \n",
    "    y = 'predicted_log_gfp', \n",
    "    color = 'm',\n",
    "    width = 500, \n",
    "    size = 50, \n",
    "    alpha = 0.9,\n",
    "    xlabel = 'measured log (GFP)',\n",
    "    ylabel = 'predicted log (GFP)',\n",
    "    cmap = 'viridis_r', \n",
    "    clabel = '# mutations'\n",
    ")*line_plot"
   ]
  },
  {
   "cell_type": "markdown",
   "metadata": {},
   "source": [
    "We can see that there is not really a visible trend whereby the highly mutated sequences deviate from the prediction line. If anything, the model makes the worst predictions (underestimates) the proteins with the highest expression. Let's see if this is somehow an hard extrapolation error due to the training set not containing proteins with as much localization as the test set. "
   ]
  },
  {
   "cell_type": "code",
   "execution_count": 159,
   "metadata": {
    "ExecuteTime": {
     "end_time": "2020-08-10T22:10:54.459201Z",
     "start_time": "2020-08-10T22:10:54.417069Z"
    }
   },
   "outputs": [
    {
     "data": {
      "text/plain": [
       "222   -4.040097\n",
       "62    -4.153545\n",
       "4     -4.187052\n",
       "218   -4.340050\n",
       "156   -4.353863\n",
       "102   -4.558817\n",
       "167   -4.573850\n",
       "169   -4.576447\n",
       "158   -4.585620\n",
       "67    -4.593912\n",
       "Name: log_GFP, dtype: float64"
      ]
     },
     "execution_count": 159,
     "metadata": {},
     "output_type": "execute_result"
    }
   ],
   "source": [
    "df_train.log_GFP.sort_values(ascending = False).head(10)"
   ]
  },
  {
   "cell_type": "code",
   "execution_count": 160,
   "metadata": {
    "ExecuteTime": {
     "end_time": "2020-08-10T22:11:08.109982Z",
     "start_time": "2020-08-10T22:11:08.062526Z"
    }
   },
   "outputs": [
    {
     "data": {
      "text/plain": [
       "253   -3.958357\n",
       "237   -4.088195\n",
       "252   -4.148785\n",
       "247   -4.308444\n",
       "250   -4.418679\n",
       "208   -4.598022\n",
       "251   -4.606671\n",
       "211   -4.700758\n",
       "205   -5.012321\n",
       "209   -5.061021\n",
       "Name: log_GFP, dtype: float64"
      ]
     },
     "execution_count": 160,
     "metadata": {},
     "output_type": "execute_result"
    }
   ],
   "source": [
    "df_test.log_GFP.sort_values(ascending = False).head(10)"
   ]
  },
  {
   "cell_type": "markdown",
   "metadata": {},
   "source": [
    "We can see that the training set does contain a lot of proteins with high GFP  (high localization) and therefore this is not the cause of the higher error in high expressors. Future work could focus on playing with the parameter $\\alpha$ that controls the sparsity inducing force of Lasso. "
   ]
  },
  {
   "cell_type": "markdown",
   "metadata": {},
   "source": [
    "#### Reproducibility"
   ]
  },
  {
   "cell_type": "code",
   "execution_count": 162,
   "metadata": {
    "ExecuteTime": {
     "end_time": "2020-08-10T22:13:13.142572Z",
     "start_time": "2020-08-10T22:13:13.038146Z"
    }
   },
   "outputs": [
    {
     "name": "stdout",
     "output_type": "stream",
     "text": [
      "The watermark extension is already loaded. To reload it, use:\n",
      "  %reload_ext watermark\n",
      "CPython 3.7.6\n",
      "IPython 7.16.1\n",
      "\n",
      "sklearn 0.23.1\n",
      "torch 1.5.1\n",
      "numpy 1.19.1\n",
      "pandas 1.1.0\n",
      "holoviews 1.13.3\n",
      "bokeh 2.1.1\n",
      "\n",
      "compiler   : Clang 9.0.1 \n",
      "system     : Darwin\n",
      "release    : 19.5.0\n",
      "machine    : x86_64\n",
      "processor  : i386\n",
      "CPU cores  : 8\n",
      "interpreter: 64bit\n"
     ]
    }
   ],
   "source": [
    "%load_ext watermark\n",
    "%watermark -v -m -p  sklearn,torch,numpy,pandas,holoviews,bokeh"
   ]
  }
 ],
 "metadata": {
  "kernelspec": {
   "display_name": "Python 3",
   "language": "python",
   "name": "python3"
  },
  "language_info": {
   "codemirror_mode": {
    "name": "ipython",
    "version": 3
   },
   "file_extension": ".py",
   "mimetype": "text/x-python",
   "name": "python",
   "nbconvert_exporter": "python",
   "pygments_lexer": "ipython3",
   "version": "3.7.6"
  },
  "toc": {
   "base_numbering": 1,
   "nav_menu": {},
   "number_sections": true,
   "sideBar": true,
   "skip_h1_title": false,
   "title_cell": "Table of Contents",
   "title_sidebar": "Contents",
   "toc_cell": false,
   "toc_position": {},
   "toc_section_display": true,
   "toc_window_display": false
  },
  "varInspector": {
   "cols": {
    "lenName": 16,
    "lenType": 16,
    "lenVar": 40
   },
   "kernels_config": {
    "python": {
     "delete_cmd_postfix": "",
     "delete_cmd_prefix": "del ",
     "library": "var_list.py",
     "varRefreshCmd": "print(var_dic_list())"
    },
    "r": {
     "delete_cmd_postfix": ") ",
     "delete_cmd_prefix": "rm(",
     "library": "var_list.r",
     "varRefreshCmd": "cat(var_dic_list()) "
    }
   },
   "types_to_exclude": [
    "module",
    "function",
    "builtin_function_or_method",
    "instance",
    "_Feature"
   ],
   "window_display": false
  }
 },
 "nbformat": 4,
 "nbformat_minor": 2
}
